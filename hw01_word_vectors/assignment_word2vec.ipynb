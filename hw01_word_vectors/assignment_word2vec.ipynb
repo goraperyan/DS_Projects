{
 "cells": [
  {
   "cell_type": "markdown",
   "metadata": {
    "id": "nTSf4ro-qU0d"
   },
   "source": [
    "## Бонусное задание: word2vec на PyTorch\n",
    "\n",
    "Как вы уже могли заметить, идея, лежащая в основе [word2vec](https://arxiv.org/pdf/1310.4546), достаточно общая. В данном задании вы реализуете его самостоятельно.\n",
    "\n",
    "Дисклеймер: не стоит удивляться тому, что реализация от `gensim` (или аналоги) обучается быстрее и работает точнее. Она использует множество доработок и ускорений, а также достаточно эффективный код. Ваша задача добиться промежуточных результатов за разумное время.\n",
    "\n",
    "P.s. Как ни странно, GPU в этом задании нам не потребуется."
   ]
  },
  {
   "cell_type": "markdown",
   "metadata": {},
   "source": [
    "__Requirements:__ if you're running locally, in the selected environment run the following command:\n",
    "\n",
    "```pip install --upgrade nltk bokeh umap-learn```\n"
   ]
  },
  {
   "cell_type": "code",
   "execution_count": 2,
   "metadata": {
    "id": "Oipe2DU8qfm7"
   },
   "outputs": [],
   "source": [
    "# !pip install --upgrade nltk bokeh umap-learn"
   ]
  },
  {
   "cell_type": "code",
   "execution_count": 1,
   "metadata": {
    "id": "pqPU4Lu2qU0h"
   },
   "outputs": [
    {
     "name": "stderr",
     "output_type": "stream",
     "text": [
      "/Users/gor/mipt/ds/venv/lib/python3.13/site-packages/tqdm/auto.py:21: TqdmWarning: IProgress not found. Please update jupyter and ipywidgets. See https://ipywidgets.readthedocs.io/en/stable/user_install.html\n",
      "  from .autonotebook import tqdm as notebook_tqdm\n"
     ]
    }
   ],
   "source": [
    "import itertools\n",
    "import random\n",
    "import string\n",
    "from collections import Counter\n",
    "from itertools import chain\n",
    "\n",
    "import matplotlib.pyplot as plt\n",
    "import numpy as np\n",
    "import torch\n",
    "import torch.autograd as autograd\n",
    "import torch.nn as nn\n",
    "import torch.nn.functional as F\n",
    "import torch.optim as optim\n",
    "import umap\n",
    "from IPython.display import clear_output\n",
    "from matplotlib import pyplot as plt\n",
    "from nltk.tokenize import WordPunctTokenizer\n",
    "from torch.optim.lr_scheduler import ReduceLROnPlateau, StepLR\n",
    "from tqdm.auto import tqdm as tqdma"
   ]
  },
  {
   "cell_type": "code",
   "execution_count": 2,
   "metadata": {
    "colab": {
     "base_uri": "https://localhost:8080/"
    },
    "id": "8Fbx57z3qU0i",
    "outputId": "699ab6a7-41b9-402f-b842-039142bea06a"
   },
   "outputs": [],
   "source": [
    "# download the data:\n",
    "# !wget https://www.dropbox.com/s/obaitrix9jyu84r/quora.txt?dl=1 -O ./quora.txt -nc\n",
    "# alternative download link: https://yadi.sk/i/BPQrUu1NaTduEw"
   ]
  },
  {
   "cell_type": "code",
   "execution_count": 3,
   "metadata": {
    "colab": {
     "base_uri": "https://localhost:8080/",
     "height": 37
    },
    "id": "8EYy5dQpqU0i",
    "outputId": "57a393d2-d5f5-4fa9-f46d-1b268d7798ae",
    "scrolled": false
   },
   "outputs": [
    {
     "data": {
      "text/plain": [
       "\"What TV shows or books help you read people's body language?\\n\""
      ]
     },
     "execution_count": 3,
     "metadata": {},
     "output_type": "execute_result"
    }
   ],
   "source": [
    "data = list(open(\"./quora.txt\", encoding=\"utf-8\"))\n",
    "data[50]"
   ]
  },
  {
   "cell_type": "markdown",
   "metadata": {
    "id": "feBEGI2eqU0j"
   },
   "source": [
    "Токенизация – первый шаг.\n",
    "Тексты, с которыми мы работаем, включают в себя пунктуацию, смайлики и прочие нестандартные токены, так что простой `str.split` не подойдет.\n",
    "\n",
    "Обратимся к `nltk` - библиотеку, нашла широкое применеие в области NLP."
   ]
  },
  {
   "cell_type": "code",
   "execution_count": 4,
   "metadata": {
    "colab": {
     "base_uri": "https://localhost:8080/"
    },
    "id": "7mWTvm50qU0j",
    "outputId": "18272985-9762-4288-8457-76fa78a44d52"
   },
   "outputs": [
    {
     "name": "stdout",
     "output_type": "stream",
     "text": [
      "['What', 'TV', 'shows', 'or', 'books', 'help', 'you', 'read', 'people', \"'\", 's', 'body', 'language', '?']\n"
     ]
    }
   ],
   "source": [
    "tokenizer = WordPunctTokenizer()\n",
    "\n",
    "print(tokenizer.tokenize(data[50]))"
   ]
  },
  {
   "cell_type": "code",
   "execution_count": 5,
   "metadata": {
    "id": "HzC05EHWqU0j"
   },
   "outputs": [],
   "source": [
    "data_tok = [\n",
    "    tokenizer.tokenize(\n",
    "        line.translate(str.maketrans(\"\", \"\", string.punctuation)).lower()\n",
    "    )\n",
    "    for line in data\n",
    "]\n",
    "data_tok = [x for x in data_tok if len(x) >= 3]"
   ]
  },
  {
   "cell_type": "markdown",
   "metadata": {
    "id": "6azRAgHIqU0k"
   },
   "source": [
    "Несколько проверок:"
   ]
  },
  {
   "cell_type": "code",
   "execution_count": 6,
   "metadata": {
    "id": "Cp8UpxdWqU0k"
   },
   "outputs": [],
   "source": [
    "assert all(\n",
    "    isinstance(row, (list, tuple)) for row in data_tok\n",
    "), \"please convert each line into a list of tokens (strings)\"\n",
    "assert all(\n",
    "    all(isinstance(tok, str) for tok in row) for row in data_tok\n",
    "), \"please convert each line into a list of tokens (strings)\"\n",
    "is_latin = lambda tok: all(\"a\" <= x.lower() <= \"z\" for x in tok)\n",
    "assert all(\n",
    "    map(lambda l: not is_latin(l) or l.islower(), map(\" \".join, data_tok))\n",
    "), \"please make sure to lowercase the data\""
   ]
  },
  {
   "cell_type": "markdown",
   "metadata": {
    "id": "37e7-MIhqU0x"
   },
   "source": [
    "Ниже заданы константы ширины окна контекста и проведена предобработка для построения skip-gram модели."
   ]
  },
  {
   "cell_type": "code",
   "execution_count": 7,
   "metadata": {
    "id": "fugc1IomqU0x"
   },
   "outputs": [],
   "source": [
    "min_count = 5\n",
    "window_radius = 5"
   ]
  },
  {
   "cell_type": "code",
   "execution_count": 58,
   "metadata": {},
   "outputs": [],
   "source": [
    "vocabulary_with_counter = Counter(chain.from_iterable(data_tok))\n",
    "\n",
    "word_count_dict = dict()\n",
    "for word, counter in vocabulary_with_counter.items():\n",
    "    if counter >= min_count:\n",
    "        word_count_dict[word] = counter\n",
    "\n",
    "vocabulary = set(word_count_dict.keys())\n",
    "del vocabulary_with_counter"
   ]
  },
  {
   "cell_type": "code",
   "execution_count": 59,
   "metadata": {},
   "outputs": [],
   "source": [
    "word_to_index = {word: index for index, word in enumerate(vocabulary)}\n",
    "index_to_word = {index: word for word, index in word_to_index.items()}"
   ]
  },
  {
   "cell_type": "markdown",
   "metadata": {
    "id": "4Y8rlBfqqU0x"
   },
   "source": [
    "Пары `(слово, контекст)` на основе доступного датасета сгенерированы ниже."
   ]
  },
  {
   "cell_type": "code",
   "execution_count": 60,
   "metadata": {
    "id": "h2-aqyyaqU0x"
   },
   "outputs": [
    {
     "name": "stdout",
     "output_type": "stream",
     "text": [
      "Generated 40220313 pairs of target and context words.\n"
     ]
    }
   ],
   "source": [
    "context_pairs = []\n",
    "\n",
    "for text in data_tok:\n",
    "    for i, central_word in enumerate(text):\n",
    "        context_indices = range(\n",
    "            max(0, i - window_radius), min(i + window_radius, len(text))\n",
    "        )\n",
    "        for j in context_indices:\n",
    "            if j == i:\n",
    "                continue\n",
    "            context_word = text[j]\n",
    "            if central_word in vocabulary and context_word in vocabulary:\n",
    "                context_pairs.append(\n",
    "                    (word_to_index[central_word], word_to_index[context_word])\n",
    "                )\n",
    "\n",
    "print(f\"Generated {len(context_pairs)} pairs of target and context words.\")"
   ]
  },
  {
   "cell_type": "markdown",
   "metadata": {},
   "source": [
    "#### Подзадача №1: subsampling\n",
    "Для того, чтобы сгладить разницу в частоте встречаемсости слов, необходимо реализовать механизм subsampling'а.\n",
    "Для этого вам необходимо реализовать функцию ниже.\n",
    "\n",
    "Вероятность **исключить** слово из обучения (на фиксированном шаге) вычисляется как\n",
    "$$\n",
    "P_\\text{drop}(w_i)=1 - \\sqrt{\\frac{t}{f(w_i)}},\n",
    "$$\n",
    "где $f(w_i)$ – нормированная частота встречаемости слова, а $t$ – заданный порог (threshold)."
   ]
  },
  {
   "cell_type": "code",
   "execution_count": null,
   "metadata": {},
   "outputs": [],
   "source": [
    "def subsample_frequent_words(word_count_dict, threshold=1e-5):\n",
    "    \"\"\"\n",
    "    Calculates the subsampling probabilities for words based on their frequencies.\n",
    "\n",
    "    This function is used to determine the probability of keeping a word in the dataset\n",
    "    when subsampling frequent words. The method used is inspired by the subsampling approach\n",
    "    in Word2Vec, where each word's frequency affects its probability of being kept.\n",
    "\n",
    "    Parameters:\n",
    "    - word_count_dict (dict): A dictionary where keys are words and values are the counts of those words.\n",
    "    - threshold (float, optional): A threshold parameter used to adjust the frequency of word subsampling.\n",
    "                                   Defaults to 1e-5.\n",
    "\n",
    "    Returns:\n",
    "    - dict: A dictionary where keys are words and values are the probabilities of keeping each word.\n",
    "\n",
    "    Example:\n",
    "    >>> word_counts = {'the': 5000, 'is': 1000, 'apple': 50}\n",
    "    >>> subsample_frequent_words(word_counts)\n",
    "    {'the': 0.028, 'is': 0.223, 'apple': 1.0}\n",
    "    \"\"\"\n",
    "    total_words = sum(word_count_dict.values())\n",
    "    keep_prob_dict = {\n",
    "        word: 1 - (threshold / word_count_dict[word] * total_words) ** 0.5 for word in word_count_dict.keys()\n",
    "    }\n",
    "    return keep_prob_dict"
   ]
  },
  {
   "cell_type": "markdown",
   "metadata": {},
   "source": [
    "#### Подзадача №2: negative sampling\n",
    "Для более эффективного обучения необходимо не только предсказывать высокие вероятности для слов из контекста, но и предсказывать низкие для слов, не встреченных в контексте. Для этого вам необходимо вычислить вероятност использовать слово в качестве negative sample, реализовав функцию ниже.\n",
    "\n",
    "В оригинальной статье предлагается оценивать вероятность слов выступать в качестве negative sample согласно распределению $P_n(w)$\n",
    "$$\n",
    "P_n(w) = \\frac{U(w)^{3/4}}{Z},\n",
    "$$\n",
    "\n",
    "где $U(w)$ распределение слов по частоте (или, как его еще называют, по униграммам), а $Z$ – нормировочная константа, чтобы общая мера была равна $1$."
   ]
  },
  {
   "cell_type": "code",
   "execution_count": 76,
   "metadata": {},
   "outputs": [],
   "source": [
    "def get_negative_sampling_prob(word_count_dict):\n",
    "    \"\"\"\n",
    "    Calculates the negative sampling probabilities for words based on their frequencies.\n",
    "\n",
    "    This function adjusts the frequency of each word raised to the power of 0.75, which is\n",
    "    commonly used in algorithms like Word2Vec to moderate the influence of very frequent words.\n",
    "    It then normalizes these adjusted frequencies to ensure they sum to 1, forming a probability\n",
    "    distribution used for negative sampling.\n",
    "\n",
    "    Parameters:\n",
    "    - word_count_dict (dict): A dictionary where keys are words and values are the counts of those words.\n",
    "\n",
    "    Returns:\n",
    "    - dict: A dictionary where keys are words and values are the probabilities of selecting each word\n",
    "            for negative sampling.\n",
    "\n",
    "    Example:\n",
    "    >>> word_counts = {'the': 5000, 'is': 1000, 'apple': 50}\n",
    "    >>> get_negative_sampling_prob(word_counts)\n",
    "    {'the': 0.298, 'is': 0.160, 'apple': 0.042}\n",
    "    \"\"\"\n",
    "    total_words = sum(word_count_dict.values())\n",
    "    powered_unigram_distribution = {\n",
    "        word: (word_count_dict[word] / total_words) ** 0.75 for word in word_count_dict.keys()\n",
    "    }\n",
    "    z = sum(powered_unigram_distribution.values())\n",
    "    negative_sampling_prob_dict = {\n",
    "        word: count / z for word, count in powered_unigram_distribution.items()\n",
    "    }\n",
    "    return negative_sampling_prob_dict"
   ]
  },
  {
   "cell_type": "markdown",
   "metadata": {},
   "source": [
    "Для удобства, преобразуем полученные словари в массивы (т.к. все слова все равно уже пронумерованы)."
   ]
  },
  {
   "cell_type": "code",
   "execution_count": 77,
   "metadata": {},
   "outputs": [],
   "source": [
    "keep_prob_dict = subsample_frequent_words(word_count_dict)\n",
    "assert keep_prob_dict.keys() == word_count_dict.keys()"
   ]
  },
  {
   "cell_type": "code",
   "execution_count": 78,
   "metadata": {},
   "outputs": [],
   "source": [
    "negative_sampling_prob_dict = get_negative_sampling_prob(word_count_dict)\n",
    "assert negative_sampling_prob_dict.keys() == negative_sampling_prob_dict.keys()\n",
    "assert np.allclose(sum(negative_sampling_prob_dict.values()), 1)"
   ]
  },
  {
   "cell_type": "code",
   "execution_count": 79,
   "metadata": {},
   "outputs": [],
   "source": [
    "keep_prob_array = np.array(\n",
    "    [keep_prob_dict[index_to_word[idx]] for idx in range(len(word_to_index))]\n",
    ")\n",
    "negative_sampling_prob_array = np.array(\n",
    "    [\n",
    "        negative_sampling_prob_dict[index_to_word[idx]]\n",
    "        for idx in range(len(word_to_index))\n",
    "    ]\n",
    ")"
   ]
  },
  {
   "cell_type": "markdown",
   "metadata": {},
   "source": [
    "Если все прошло успешно, функция ниже поможет вам с генерацией подвыборок (батчей)."
   ]
  },
  {
   "cell_type": "code",
   "execution_count": 83,
   "metadata": {},
   "outputs": [],
   "source": [
    "def generate_batch_with_neg_samples(\n",
    "    context_pairs,\n",
    "    batch_size,\n",
    "    keep_prob_array,\n",
    "    word_to_index,\n",
    "    num_negatives,\n",
    "    negative_sampling_prob_array,\n",
    "):\n",
    "    batch = []\n",
    "    neg_samples = []\n",
    "\n",
    "    while len(batch) < batch_size:\n",
    "        center, context = random.choice(context_pairs)\n",
    "        if random.random() < keep_prob_array[center]:\n",
    "            batch.append((center, context))\n",
    "            neg_sample = np.random.choice(\n",
    "                range(len(negative_sampling_prob_array)),\n",
    "                size=num_negatives,\n",
    "                p=negative_sampling_prob_array,\n",
    "            )\n",
    "            neg_samples.append(neg_sample)\n",
    "    batch = np.array(batch)\n",
    "    neg_samples = np.vstack(neg_samples)\n",
    "    return batch, neg_samples"
   ]
  },
  {
   "cell_type": "code",
   "execution_count": 84,
   "metadata": {},
   "outputs": [],
   "source": [
    "batch_size = 4\n",
    "num_negatives = 15\n",
    "batch, neg_samples = generate_batch_with_neg_samples(\n",
    "    context_pairs,\n",
    "    batch_size,\n",
    "    keep_prob_array,\n",
    "    word_to_index,\n",
    "    num_negatives,\n",
    "    negative_sampling_prob_array,\n",
    ")"
   ]
  },
  {
   "cell_type": "markdown",
   "metadata": {},
   "source": [
    "Наконец, время реализовать модель. Обращаем ваше внимание, использование линейных слоев (`nn.Linear`) далеко не всегда оправданно!\n",
    "\n",
    "Напомним, что в случае negative sampling решается задача максимизации следующего функционала:\n",
    "\n",
    "$$\n",
    "\\mathcal{L} = \\log \\sigma({\\mathbf{v}'_{w_O}}^\\top \\mathbf{v}_{w_I}) + \\sum_{i=1}^{k} \\mathbb{E}_{w_i \\sim P_n(w)} \\left[ \\log \\sigma({-\\mathbf{v}'_{w_i}}^\\top \\mathbf{v}_{w_I}) \\right],\n",
    "$$\n",
    "\n",
    "где:\n",
    "- $\\mathbf{v}_{w_I}$ – вектор центрального слова $w_I$,\n",
    "- $\\mathbf{v}'_{w_O}$ – вектор слова из контекста $w_O$,\n",
    "- $k$ – число negative samplesЮ,\n",
    "- $P_n(w)$ – распределение negative samples, заданное выше,\n",
    "- $\\sigma$ – сигмоида."
   ]
  },
  {
   "cell_type": "code",
   "execution_count": 86,
   "metadata": {},
   "outputs": [],
   "source": [
    "class SkipGramModelWithNegSampling(nn.Module):\n",
    "    def __init__(self, vocab_size, embedding_dim):\n",
    "        super().__init__()\n",
    "        self.center_embeddings = nn.Embedding(vocab_size, embedding_dim)\n",
    "        self.context_embeddings = nn.Embedding(vocab_size, embedding_dim)\n",
    "\n",
    "    def forward(self, center_words, pos_context_words, neg_context_words):\n",
    "        # YOUR CODE HERE\n",
    "        center_embeds = self.center_embeddings(center_words)\n",
    "        pos_context_embeds = self.context_embeddings(pos_context_words)\n",
    "        neg_context_embeds = self.context_embeddings(neg_context_words)\n",
    "        \n",
    "        pos_scores = torch.sum(center_embeds * pos_context_embeds, dim=1)\n",
    "        neg_scores = torch.sum(center_embeds.unsqueeze(1) * neg_context_embeds, dim=2)\n",
    "\n",
    "        return pos_scores, neg_scores"
   ]
  },
  {
   "cell_type": "code",
   "execution_count": 87,
   "metadata": {},
   "outputs": [],
   "source": [
    "device = torch.device(\"cpu\")"
   ]
  },
  {
   "cell_type": "code",
   "execution_count": 88,
   "metadata": {},
   "outputs": [],
   "source": [
    "vocab_size = len(word_to_index)\n",
    "embedding_dim = 32\n",
    "num_negatives = 15\n",
    "\n",
    "model = SkipGramModelWithNegSampling(vocab_size, embedding_dim).to(device)\n",
    "optimizer = optim.Adam(model.parameters(), lr=0.05)\n",
    "lr_scheduler = ReduceLROnPlateau(optimizer, factor=0.5, patience=150)\n",
    "criterion = nn.BCEWithLogitsLoss()"
   ]
  },
  {
   "cell_type": "code",
   "execution_count": 89,
   "metadata": {},
   "outputs": [],
   "source": [
    "params_counter = 0\n",
    "for weights in model.parameters():\n",
    "    params_counter += weights.shape.numel()\n",
    "assert params_counter == len(word_to_index) * embedding_dim * 2"
   ]
  },
  {
   "cell_type": "code",
   "execution_count": 90,
   "metadata": {},
   "outputs": [],
   "source": [
    "def train_skipgram_with_neg_sampling(\n",
    "    model,\n",
    "    context_pairs,\n",
    "    keep_prob_array,\n",
    "    word_to_index,\n",
    "    batch_size,\n",
    "    num_negatives,\n",
    "    negative_sampling_prob_array,\n",
    "    steps,\n",
    "    optimizer=optimizer,\n",
    "    lr_scheduler=lr_scheduler,\n",
    "    device=device,\n",
    "):\n",
    "    pos_labels = torch.ones(batch_size).to(device)\n",
    "    neg_labels = torch.zeros(batch_size, num_negatives).to(device)\n",
    "    loss_history = []\n",
    "    for step in tqdma(range(steps)):\n",
    "        batch, neg_samples = generate_batch_with_neg_samples(\n",
    "            context_pairs,\n",
    "            batch_size,\n",
    "            keep_prob_array,\n",
    "            word_to_index,\n",
    "            num_negatives,\n",
    "            negative_sampling_prob_array,\n",
    "        )\n",
    "        center_words = torch.tensor([pair[0] for pair in batch], dtype=torch.long).to(\n",
    "            device\n",
    "        )\n",
    "        pos_context_words = torch.tensor(\n",
    "            [pair[1] for pair in batch], dtype=torch.long\n",
    "        ).to(device)\n",
    "        neg_context_words = torch.tensor(neg_samples, dtype=torch.long).to(device)\n",
    "\n",
    "        optimizer.zero_grad()\n",
    "        pos_scores, neg_scores = model(\n",
    "            center_words, pos_context_words, neg_context_words\n",
    "        )\n",
    "\n",
    "        loss_pos = criterion(pos_scores, pos_labels)\n",
    "        loss_neg = criterion(neg_scores, neg_labels)\n",
    "\n",
    "        loss = loss_pos + loss_neg\n",
    "        loss.backward()\n",
    "        optimizer.step()\n",
    "\n",
    "        loss_history.append(loss.item())\n",
    "        lr_scheduler.step(loss_history[-1])\n",
    "\n",
    "        if step % 100 == 0:\n",
    "            print(\n",
    "                f\"Step {step}, Loss: {np.mean(loss_history[-100:])}, learning rate: {lr_scheduler._last_lr}\"\n",
    "            )"
   ]
  },
  {
   "cell_type": "code",
   "execution_count": 91,
   "metadata": {},
   "outputs": [
    {
     "name": "stderr",
     "output_type": "stream",
     "text": [
      "  0%|          | 1/2500 [00:00<18:26,  2.26it/s]"
     ]
    },
    {
     "name": "stdout",
     "output_type": "stream",
     "text": [
      "Step 0, Loss: 4.797338008880615, learning rate: [0.05]\n"
     ]
    },
    {
     "name": "stderr",
     "output_type": "stream",
     "text": [
      "  4%|▍         | 101/2500 [00:43<17:23,  2.30it/s]"
     ]
    },
    {
     "name": "stdout",
     "output_type": "stream",
     "text": [
      "Step 100, Loss: 2.600751873254776, learning rate: [0.05]\n"
     ]
    },
    {
     "name": "stderr",
     "output_type": "stream",
     "text": [
      "  8%|▊         | 201/2500 [01:27<16:41,  2.29it/s]"
     ]
    },
    {
     "name": "stdout",
     "output_type": "stream",
     "text": [
      "Step 200, Loss: 1.7611756598949433, learning rate: [0.05]\n"
     ]
    },
    {
     "name": "stderr",
     "output_type": "stream",
     "text": [
      " 12%|█▏        | 301/2500 [02:11<16:05,  2.28it/s]"
     ]
    },
    {
     "name": "stdout",
     "output_type": "stream",
     "text": [
      "Step 300, Loss: 1.6247213327884673, learning rate: [0.05]\n"
     ]
    },
    {
     "name": "stderr",
     "output_type": "stream",
     "text": [
      " 16%|█▌        | 401/2500 [02:55<15:26,  2.26it/s]"
     ]
    },
    {
     "name": "stdout",
     "output_type": "stream",
     "text": [
      "Step 400, Loss: 1.5981815719604493, learning rate: [0.05]\n"
     ]
    },
    {
     "name": "stderr",
     "output_type": "stream",
     "text": [
      " 20%|██        | 501/2500 [03:39<14:46,  2.25it/s]"
     ]
    },
    {
     "name": "stdout",
     "output_type": "stream",
     "text": [
      "Step 500, Loss: 1.5723235058784484, learning rate: [0.05]\n"
     ]
    },
    {
     "name": "stderr",
     "output_type": "stream",
     "text": [
      " 24%|██▍       | 601/2500 [04:24<14:05,  2.25it/s]"
     ]
    },
    {
     "name": "stdout",
     "output_type": "stream",
     "text": [
      "Step 600, Loss: 1.5633461773395538, learning rate: [0.025]\n"
     ]
    },
    {
     "name": "stderr",
     "output_type": "stream",
     "text": [
      " 28%|██▊       | 701/2500 [05:09<13:25,  2.23it/s]"
     ]
    },
    {
     "name": "stdout",
     "output_type": "stream",
     "text": [
      "Step 700, Loss: 1.5121138191223145, learning rate: [0.025]\n"
     ]
    },
    {
     "name": "stderr",
     "output_type": "stream",
     "text": [
      " 32%|███▏      | 801/2500 [05:53<12:42,  2.23it/s]"
     ]
    },
    {
     "name": "stdout",
     "output_type": "stream",
     "text": [
      "Step 800, Loss: 1.4721343564987182, learning rate: [0.025]\n"
     ]
    },
    {
     "name": "stderr",
     "output_type": "stream",
     "text": [
      " 36%|███▌      | 901/2500 [06:38<11:52,  2.24it/s]"
     ]
    },
    {
     "name": "stdout",
     "output_type": "stream",
     "text": [
      "Step 900, Loss: 1.4568277978897095, learning rate: [0.025]\n"
     ]
    },
    {
     "name": "stderr",
     "output_type": "stream",
     "text": [
      " 40%|████      | 1001/2500 [07:22<11:04,  2.26it/s]"
     ]
    },
    {
     "name": "stdout",
     "output_type": "stream",
     "text": [
      "Step 1000, Loss: 1.4304126000404358, learning rate: [0.025]\n"
     ]
    },
    {
     "name": "stderr",
     "output_type": "stream",
     "text": [
      " 44%|████▍     | 1101/2500 [08:07<13:13,  1.76it/s]"
     ]
    },
    {
     "name": "stdout",
     "output_type": "stream",
     "text": [
      "Step 1100, Loss: 1.4240130591392517, learning rate: [0.025]\n"
     ]
    },
    {
     "name": "stderr",
     "output_type": "stream",
     "text": [
      " 48%|████▊     | 1201/2500 [09:13<14:24,  1.50it/s]"
     ]
    },
    {
     "name": "stdout",
     "output_type": "stream",
     "text": [
      "Step 1200, Loss: 1.413631237745285, learning rate: [0.0125]\n"
     ]
    },
    {
     "name": "stderr",
     "output_type": "stream",
     "text": [
      " 52%|█████▏    | 1301/2500 [10:19<13:16,  1.51it/s]"
     ]
    },
    {
     "name": "stdout",
     "output_type": "stream",
     "text": [
      "Step 1300, Loss: 1.3885788774490357, learning rate: [0.0125]\n"
     ]
    },
    {
     "name": "stderr",
     "output_type": "stream",
     "text": [
      " 56%|█████▌    | 1401/2500 [11:26<12:02,  1.52it/s]"
     ]
    },
    {
     "name": "stdout",
     "output_type": "stream",
     "text": [
      "Step 1400, Loss: 1.3778825938701629, learning rate: [0.0125]\n"
     ]
    },
    {
     "name": "stderr",
     "output_type": "stream",
     "text": [
      " 60%|██████    | 1501/2500 [12:32<10:58,  1.52it/s]"
     ]
    },
    {
     "name": "stdout",
     "output_type": "stream",
     "text": [
      "Step 1500, Loss: 1.3639837646484374, learning rate: [0.0125]\n"
     ]
    },
    {
     "name": "stderr",
     "output_type": "stream",
     "text": [
      " 64%|██████▍   | 1601/2500 [13:38<09:48,  1.53it/s]"
     ]
    },
    {
     "name": "stdout",
     "output_type": "stream",
     "text": [
      "Step 1600, Loss: 1.3575413346290588, learning rate: [0.00625]\n"
     ]
    },
    {
     "name": "stderr",
     "output_type": "stream",
     "text": [
      " 68%|██████▊   | 1701/2500 [14:45<08:52,  1.50it/s]"
     ]
    },
    {
     "name": "stdout",
     "output_type": "stream",
     "text": [
      "Step 1700, Loss: 1.338603262901306, learning rate: [0.00625]\n"
     ]
    },
    {
     "name": "stderr",
     "output_type": "stream",
     "text": [
      " 72%|███████▏  | 1801/2500 [15:51<07:40,  1.52it/s]"
     ]
    },
    {
     "name": "stdout",
     "output_type": "stream",
     "text": [
      "Step 1800, Loss: 1.3321884560585022, learning rate: [0.00625]\n"
     ]
    },
    {
     "name": "stderr",
     "output_type": "stream",
     "text": [
      " 76%|███████▌  | 1901/2500 [16:57<06:35,  1.52it/s]"
     ]
    },
    {
     "name": "stdout",
     "output_type": "stream",
     "text": [
      "Step 1900, Loss: 1.3306051659584046, learning rate: [0.003125]\n"
     ]
    },
    {
     "name": "stderr",
     "output_type": "stream",
     "text": [
      " 80%|████████  | 2001/2500 [18:03<05:28,  1.52it/s]"
     ]
    },
    {
     "name": "stdout",
     "output_type": "stream",
     "text": [
      "Step 2000, Loss: 1.3152756214141845, learning rate: [0.003125]\n"
     ]
    },
    {
     "name": "stderr",
     "output_type": "stream",
     "text": [
      " 84%|████████▍ | 2101/2500 [19:09<04:25,  1.50it/s]"
     ]
    },
    {
     "name": "stdout",
     "output_type": "stream",
     "text": [
      "Step 2100, Loss: 1.3190254068374634, learning rate: [0.003125]\n"
     ]
    },
    {
     "name": "stderr",
     "output_type": "stream",
     "text": [
      " 88%|████████▊ | 2201/2500 [20:15<03:17,  1.51it/s]"
     ]
    },
    {
     "name": "stdout",
     "output_type": "stream",
     "text": [
      "Step 2200, Loss: 1.3251190090179443, learning rate: [0.0015625]\n"
     ]
    },
    {
     "name": "stderr",
     "output_type": "stream",
     "text": [
      " 92%|█████████▏| 2301/2500 [21:22<02:12,  1.51it/s]"
     ]
    },
    {
     "name": "stdout",
     "output_type": "stream",
     "text": [
      "Step 2300, Loss: 1.3158912479877471, learning rate: [0.00078125]\n"
     ]
    },
    {
     "name": "stderr",
     "output_type": "stream",
     "text": [
      " 96%|█████████▌| 2401/2500 [22:28<01:05,  1.51it/s]"
     ]
    },
    {
     "name": "stdout",
     "output_type": "stream",
     "text": [
      "Step 2400, Loss: 1.3154754340648651, learning rate: [0.00078125]\n"
     ]
    },
    {
     "name": "stderr",
     "output_type": "stream",
     "text": [
      "100%|██████████| 2500/2500 [23:33<00:00,  1.77it/s]\n"
     ]
    }
   ],
   "source": [
    "steps = 2500\n",
    "batch_size = 512\n",
    "train_skipgram_with_neg_sampling(\n",
    "    model,\n",
    "    context_pairs,\n",
    "    keep_prob_array,\n",
    "    word_to_index,\n",
    "    batch_size,\n",
    "    num_negatives,\n",
    "    negative_sampling_prob_array,\n",
    "    steps,\n",
    ")"
   ]
  },
  {
   "cell_type": "markdown",
   "metadata": {},
   "source": [
    "Наконец, используйте полученную матрицу весов в качестве матрицы в векторными представлениями слов. Рекомендуем использовать для сдачи матрицу, которая отвечала за слова из контекста (т.е. декодера)."
   ]
  },
  {
   "cell_type": "code",
   "execution_count": 92,
   "metadata": {},
   "outputs": [],
   "source": [
    "_model_parameters = model.parameters()\n",
    "embedding_matrix_center = next(\n",
    "    _model_parameters\n",
    ").detach()  # Assuming that first matrix was for central word\n",
    "embedding_matrix_context = next(\n",
    "    _model_parameters\n",
    ").detach()  # Assuming that second matrix was for context word"
   ]
  },
  {
   "cell_type": "code",
   "execution_count": 93,
   "metadata": {},
   "outputs": [],
   "source": [
    "def get_word_vector(word, embedding_matrix, word_to_index=word_to_index):\n",
    "    return embedding_matrix[word_to_index[word]]"
   ]
  },
  {
   "cell_type": "markdown",
   "metadata": {},
   "source": [
    "Простые проверки:"
   ]
  },
  {
   "cell_type": "code",
   "execution_count": 94,
   "metadata": {},
   "outputs": [],
   "source": [
    "similarity_1 = F.cosine_similarity(\n",
    "    get_word_vector(\"iphone\", embedding_matrix_context)[None, :],\n",
    "    get_word_vector(\"apple\", embedding_matrix_context)[None, :],\n",
    ")\n",
    "similarity_2 = F.cosine_similarity(\n",
    "    get_word_vector(\"iphone\", embedding_matrix_context)[None, :],\n",
    "    get_word_vector(\"dell\", embedding_matrix_context)[None, :],\n",
    ")\n",
    "assert similarity_1 > similarity_2"
   ]
  },
  {
   "cell_type": "code",
   "execution_count": 95,
   "metadata": {},
   "outputs": [],
   "source": [
    "similarity_1 = F.cosine_similarity(\n",
    "    get_word_vector(\"windows\", embedding_matrix_context)[None, :],\n",
    "    get_word_vector(\"laptop\", embedding_matrix_context)[None, :],\n",
    ")\n",
    "similarity_2 = F.cosine_similarity(\n",
    "    get_word_vector(\"windows\", embedding_matrix_context)[None, :],\n",
    "    get_word_vector(\"macbook\", embedding_matrix_context)[None, :],\n",
    ")\n",
    "assert similarity_1 > similarity_2"
   ]
  },
  {
   "cell_type": "markdown",
   "metadata": {},
   "source": [
    "Наконец, взглянем на ближайшие по косинусной мере слова. Функция реализована ниже."
   ]
  },
  {
   "cell_type": "code",
   "execution_count": 96,
   "metadata": {
    "id": "dA0V6rOYtsLk"
   },
   "outputs": [],
   "source": [
    "def find_nearest(word, embedding_matrix, word_to_index=word_to_index, k=10):\n",
    "    word_vector = get_word_vector(word, embedding_matrix)[None, :]\n",
    "    dists = F.cosine_similarity(embedding_matrix, word_vector)\n",
    "    index_sorted = torch.argsort(dists)\n",
    "    top_k = index_sorted[-k:]\n",
    "    return [(index_to_word[x], dists[x].item()) for x in top_k.numpy()]"
   ]
  },
  {
   "cell_type": "code",
   "execution_count": 97,
   "metadata": {},
   "outputs": [
    {
     "data": {
      "text/plain": [
       "[('language', 0.6159073114395142),\n",
       " ('ppf', 0.6190142035484314),\n",
       " ('no2', 0.6213740110397339),\n",
       " ('circumference', 0.6243237257003784),\n",
       " ('1000s', 0.6272975206375122),\n",
       " ('ringing', 0.6373962163925171),\n",
       " ('diffusion', 0.6395871043205261),\n",
       " ('succeed', 0.648247480392456),\n",
       " ('idle', 0.651186466217041),\n",
       " ('python', 1.0)]"
      ]
     },
     "execution_count": 97,
     "metadata": {},
     "output_type": "execute_result"
    }
   ],
   "source": [
    "find_nearest(\"python\", embedding_matrix_context, k=10)"
   ]
  },
  {
   "cell_type": "markdown",
   "metadata": {},
   "source": [
    "Также вы можете визуально проверить, как представлены в латентном пространстве часто встречающиеся слова."
   ]
  },
  {
   "cell_type": "code",
   "execution_count": 98,
   "metadata": {},
   "outputs": [],
   "source": [
    "top_k = 5000\n",
    "_top_words = sorted([x for x in word_count_dict.items()], key=lambda x: x[1])[\n",
    "    -top_k - 100 : -100\n",
    "]  # ignoring 100 most frequent words\n",
    "top_words = [x[0] for x in _top_words]\n",
    "del _top_words"
   ]
  },
  {
   "cell_type": "code",
   "execution_count": 99,
   "metadata": {},
   "outputs": [],
   "source": [
    "word_embeddings = torch.cat(\n",
    "    [embedding_matrix_context[word_to_index[x]][None, :] for x in top_words], dim=0\n",
    ").numpy()"
   ]
  },
  {
   "cell_type": "code",
   "execution_count": 100,
   "metadata": {},
   "outputs": [
    {
     "data": {
      "text/html": [
       "    <style>\n",
       "        .bk-notebook-logo {\n",
       "            display: block;\n",
       "            width: 20px;\n",
       "            height: 20px;\n",
       "            background-image: url(data:image/png;base64,iVBORw0KGgoAAAANSUhEUgAAABQAAAAUCAYAAACNiR0NAAAABHNCSVQICAgIfAhkiAAAAAlwSFlzAAALEgAACxIB0t1+/AAAABx0RVh0U29mdHdhcmUAQWRvYmUgRmlyZXdvcmtzIENTNui8sowAAAOkSURBVDiNjZRtaJVlGMd/1/08zzln5zjP1LWcU9N0NkN8m2CYjpgQYQXqSs0I84OLIC0hkEKoPtiH3gmKoiJDU7QpLgoLjLIQCpEsNJ1vqUOdO7ppbuec5+V+rj4ctwzd8IIbbi6u+8f1539dt3A78eXC7QizUF7gyV1fD1Yqg4JWz84yffhm0qkFqBogB9rM8tZdtwVsPUhWhGcFJngGeWrPzHm5oaMmkfEg1usvLFyc8jLRqDOMru7AyC8saQr7GG7f5fvDeH7Ej8CM66nIF+8yngt6HWaKh7k49Soy9nXurCi1o3qUbS3zWfrYeQDTB/Qj6kX6Ybhw4B+bOYoLKCC9H3Nu/leUTZ1JdRWkkn2ldcCamzrcf47KKXdAJllSlxAOkRgyHsGC/zRday5Qld9DyoM4/q/rUoy/CXh3jzOu3bHUVZeU+DEn8FInkPBFlu3+nW3Nw0mk6vCDiWg8CeJaxEwuHS3+z5RgY+YBR6V1Z1nxSOfoaPa4LASWxxdNp+VWTk7+4vzaou8v8PN+xo+KY2xsw6une2frhw05CTYOmQvsEhjhWjn0bmXPjpE1+kplmmkP3suftwTubK9Vq22qKmrBhpY4jvd5afdRA3wGjFAgcnTK2s4hY0/GPNIb0nErGMCRxWOOX64Z8RAC4oCXdklmEvcL8o0BfkNK4lUg9HTl+oPlQxdNo3Mg4Nv175e/1LDGzZen30MEjRUtmXSfiTVu1kK8W4txyV6BMKlbgk3lMwYCiusNy9fVfvvwMxv8Ynl6vxoByANLTWplvuj/nF9m2+PDtt1eiHPBr1oIfhCChQMBw6Aw0UulqTKZdfVvfG7VcfIqLG9bcldL/+pdWTLxLUy8Qq38heUIjh4XlzZxzQm19lLFlr8vdQ97rjZVOLf8nclzckbcD4wxXMidpX30sFd37Fv/GtwwhzhxGVAprjbg0gCAEeIgwCZyTV2Z1REEW8O4py0wsjeloKoMr6iCY6dP92H6Vw/oTyICIthibxjm/DfN9lVz8IqtqKYLUXfoKVMVQVVJOElGjrnnUt9T9wbgp8AyYKaGlqingHZU/uG2NTZSVqwHQTWkx9hxjkpWDaCg6Ckj5qebgBVbT3V3NNXMSiWSDdGV3hrtzla7J+duwPOToIg42ChPQOQjspnSlp1V+Gjdged7+8UN5CRAV7a5EdFNwCjEaBR27b3W890TE7g24NAP/mMDXRWrGoFPQI9ls/MWO2dWFAar/xcOIImbbpA3zgAAAABJRU5ErkJggg==);\n",
       "        }\n",
       "    </style>\n",
       "    <div>\n",
       "        <a href=\"https://bokeh.org\" target=\"_blank\" class=\"bk-notebook-logo\"></a>\n",
       "        <span id=\"c1c8f96f-2ad4-47d9-ae1b-3cae4c4bf7bc\">Loading BokehJS ...</span>\n",
       "    </div>\n"
      ]
     },
     "metadata": {},
     "output_type": "display_data"
    },
    {
     "data": {
      "application/javascript": "'use strict';\n(function(root) {\n  function now() {\n    return new Date();\n  }\n\n  const force = true;\n\n  if (typeof root._bokeh_onload_callbacks === \"undefined\" || force === true) {\n    root._bokeh_onload_callbacks = [];\n    root._bokeh_is_loading = undefined;\n  }\n\nconst JS_MIME_TYPE = 'application/javascript';\n  const HTML_MIME_TYPE = 'text/html';\n  const EXEC_MIME_TYPE = 'application/vnd.bokehjs_exec.v0+json';\n  const CLASS_NAME = 'output_bokeh rendered_html';\n\n  /**\n   * Render data to the DOM node\n   */\n  function render(props, node) {\n    const script = document.createElement(\"script\");\n    node.appendChild(script);\n  }\n\n  /**\n   * Handle when an output is cleared or removed\n   */\n  function handleClearOutput(event, handle) {\n    function drop(id) {\n      const view = Bokeh.index.get_by_id(id)\n      if (view != null) {\n        view.model.document.clear()\n        Bokeh.index.delete(view)\n      }\n    }\n\n    const cell = handle.cell;\n\n    const id = cell.output_area._bokeh_element_id;\n    const server_id = cell.output_area._bokeh_server_id;\n\n    // Clean up Bokeh references\n    if (id != null) {\n      drop(id)\n    }\n\n    if (server_id !== undefined) {\n      // Clean up Bokeh references\n      const cmd_clean = \"from bokeh.io.state import curstate; print(curstate().uuid_to_server['\" + server_id + \"'].get_sessions()[0].document.roots[0]._id)\";\n      cell.notebook.kernel.execute(cmd_clean, {\n        iopub: {\n          output: function(msg) {\n            const id = msg.content.text.trim()\n            drop(id)\n          }\n        }\n      });\n      // Destroy server and session\n      const cmd_destroy = \"import bokeh.io.notebook as ion; ion.destroy_server('\" + server_id + \"')\";\n      cell.notebook.kernel.execute(cmd_destroy);\n    }\n  }\n\n  /**\n   * Handle when a new output is added\n   */\n  function handleAddOutput(event, handle) {\n    const output_area = handle.output_area;\n    const output = handle.output;\n\n    // limit handleAddOutput to display_data with EXEC_MIME_TYPE content only\n    if ((output.output_type != \"display_data\") || (!Object.prototype.hasOwnProperty.call(output.data, EXEC_MIME_TYPE))) {\n      return\n    }\n\n    const toinsert = output_area.element.find(\".\" + CLASS_NAME.split(' ')[0]);\n\n    if (output.metadata[EXEC_MIME_TYPE][\"id\"] !== undefined) {\n      toinsert[toinsert.length - 1].firstChild.textContent = output.data[JS_MIME_TYPE];\n      // store reference to embed id on output_area\n      output_area._bokeh_element_id = output.metadata[EXEC_MIME_TYPE][\"id\"];\n    }\n    if (output.metadata[EXEC_MIME_TYPE][\"server_id\"] !== undefined) {\n      const bk_div = document.createElement(\"div\");\n      bk_div.innerHTML = output.data[HTML_MIME_TYPE];\n      const script_attrs = bk_div.children[0].attributes;\n      for (let i = 0; i < script_attrs.length; i++) {\n        toinsert[toinsert.length - 1].firstChild.setAttribute(script_attrs[i].name, script_attrs[i].value);\n        toinsert[toinsert.length - 1].firstChild.textContent = bk_div.children[0].textContent\n      }\n      // store reference to server id on output_area\n      output_area._bokeh_server_id = output.metadata[EXEC_MIME_TYPE][\"server_id\"];\n    }\n  }\n\n  function register_renderer(events, OutputArea) {\n\n    function append_mime(data, metadata, element) {\n      // create a DOM node to render to\n      const toinsert = this.create_output_subarea(\n        metadata,\n        CLASS_NAME,\n        EXEC_MIME_TYPE\n      );\n      this.keyboard_manager.register_events(toinsert);\n      // Render to node\n      const props = {data: data, metadata: metadata[EXEC_MIME_TYPE]};\n      render(props, toinsert[toinsert.length - 1]);\n      element.append(toinsert);\n      return toinsert\n    }\n\n    /* Handle when an output is cleared or removed */\n    events.on('clear_output.CodeCell', handleClearOutput);\n    events.on('delete.Cell', handleClearOutput);\n\n    /* Handle when a new output is added */\n    events.on('output_added.OutputArea', handleAddOutput);\n\n    /**\n     * Register the mime type and append_mime function with output_area\n     */\n    OutputArea.prototype.register_mime_type(EXEC_MIME_TYPE, append_mime, {\n      /* Is output safe? */\n      safe: true,\n      /* Index of renderer in `output_area.display_order` */\n      index: 0\n    });\n  }\n\n  // register the mime type if in Jupyter Notebook environment and previously unregistered\n  if (root.Jupyter !== undefined) {\n    const events = require('base/js/events');\n    const OutputArea = require('notebook/js/outputarea').OutputArea;\n\n    if (OutputArea.prototype.mime_types().indexOf(EXEC_MIME_TYPE) == -1) {\n      register_renderer(events, OutputArea);\n    }\n  }\n  if (typeof (root._bokeh_timeout) === \"undefined\" || force === true) {\n    root._bokeh_timeout = Date.now() + 5000;\n    root._bokeh_failed_load = false;\n  }\n\n  const NB_LOAD_WARNING = {'data': {'text/html':\n     \"<div style='background-color: #fdd'>\\n\"+\n     \"<p>\\n\"+\n     \"BokehJS does not appear to have successfully loaded. If loading BokehJS from CDN, this \\n\"+\n     \"may be due to a slow or bad network connection. Possible fixes:\\n\"+\n     \"</p>\\n\"+\n     \"<ul>\\n\"+\n     \"<li>re-rerun `output_notebook()` to attempt to load from CDN again, or</li>\\n\"+\n     \"<li>use INLINE resources instead, as so:</li>\\n\"+\n     \"</ul>\\n\"+\n     \"<code>\\n\"+\n     \"from bokeh.resources import INLINE\\n\"+\n     \"output_notebook(resources=INLINE)\\n\"+\n     \"</code>\\n\"+\n     \"</div>\"}};\n\n  function display_loaded(error = null) {\n    const el = document.getElementById(\"c1c8f96f-2ad4-47d9-ae1b-3cae4c4bf7bc\");\n    if (el != null) {\n      const html = (() => {\n        if (typeof root.Bokeh === \"undefined\") {\n          if (error == null) {\n            return \"BokehJS is loading ...\";\n          } else {\n            return \"BokehJS failed to load.\";\n          }\n        } else {\n          const prefix = `BokehJS ${root.Bokeh.version}`;\n          if (error == null) {\n            return `${prefix} successfully loaded.`;\n          } else {\n            return `${prefix} <b>encountered errors</b> while loading and may not function as expected.`;\n          }\n        }\n      })();\n      el.innerHTML = html;\n\n      if (error != null) {\n        const wrapper = document.createElement(\"div\");\n        wrapper.style.overflow = \"auto\";\n        wrapper.style.height = \"5em\";\n        wrapper.style.resize = \"vertical\";\n        const content = document.createElement(\"div\");\n        content.style.fontFamily = \"monospace\";\n        content.style.whiteSpace = \"pre-wrap\";\n        content.style.backgroundColor = \"rgb(255, 221, 221)\";\n        content.textContent = error.stack ?? error.toString();\n        wrapper.append(content);\n        el.append(wrapper);\n      }\n    } else if (Date.now() < root._bokeh_timeout) {\n      setTimeout(() => display_loaded(error), 100);\n    }\n  }\n\n  function run_callbacks() {\n    try {\n      root._bokeh_onload_callbacks.forEach(function(callback) {\n        if (callback != null)\n          callback();\n      });\n    } finally {\n      delete root._bokeh_onload_callbacks\n    }\n    console.debug(\"Bokeh: all callbacks have finished\");\n  }\n\n  function load_libs(css_urls, js_urls, callback) {\n    if (css_urls == null) css_urls = [];\n    if (js_urls == null) js_urls = [];\n\n    root._bokeh_onload_callbacks.push(callback);\n    if (root._bokeh_is_loading > 0) {\n      console.debug(\"Bokeh: BokehJS is being loaded, scheduling callback at\", now());\n      return null;\n    }\n    if (js_urls == null || js_urls.length === 0) {\n      run_callbacks();\n      return null;\n    }\n    console.debug(\"Bokeh: BokehJS not loaded, scheduling load and callback at\", now());\n    root._bokeh_is_loading = css_urls.length + js_urls.length;\n\n    function on_load() {\n      root._bokeh_is_loading--;\n      if (root._bokeh_is_loading === 0) {\n        console.debug(\"Bokeh: all BokehJS libraries/stylesheets loaded\");\n        run_callbacks()\n      }\n    }\n\n    function on_error(url) {\n      console.error(\"failed to load \" + url);\n    }\n\n    for (let i = 0; i < css_urls.length; i++) {\n      const url = css_urls[i];\n      const element = document.createElement(\"link\");\n      element.onload = on_load;\n      element.onerror = on_error.bind(null, url);\n      element.rel = \"stylesheet\";\n      element.type = \"text/css\";\n      element.href = url;\n      console.debug(\"Bokeh: injecting link tag for BokehJS stylesheet: \", url);\n      document.body.appendChild(element);\n    }\n\n    for (let i = 0; i < js_urls.length; i++) {\n      const url = js_urls[i];\n      const element = document.createElement('script');\n      element.onload = on_load;\n      element.onerror = on_error.bind(null, url);\n      element.async = false;\n      element.src = url;\n      console.debug(\"Bokeh: injecting script tag for BokehJS library: \", url);\n      document.head.appendChild(element);\n    }\n  };\n\n  function inject_raw_css(css) {\n    const element = document.createElement(\"style\");\n    element.appendChild(document.createTextNode(css));\n    document.body.appendChild(element);\n  }\n\n  const js_urls = [\"https://cdn.bokeh.org/bokeh/release/bokeh-3.7.0.min.js\", \"https://cdn.bokeh.org/bokeh/release/bokeh-gl-3.7.0.min.js\", \"https://cdn.bokeh.org/bokeh/release/bokeh-widgets-3.7.0.min.js\", \"https://cdn.bokeh.org/bokeh/release/bokeh-tables-3.7.0.min.js\", \"https://cdn.bokeh.org/bokeh/release/bokeh-mathjax-3.7.0.min.js\"];\n  const css_urls = [];\n\n  const inline_js = [    function(Bokeh) {\n      Bokeh.set_log_level(\"info\");\n    },\nfunction(Bokeh) {\n    }\n  ];\n\n  function run_inline_js() {\n    if (root.Bokeh !== undefined || force === true) {\n      try {\n            for (let i = 0; i < inline_js.length; i++) {\n      inline_js[i].call(root, root.Bokeh);\n    }\n\n      } catch (error) {display_loaded(error);throw error;\n      }if (force === true) {\n        display_loaded();\n      }} else if (Date.now() < root._bokeh_timeout) {\n      setTimeout(run_inline_js, 100);\n    } else if (!root._bokeh_failed_load) {\n      console.log(\"Bokeh: BokehJS failed to load within specified timeout.\");\n      root._bokeh_failed_load = true;\n    } else if (force !== true) {\n      const cell = $(document.getElementById(\"c1c8f96f-2ad4-47d9-ae1b-3cae4c4bf7bc\")).parents('.cell').data().cell;\n      cell.output_area.append_execute_result(NB_LOAD_WARNING)\n    }\n  }\n\n  if (root._bokeh_is_loading === 0) {\n    console.debug(\"Bokeh: BokehJS loaded, going straight to plotting\");\n    run_inline_js();\n  } else {\n    load_libs(css_urls, js_urls, function() {\n      console.debug(\"Bokeh: BokehJS plotting callback run at\", now());\n      run_inline_js();\n    });\n  }\n}(window));",
      "application/vnd.bokehjs_load.v0+json": ""
     },
     "metadata": {},
     "output_type": "display_data"
    }
   ],
   "source": [
    "import bokeh.models as bm\n",
    "import bokeh.plotting as pl\n",
    "from bokeh.io import output_notebook\n",
    "\n",
    "output_notebook()\n",
    "\n",
    "\n",
    "def draw_vectors(\n",
    "    x,\n",
    "    y,\n",
    "    radius=10,\n",
    "    alpha=0.25,\n",
    "    color=\"blue\",\n",
    "    width=600,\n",
    "    height=400,\n",
    "    show=True,\n",
    "    **kwargs,\n",
    "):\n",
    "    \"\"\"draws an interactive plot for data points with auxilirary info on hover\"\"\"\n",
    "    if isinstance(color, str):\n",
    "        color = [color] * len(x)\n",
    "    data_source = bm.ColumnDataSource({\"x\": x, \"y\": y, \"color\": color, **kwargs})\n",
    "\n",
    "    fig = pl.figure(active_scroll=\"wheel_zoom\", width=width, height=height)\n",
    "    fig.scatter(\"x\", \"y\", size=radius, color=\"color\", alpha=alpha, source=data_source)\n",
    "\n",
    "    fig.add_tools(bm.HoverTool(tooltips=[(key, \"@\" + key) for key in kwargs.keys()]))\n",
    "    if show:\n",
    "        pl.show(fig)\n",
    "    return fig"
   ]
  },
  {
   "cell_type": "code",
   "execution_count": null,
   "metadata": {},
   "outputs": [],
   "source": [
    "embedding = umap.UMAP(n_neighbors=5).fit_transform(word_embeddings)"
   ]
  },
  {
   "cell_type": "code",
   "execution_count": 102,
   "metadata": {},
   "outputs": [
    {
     "data": {
      "text/html": [
       "\n",
       "  <div id=\"b341042e-5144-4a8b-8fe9-b5957e871036\" data-root-id=\"p1004\" style=\"display: contents;\"></div>\n"
      ]
     },
     "metadata": {},
     "output_type": "display_data"
    },
    {
     "data": {
      "application/javascript": "(function(root) {\n  function embed_document(root) {\n  const docs_json = {\"e6ed3a2c-2da8-49e0-92e0-6feb45b10127\":{\"version\":\"3.7.0\",\"title\":\"Bokeh Application\",\"roots\":[{\"type\":\"object\",\"name\":\"Figure\",\"id\":\"p1004\",\"attributes\":{\"height\":400,\"x_range\":{\"type\":\"object\",\"name\":\"DataRange1d\",\"id\":\"p1005\"},\"y_range\":{\"type\":\"object\",\"name\":\"DataRange1d\",\"id\":\"p1006\"},\"x_scale\":{\"type\":\"object\",\"name\":\"LinearScale\",\"id\":\"p1013\"},\"y_scale\":{\"type\":\"object\",\"name\":\"LinearScale\",\"id\":\"p1014\"},\"title\":{\"type\":\"object\",\"name\":\"Title\",\"id\":\"p1011\"},\"renderers\":[{\"type\":\"object\",\"name\":\"GlyphRenderer\",\"id\":\"p1044\",\"attributes\":{\"data_source\":{\"type\":\"object\",\"name\":\"ColumnDataSource\",\"id\":\"p1001\",\"attributes\":{\"selected\":{\"type\":\"object\",\"name\":\"Selection\",\"id\":\"p1002\",\"attributes\":{\"indices\":[],\"line_indices\":[]}},\"selection_policy\":{\"type\":\"object\",\"name\":\"UnionRenderers\",\"id\":\"p1003\"},\"data\":{\"type\":\"map\",\"entries\":[[\"x\",{\"type\":\"ndarray\",\"array\":{\"type\":\"bytes\",\"data\":\"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\"},\"shape\":[5000],\"dtype\":\"float32\",\"order\":\"little\"}],[\"y\",{\"type\":\"ndarray\",\"array\":{\"type\":\"bytes\",\"data\":\"of4jv3LvPjs1VpG/plCZvYP6E0DOOvU/UBVIQBUdnEAMnTo/MdzdPr3u3D/XN4i/2kB6QMPwjD9ww3VAyHB4QGJprz+slsA+6cofQG8/jUD5taE+YxBSP/8LA0CvMAJAIBiHQGiIXkA06DJAMkVqQCOiikDJeYJAgW2eQDIOn0A7V6y+a2VOQI7eA7/6+xBA3rY0QHNf7j8ux8u+eHKTQNpubUAuG3tAMxuHPqJsWL+zeJg/BWxjQH0kQ0ALuPQ/fmCEQAulB0BcIpZAl52hP0tPfT8DkzY/iLuKvwXdMEDsJnxAnbg7vKNJOkDUG7G/7OhoP6M3gT+TbVO+pqyZPzP2h0AMFGNALM2Pv5xbQkCbo4W/9HnTPmWUFkD3iDFAq4Qav2bExj+ZxFpAb3qdQCmDgEDLzdg/LWrbPwJVCL/QgR6+5bmuv14/RkAacD+/6daIQAmpLUBKBr8/4EOLQMFEMEB5GYNAOG69v87X5D+rwpxA/NLFPwSJL0Coj34/BX2WQKVv0j8wJQy83PdpQK/MJEBAosK+pltSQI47mD94QQtAyQyHQDH/+T/37fk/4Z6MQM0bH0ACplFAT2N3QC0BVEBxGxg/DXeyP3I4MEBnv7I/bpmRQM8rkEB6jbO/bklPQC+xWT+uPGU/4d8bQJVBI0AyPHVARZAHQEnm1T9OVUVAZ51xP0KUJ0AjBBs/aoA0QFbAdUAX7aE/go9rQMZONUBWHq8/6/RBQHBiSEBUCvY/J8FQQH63DEBUyX1AZOkWQAiqmT+DYZBAmMaHQJ1crD9/8CJAiYdtQIYrZEDYUYBA4m4sQM0Wpz8FhyxA6vbvP9HUh0DG9TRALL2MQDDqHkBSfxRAyu9jQDQyn76VqiNAM92KQN8Y175e7Os/hVGdP1Lk1D/Vji1AFfxBQK1CAUBjbdY/gj+HQGGLj0BE8kk/ZyJyQNazXUBoDplAIcXAP4VmAT5MColAdLPmP4TsZEDUXYpAQggvQK3khUBjXnRAWSEXQMhnEb+3LY1A4OM1QHd3mkCQVhtArJssPmHb4T+gIpdA9U0eQKiVTUAqN9Q804ShQM0yPkCptFA/a/eEQLBeN0Dmios/nKQ3QGfzwz+7fac/llqJQJNeeUDhQntAZJKJQLs5rz/6YC9AXXBoQBGChUCfikZAnQSjPuYVIkDgSiNAhYpSQG3ykb8rS3FAI5euv+Zznj+auvM/urROQBZm3j+qQ2hANOO4P5WrZUCe2gS/6MkmQE2VdUDuNWI/9TKVvRymnz+Vgr4/4paQQCAOPEAjohS/1C0qQDlwtT+PrFpAP48hvwImTkBqhhFAfwiNQKyITUAYBWxAqleeQIMdikBJ01s/ZAmcQJBejkDF34W+13WiP25pAUDmMpo/TEaCv8OKbEA8tcS/vV+BPhnwDr9DxlFAPdAfQOoVpj/2ZwRAjYIwPzNmgL4QDP29WUH8vvWmID//YitAg44xv646ID9PxOc/fdFYvhIFrz4pLDxAujE8QD+THEAIVxw/mP5LQF7owj/hnPE/L6uPQHmmlj/lcA9AjEwOQG4ahUCOmi9AZFZpQCceAUAPajQ/gWVLQAgEgT/18CNAJ6ORQIG1hkDaC4U/fkmSQGEuKL8/14BAMIeSP/BIkED/1cq+RHxBQOOD3D8Ilim/Z4B/Pw/zU0DUeVS+S6VnQHEzdEDS2Z5AZgYPvkoMib+YcuA+sw8GQKFJhb8a7n1A0alPQHMKj0AcBLg/gyKIQAuhJkACC4lAg1GDv5EGGUD3YIpA0q3wPyesNr89pGNAiYEOQDt6cb8ys4tAtdeBQICGlL9//D+/lJF/QN16gz9cJy+/0qirP3p2gEDYOK8/3uPJP/VsYkAOSF1AmqYlv66TK0AjAm5AHR51v/IZQz9JG49A1rmmP91ng0BQ/otAyfVWQMC0IEBEmzw/GWyfQGiFyD9bcjVApKJDQP9Z3T/GHPQ+77WPv2lWkUB90L4/a3t7QGc/Cz9fPJhAxLJtvwVon0A+DFhAFxhBQBE8wT4hIAhAxTu1P/HDZT+k4I9AiAP4Pn9ajUBwKtO+uqwnvyzRjz/9uV6/eESmvqFUWUBBQAlA5R2OQGJrkUA2DJZATCSQQBrXQj55aV6+couaQFOfIUCHPt4/kpiMQKKkhUDU1ypAjq5+QC52gEA7GXBAaZqsv+sO7z9M5wRAwwmRQKXNYECw8os/+yOBQLOFnkClR4lA/aOwP9xCPT/QnQZAGOaRPzmIxD3BMnhAbIZkvxNZZkBXsqS/m87oP4OxHj9nFGy/w0qOQEytWUA77xBA5qiCQIN0LEBG7YNAb5BRQGAOOEB4XJZAhL9/QFTVkUAt15dANYGBQBi9aUCVn6a+baWWPyhcnkBcQD+/J2cLQOkk8j+Qf/A/zDOdP2lggL2yVbk/vPcpP7FFcEDl8tk/HThlQO1aNT4gjYpA260LQFUIm0DSCds+cD5xPfsJh0BO5SlAxCCgQEuHl0CMp5O+UDcZQGQ6cUDtPDVA4nGEQEE14760eAxAC7w/QB9lAz+nqvq9u8gPvYPCCT9LPFi+rfjJvbu8aL8Y+GS/ThppQDTLHUAa34JAUT4qQCXSW0C8WgNABCSRPkIxNUDjhy5A6FMQQGDDhkCkTpRAq9GLQMti8T4CjSJA/hMWQGO6bEDdfW9AMSVcQLNHgUBidoVAlgeCQKgBTUCpjCdAmKgoQEVAHkD4NoxAKhOSQHeT9z/Zrfc/JRALvaRSUr4tI4U+2C/HP8kGKEBJLoG/bSj3P6Ypaj8gzpQ9LcLwvkAAVUB8GMc/rF6CQDRajz9lgo5AZ4ozP6uWGkAuQ5o/9m+xvkI6aEDawZG/ljA0QCgzLb+5uWRASpaNQDApUD+5iw5A9uSbPyWHj0BbYm9AZXybPyUu7T/w6/s/lm4BQA87IUBsMUo/eCGRP7mbE0CHckS/PEEkQJo3hr24N2FA8WiXQJ/BvT6awWG+XDNeP421HEDxEEw/en1XQMIrfz97Bdq+t3V3QLqLkECnKwVA6xBTQOmPV0DziS4/HWeXP5stWUB+PqBA1ddWP+uUez+wxH5AZVSBvjo6Wr8+fiNAma13P5L4Lr/rSCJAqV6QQLL9fkBfvvs/UTt+QLVNoz8XU4tAd0RDvz+xGkCEWKw/0EDNP7ZCVEC6SF5AQxRUQBF3UECMH3hAk+x5QAOpiEDqxdg/QqRGQOMwMkCFfGG8EheRQJy2jEBqr4A/MJOTvjZQRUCSxeK+gq8oQCW5MD+QsllAxEgpQMPlCr8L1lNA0c90P3hPekAMvPM9Y6VuQDSQhj7XCJFAAvAYPWDRkUBc/VRA0fWsP78kZj+Na6m/X0xiQF/5ZEATSPg/IPXtPx+7I77614g/5Hm5PqiHdECwzohARDvsPaZ0KkADFlZAEKZZPsvGbECFjodA0ISpvopF1b447wVA7kDKvl2DXT/S7RRA9AqfP21A1j9r221AqrSNQGYViECLi1FAADKTQABxV0AT5gQ/mZ3LP6itl0CZZxBA7OcVQK/WMUBJIJVAZ3FKPZxeoT/pKUBAfYOdPxRSJ0C22F1AoZBVP7KmY0CM9Z1Ap/gsQF4yEkAb1pe+ZOydv5U6kUAxG4NAtVqEP7Ijoz8hXUW/IwJWP0EegkA/DpxAJbzTPzYwFz9AAZ2+qsAePrVpoUA3MSm/oL+LQPCHBUBr/y1AawaDQPNnuD/iriFA1TeLvzC9ekCgmg0/l6WoP5oFzz8s5k9AFuVcQJhN3T9W7s4/3K3bP6XBgb/Q4kNAWmyJPzs8hT/Fa/o/lmC4PhVVjz/8pGNAhN50P6c5Y7zyQ6I+Z+WAQBd73T8k8zNATD55PwkieD+seic/KhtLQO7WikBbKe4/mlU1QEhYAUA/K+I/UFSdvzz+jEB/LHxASu5aQBfSoD/s8YRAH52DQIW2FkBQY0o/k9ZFQLXVVEAI85C/dIhgQNRxdUA20AVAFLxUQCo86L6nUbo/vSUKQE1WQkDbP3FAA2bTP9pUOD8ETVZAypOOv7EyA0Aosaw/vqDyP74vZj82pzg+Ix0ZQO5NgL8PQdU/be04QMIw1j+s5J5A+aU5QAtBKkBbPh9AlTAuP78bhr/z4jdAKjcBQKFQiz6wMjxApXsRQPQz2T8X8bQ/rkQSP3dDab8IjJM+xQYtQJREcEApii4/MTswQLdjoz6XVIhAA8MMQK06SEAK/54/N3K/P5SLlr4qwLY/tgP5P7DHsD7IpUQ/Q2sWP08qhkAHNiRAUpJ0P9otJ7/94oq/xjzuvhvASkCyTZM/3d8eQAljWkB3p3pAfJoMQBFACD/oTVBAV24vQGpzg78ZymRAROSQvH2GiUA1e45AO89tQNyehj8k5LU/8SeaQN5ksj8gj51ALnnZPwshZr8uAjdAjkfGvizDgEAsW3Y+YN97QIJLJj9McWxAjSeBQON14j96SrI/WzghQBxqAb8yK45Ar8AuQHQTY0DQBDo+rtFqP1peYkBMB0Q/ftUzQF+lBEBQ9BU+M9kvQH7HAr9e1wRAp9A+QB28gkAc1Gw//6NPP9a/g0CZ84BAeJtIQA3tyT9ugBtAGN0DQCNjS0AUTl4/YS8vQOzVXL9STkk/ndf5P7MgoEAkCsc/UAhcQHuWVEBkWzu9aIJhQGDg/D5mF+E/EyUsQNk1P0AnxotAgbdIQONNWz9yXn9AL7ieQIQiqD8QG55A8+EQv/5ngUAhmp9AhQAFQG3J4j+L6mVAhHrpPwXflL9Eiac9P53zPu6ydUCTYie/bc0PP7sMBT6RxW5AoR2uP5ZEkj9J0nc/2fiZP/YA/j8riOs/nxyeQLIkfD+Yn+A/Hye2PylvKUAf+D5A6Mwsv9cHNkA1+pFAPlpzQEn3oD+1xaM/Tj/+PzXjeEDUd1pAI9XCPwN4ckChcMw/AG1FQB2jE794Fmg/yOVVP6AJ7T/cVS5A7hwqQKJ5HEBiL5i+1nZavt7WHEBf+kdAtgjSPk/3PEBc6/Y/EfETQClNeUDPoplAMf5AQKzVEz8XmUA/J6wNQIxpqj9qttw/TNlQQHX1sD8K0dM/hQuFQDFmpT9MeB1AhTW4Pw4O/j/39YxAfSZ2QEuBnr+UsSdAbHEdv7QKikCm/tQ/WSrEP5+hn77rT68/l80ePylp6j9OTYFAegx0QOA3jUCzER+/INYrv5zVEkARSpQ/5hXUv/i2FUDZzf0/smKOQDwPAUAukgRAX08yQAv6hz5d1h5ANkhpQJj6Q0AswDtANsFSQPUMU0DmBJ4/KeUCQDR9CEAsNEg9CTs+QJuwiUCWdI1AI2GTPyfOHkDUIGJATkCOQFpMdkDGkX1AYJppv9ZunECJ69Q/XQZxP+euNb6dAUhA/+6Fv1cP4z+8A5U/qYj2P2GJLD+Cr3E/KyU7QJjfbj43kExAeg2BQGZUiEAPr4RAx2MJQBP5aUD31AVABrpbQI5BYUCmI8o/yRSTQMtqJ78tam5ANcMNQCynZUA3RwlAW+47QA2LPkBffRJA7QIgQDgieUCYlEtALClNQAUXvr7gNHVA0hQ+QBxhhD/eiVI/JKWGv687qD+2ihq/maxUQIsq7b7bS6w/SP9QPzYCR0CMfYxALzwoQKgvHEDyiZhAh3gqQOkzGj6uh6q/HW1nPrk/1b4I4ZM/2Ldwv5VU5D+0It8+bA04QMA6NUDxSJBAcjgfQIZZ6z47H9++kfGkP1Kr9z/n/Mu/8uFIQNEfikAPnXQ/IuwPv12O8D/X1Fs+dvdyQBCOSkAt/TxAS9SRQKN1Fz/LhTVA2T1uvzTWbUDkW2BANAf0vlX+P0ARMipA5VN3QDbajUD67lY/vIlRQCn/aECkmh9AFgeEP30K5z38zFRAf4dtQK6OGEBpb6BA8qVrQJdSvD7SkE1ASkYAQAu+ZUAtAJZA1RljQNHzBr+zTj1AGHuTQIZzzz+ejmdAd5gmv1iTDT8T5XhAB23IvyEdYkCND/c/4k5hQF4+nT9O2aE/z/vBv/EqsD8SfD9A8G9sQPHaaUD5S+K+s09Rv9+lIUCpI/290DKlP+1Lzr/tMS1AXi+VQBTTf0BvZPU+a4qYQGnOHUBkUai97mwhQK5EUjrUgqU/u6ubQJHAikAC0UVA0YmKv5H/ckCcAM4/3MRsQAf1UUD1ACM/HaTcvo3uTb/Sp5xAl6pUQJd6hEAbwQtAHhPBP7exE0CUOyRAvKoCQGDcDkDmrTlAUE4OQBOYCkD9C1G/DK97QC5JB0BDV6g/ZIS2PfvpKUAu1Rw/UyQCQBwHkkAZKwFA7TMbQBa1dEDpiIO/3UisvyHSOUDpHIhA2755PyAFP0DaEoRA7dMsQB5NeED5yFNAowS3P4h50T9a/SdA2wQ5v36TYD8yyndAPVpJPyY1KUAcgKc/UrkJP/Mki7/IYXxA/KWEQC7EF0BVyShAofZwQMmVvj8fYrS/2YHiP44UkkCGMO++JHNBvzjxD0AYr08+8claQO3nsj4h1MQ/PK1oQAEcNj+5dX0+/jivP9QVF0CyvcU/TRk5QHtQyL8WbUJAZ6asP0hXuT9X0IRAwaFMQGdnl0DYPkVA7QAdPx3ySj91nme/MRA8Pj68Rj+hTYpAzF6AP13qL79PG9Y+3KxAQLhNxz5L04K+8vCAQIECjUCCs2JAoaVkQPsOuj9EPRJAbb8DQHtnf0D0Fge/mmkBPxGmW0Ax+jRA8wGWQNTltj+yhQdAQEcvv+Zybb4XF4O9okZCP7NZLkDb3eW+97wDQIm0CEDEyCRA/vZyP95TKUB1i2JAR1IUPz+57T+oWZC/oIJMQEa+rz8UnBFAJOsXPggcTEDLSZRAO/XKP+90wT8ej5FAsqGfQPOPdD+1pPM/fkPWPu6RjT/wqjs/RVv/P04yyj62PEO/6yItQC8fgUDqwV4/49pMQEE1bUB47Mc/1YH3Pw9Y+b533JI/GfuKP8r6qD9zanRAG7spPggogkBpLYRA59IoQEj79D81sZNABrRjP8VcCUAlbsg/zmfjPzhZhUANqzdAHdd8QDPYIUAX2xFA7eCGQK3WPkDMB4pAa2p6QM29+D94x6Y/UpmZQOiVXkBZp60/Ef25PwDCzz6/QM0/O6xdQATRnz8Z77A/Svo1QCJpSED6wEE/WPiGQHXvg0B4BwhA/pciQD25fkDnIRZAJ+ttvilNvz/l/xNACirqPyPr9T9H25tAE0IbPkU+AEB1snlAI8aqP5YdbUBuMW9AXblUQOI1W0Cqgri/d11qQH0/jj+jozlAHdFWP8Gurz+rHlxAmhG9P2v/T0DbuB1AHQJKv9l3KkBPIwa+ZvqDvtFJZT82EqBAR51AP6DJSED0S1g/M3QOQPwVQUDhDzBAxaR6P7u51T+fQzNABUDfP7D9zz8FbYdAi8ilvuppKEBmHHxAHWcaQEyzmD/mwYw/AlMGQMsHDEDYHQxA9QdAQEAeSUD4wndA+E2IQA2ysz+7UmRAUY8ZQKB7Kr5z10Y+W7HfP7p6RL9OwkK/y6ZdQIjIKUCyhBc+G61JP9ORtT8pkwC/Mftgv5amEkAkzds/dWwNQHDhOkAVUi1AK93Bv8k0m0DVsgxAT0V6P8PQSkDBGdm+NthSQKpVdkBNN2Y/Fz13QB+mGkB1SjxAQ5mLQMU8UUBZyUFAv75HP8F3V0BzfCNAoFKJQEm0OT40Ez1ATGuKQGWXEL/GnUxAyXLMvu1WgkCAsN4+zkAOP7bGg0AptIO/PgXQPw3Utz+52C9AFMPKPyF9tD+JxlpAhkx1Pxw8BkDB4phAg9UUQCdYU0CMZUJAkMMvv8Zd7T+KqTdA9/mPvuEFCUBAw1e/tVuXv9mrAr9pjwY/KP5EQLoeQj8iZxBAoS+7P7d9M0Dy4CE/V2DiP1mfV0AoVlc/VaPFP+2bnL9GXug/UOIHQH0nOkBVbXJAtANOP1ta+T++wA5A98ztPwLjc0AfMC0+dloNP4zcikCtkXpAXiBIQNEkP0CWoXhAmz8GQFoQ6T0KxxVAxvgDQLjbqD8Hy2JAnxNrvm1tNkBcXj1Ak1Grv+mAST5w+ec/umeKP9yJH0AfSydA2XinP3P22z8rIH5A6eV8QMWwL0CJtUG/NGSTvhqtYD9Ip0tAv/EWQBnf8D877J8+4GaJP+lLhkDaAodAd3FxQDmDKkC/44BAxjIzQDeae0Ami+g/Am6jP6i9iUCuFUJAMPx8vMjn8L6tWi1AHueQQAyr2r6vX31AkEx/v/3GpD+ryJ0/h0ScQB7qEkDwa2NAgzVEQLqQnz8yWZm/aGNtP8g0pT9zhIM/SoQwQBAQNEDtZyu+mpY+QO6TBEDpMug+Im7iv2ffd0AWziC/ijEEQC+7OkDGhBtA9BsFQBEGPED6Drq+BsoUPfFsIj8ovYpAFmHPPyKfcr/AMDNAS3xUQHPAEDwrTU4/jjcfQL7IRT9oZCM/2pCLP/PdiEC8vhVAnhwtQNghtz+d7Rm/sJEKP3wCF0Douag/c14vQHJpKkCPTnNA5jY6P+Bzoj+gS2E/KLrcPgEpQD8ILoFAD+sHQPetE0APK9q/79kGPxxa1L5Ql0e/tWpWQFxnnb8ua7s/3oYpQEICTUCGDzdAL4V6QABi9T7iCmtA8Junv+VXEr/yFgVAPvBRv1MglT7wyZ0/KtDdP4KIb766UOg/jeYRQOtNf0Do9IpA5GYpPsszMkB/9yg/OHqbP1lD675SzyRAKhokQIJldkBsU4BADP5DQG8bQ0DKm2lAKwBdQJIdLkCSvXo9mo7Bv5DwL0AWiTi/sYcrP1y+xr+rYShANp9tQHX+qb4kROw85Pw2QIKgOUDpHEk/AHb/P+aDCkD9TFo/Z+zgP39eAb2k32o/RDwEQN9FnD4X1o1A1UQcQDuJWkDGXT8/pjclvg7JB0BN6HU/xbNxQOzGjj+/Zh8/3uSfQHjTfUBxgoBAW+CGQJ7vzT+044ZA1Fx+QP62kEB6tShAjTq2vxDqHkBCeVZAb7Q4QPxZlEAi3BJA4Hn4PpitVUChhp4/ucpwQNnus79oHmxABp1MQJvnjUCR43M+zsunvvFqKUCtxllAHKJvQFhyg0AwmXVAIsBDQIpo7j+c8ME+qXzLP4TpiT9Uw2ZA3253P5vSoz9/kcE/cuJEQBb44z/UAKFAlvdGQJO2Uz1zMDw/YcQSP1+Y1zumBHBAFrweP937bEBuC5A/ZdjuPxZlU0DdmrA/sXI5P+TiN0CNZQO/fVVEPw+7yT9fnyFA1XzUP+aafkCZobs/pVULv0+Q4z0uuDNAB/9+QKNOHkBfsBU/MhM7QN1B6D8jAS5ArGiqv7yhGkCh3pRAA69fQAkKf0CHdH1ATVPjP4mEh0D2oSdAfRU/QIJEnEC9dQNAvbdPvvjjXj/cedk+/+mqvwp8gEDkai9A887hP3Doxr6CuUU/Hm8YQNr3nEDPi7o/0+ECP2yMS0A+35tAVKlbQB/uqD7INTpAp7gEQAEXSkCB5iu/RMNBQOdv+b44f6o/HDyNQOcElj3sH4FAjxUqv2G9d7+6DJhAdM+RQI4QN0AEeJZA04NfvzYubj+phyhAzVp/QKuD/T9ldyJAvy2TP3ytZ0AD1kVAcq9tQBvdMkB584lANYjmP1i3Kb2PV3I+pL1lP3VRBEDGwd4+rLl7QMDt/D/iut0+iJl3P0ARwb3vhkdACIUVQLAYdr7Q+YpAQDtPQMVSmUC4Fh9Aa/LuP1RVMkC2+Fw+pMPXP+gTcD7OJjZAwcMoQH5Bxz+knT9ANrc9QEvyVD7e4Ym/fqDBP1ERL0AiYw4+Y3XiPh7lCEDbEIlA5MX5P9nkN0CQjkpAWq+cQDAQDkD5IkpATX+HP64XiD9w2LQ/MEpPP4hxwD/59M4/4x9+QHHslT9vFAq/b2bMP2D57L4AOVJA9sR9QLgDQD+u8zu+388LP9F8AkAvpju/ZXVqQEsOO777VBpAkqY2QJ4HTUAqMme/ZArjv4BGOD85soa//O0jP3DTLz9RDn5AxPptP/iAbD+bk4hApXl1QKiDJb+o47Y/RtKXPxXS7D/han9Aka+8Pur6bUB5OD1AdDKAQLkjuj6beFhA+btaQNsZh0BToQW+/OZCPz9MVkBo14ZALsuAPwtEQkC92ipAJPXFP/cYiEChHiU/oEAmQNK39D05yxlAiOIFvveajT1fvkFAwGwiQLwW/z9frD1A/6tEQJT1vD8QSQJA1jw2QEbfuz9t5jQ/a+SLPa6FgUD3joxAJWl3PwoCAb+g60BAb75CQGrTYD7DhihAWFknQBNCYr803h1AeGQwQDKmPEBDAZBAUcrbPiAWSz+f654/zuMiP5VCDkBn2nY/L7+JvwuQtz8KsPk+DdlSQEjHI0CfK9s+YuPlP/dDpz5ox0BAj2vCP8KE1z9Cg5tATf6BP4hzzz/zTUk/bshgQOSRjT7pTTJAJJchQA6JLz+IjJ1ABm7kPl4L+j5h2lw9jcNsQJfVlz/9CCc/5uiVPwHwYED0/Oy+TLZkPyx5akBODkhAmS7NP6CVX78bwi1Ao7cFQLppj0CTjiw/lxMaQJwjST+d7DRA+tteQIRmx7+V60+/rr0HP++49T9vTjo/NQazPxryRUBFcEY/yaKJQGDt8j+B3Ms/jLMEQAr5zD9qzNk/62oIQDVZPb+LZAm/6hEZQAnXmD+smYdA1YeAPx1XID+Id2NAni+aQKEK676suzZA36oVQKEt7T5voQm/qJ+TPwR3JT+k7VFAO/JdvTU/cD69ekRAI30sQLx7yT/zZHk/AjyvP3UOg0DHnUm+UOlcPzpOGb9Nvj08Vvn3P3Hkkj/DkSNABNMwPxMunT+4QXZA6csiQE9Ll0DjfmpAGZu4P7yaPkCpebk/RerKP+8cG0BAf2k/IkY8v+XtjD846Q8/vIMkQOQsv76lT5I/lFsgvzMrf7/1HBZAgrZYv6C47z4fe39AmZKOQP1IjUBzgStACpCHQNG4dD/Xty1AXBRDv1ffKUC2mkVAHs85QJTuML9bUK0/T2BzPzV4kT9CrS2/mcQ/PrTIdL9vG6Y/NHyTve0UfUBRvIQ/eqYoQH+kVEAAz4g+RoGfQCRKVUBB89s/EpwCQDpJlED+twRAGeQHQOgePz+jTSJAptGWPgOOFkA33jdAbwbJPv2q5z2bl4i9kkHBP2bQM0BBrQ5AkfztPySOIEACHihABlNQQNIBSz+qjiQ+8e6/P/ANc7zf8PE/HVMFvzAfmz+Y6gU/+JVtP6x5d0D3ZkhAAUuZumBiYEBjt12+mOyKQHdqMkB7wSpA7elDQMjINUDAriVAfl7MPxmSh79UQ5s/8E5EQCy9Dr8K8wJAhIy2P+Pz2b7aONc+cH51vzuOfT6mcRtA+KwkP2rLPkAJ0u0/BG0MQAK0IECSbZY//6IZQI2wzD64/sU/6ki+P7zWsz9rsa6/HE6MP2X7mkDQPQRAkD8kv7Ri0T5hlCdA973hPQW9Mb/Wxdg/7Jn7PtApoL93P+M/7YyiPw5IVUALgie+bUhyQGsfhb8R8p1ABHC9PqHrgUC2Zvm+X9boPwVvU0BtcC+/CVvaP1XkAUCxgbU/pp8GQMOqq784mBE/nlRBQEy9Fb90uKw/YygCQP3zqD+Db5O+1KJXQAZNVkDoAktAvWXUvq+2wT/wHihAO92HQPKMS0C9vRZASMInPz6/hL8Ms5VAaeMTP26cxb6G+N8/bTXLPi3A0D9G13lAecOMQPvIiL7mEo4/4OkMQPM+Nr/cJXBA7hPsPzdYej/Kl98/CKE1P0nZIb5a2JlAiVCdPzLpBEDtywI/LfIxQLKBmUCBiOI/2xGJP8rcX0BnX7U/eajVP6jeSkBw84lAUXshQJXL5j/jXzA/4oH4PwB2gEDQ7EhA2fRGQJpXj0A/Rs8+NYvtPy9ihEBf6qI/nMgJP0gWXkAAX5RATVLFPa+EpT92fyFAIlksv7mlYb6Fe6w/LWcKP6VZOEAyigBASJ8/P+RVOED0rzVA4OhpQBu5qjwFgRU/5h3BPxZlQUBhi0pApOApP+aCfD9v9tQ/dpSTQDJGxT4xGkpAAKWqPxdqgL8YiT6/ejyfPp0COEAFf5I/p1kdQCH/qj8htXY+wwMtQLxo/j0YHDc/KYGnO9OUQkBzWydAh8ptQGbnLj+4MU5AkpR1QEfJAEAFxvc/0MhzQFni3j/2vYJApFg/QAg+G0AcSew/qpdLQAYAaz7CsyQ/rKxaQMOGNUAPkXm/R08aPtQCFEAmRF5AKxczvzfynUCOtGtApbIDQMGMlT9uaodAxsplQPvOsr8Hwls/vUXZP3SXsj9qeH+/+5CPvnLrzT+i0BtAhIwBP8/n+b7hAdq+LgpyQKyIf0AvWitAMG9sP0PNez7BkANAHB6pPz9PCEDO4UQ/l77jPwkdnD9ZhKg/W2o+Pwpuaj9LjntAI91hQGsQIUBy2e4/hGgnvimiJr+0Omi+ypJgvZXxhUBaVmRAnsCuP15kPz+2yAM/Ch6PQPpJb0DY4c2+xr/eP4g1AkDwHyJAzF2pv6gbpz+efVk/78ksQOfq6T8K+2RAC4S5P2tEBEC8hQ5AaaSGvz/Koj//tn2/fGsaQCV7Xj8L3aQ/CcQeQPUICUB40Hy/F3A9vwgH4T4Q57k/27tIQPUbMkC/MElAx840QOsDuz+W9oFAFPhIQMlDMUASFgFAWmY1QHyMbUCj/0A/P0mCP2W7J0AYzWA/TAcPQHSg5DsBHZQ/wZbeP2Wmzj6Qhxi/1cApv3zMdb8U7CG/rGMAP4wtgEASIP++8l2Bv1K2ib+LhA1A/aJEv3y97b4YZZk/lAt9QNTd6T8W8KU/ZinMP0vq4r9iRhA/MaooQJzNTECOUMc/PlNxPvT8hj8GTYg/NntgQIVJxD+2jRVAROSEQFlCjkB20yVAsxpeQFGJKb+78KC+Oeu+P/51qz1LY7Y/8PBtQD4YgUD/wA2/xXgdQMJhub/QXClAxZbHPyS31z20VlZAWvQ6Pk94ekBgpE9At3eXP/Up6T/wI0lAD1WTP5D6HkDjQHpA6gYSQDxEB0AxeUO/WqwCP6M/TEBaXak/4+fnvi1vD0Bex8A/kWqmP8VzTEA2gfo/wU3uPx3F6T/KBCy9TmqdvTPZCT+oEnRAgeCbQBZ9FEBt7cc/UEHpP64xHkDZ8IVA2M5JQOtCtj+viuy70utjQPZX9r3AlvI/OXcWQE2dY0DMlBJAV0luvy1yJEB2vHJA6eRBv5nFqj6huae+mnCmP9CJUEAuO4o+rMYDQAXPjEBOZno/jLAvQH6mTz9QAa4+FWVTQCIisTxUJ2xABFk8QDAwtD8cF2E+GMwDv83vgkBVWlRAE7wKQBAWKL8/DAxAP1iFP8VJKD8ni5xAeuVwQOziaUBtIt6+acXePiH9zD/7oYNAujOaPuJ3o7wcJYNA1576P9/WJkDlO5G+yIuVQCXqdUDjlki/SJPSP4TmUUDayDVAUThrP1OpKL4zXLs/2mRHv1KusT9uZwu/IGTvP1rYc0BUXSq/T4VHQN99AEBlgghAyEXCPvTXqD+EG3ZATYdOPgW3hr/FX/U/9uHuvieID0BQF4I/1BKFP6oiMT8mrUJAGhKHQBn9P0CcIi1Af6T7PgyPQ0DKi3lAI5v9P5DBrj8x2i9AC3pYQDfTh0B2gLQ/WYyzP9O7S0BmPws/bflRP5nyTECnqYlA0NUaQGKmQ0AAuhRAdigGQIAc7T5J6ao/2t4NQBboNj9bhKy+JVvYP/yaYj8TSsY/59kkvma1RECvwGhAo8xkQFpPrj/FPdI/TGz4PqqNNEDAai9AKucuP03tqb/bRWhA31luQAhnTkCTBYa/GtEFQLOFbUDzgJI/X7TlPV4eEUCk4+s/78UwQJt1L0C2TEg/vWfHP53iyD+5Pfm+p/OKvzzXQkBDzU4+WZtuP0ERmb3R1ps/zQYNQHYMLkC1KXhA/L0oQJMzAEDoHl4/4GeiPw1DCj9ICpU/fUYtQDxWC0A+WlG/HsISv+m0XD9LxgFA1+R6P5PZEj/28Lw/541EQM+pAkC3/Pg/boqIP3g9hkDFN1BAmhlNQFWdVT5+KBJAcOXDP0taLUCFz2VAPFG3PxnHGEDo4nU/5c+WP0c+9z8Tq7w/9JMev1bScz8xCv4/MVJbQD0M+L6DG+M/WhgkQOJ56D+WnhtA0IgBQB/qXT/JYCBAyhszv0vNjz9uWE1APdCKQJBGBz9zNNw+LYTMP4TFbD8W1EtAwq/HP6zyXT3tnyZAsHVZvmebcUB8tztAff/IP4FHOEB5VjRAlklxvy1NTEAUdXJAKaOLQEMUe0C0bs8/F+W2P/IbAL0ClglAiWeAQCmfKT6HXaI/TuC0P0PfUz6CiC1AnI5UQKesxT9w83S/iCvpPmuPyj0Vc6A/HMPvP2n5P0D0DItA9i+UvrPQxD9ejV5AUREIQDUaEUCVjcE/b4eNQINfI0AIdx6/fGktQAjnQUBSEQ6/FcdGQCNDQ0Cd7T0/X68vvxl98j+ALfQ+DzWwPwa05T9Agfg+zVA+QB3/Zj+MfkFAmmv1P4ooBEC6hoJAl6fJPlMWpj/DWzlAAiJgPweyMj/Z7kdA7K0LQNzCHkC0SyRA/nNFPnT+gT5d5ng+k8E/PiJ5WEBGAaU9C5lMP7aR2j+c6m9Apr/IP7Cf8T2ed4w/8rpmQM0bO0DilAJAI3F9PwZyDb/7qIK/QdwlQMXeDEBqacO+J3qBQNF+3T/4AX69YCeVPvCo4z8jDEZA7uZJQFP46D8Q9Lk/c1TbP5+qC0BTz/k/JlUfQNEdA0BXmwO+r9XJPn2g9j9mHt0+c913Pn+3lD8mgNM/KB0ev2pGZ0Cn/M0/t1H+Pz8dFT8GzDy+Bs/aP1DYJEAArCu/lJFJP9oG0D+FF4++OLx6Pw3mz75mLWU+mC0HQLvX0z+Bx45AqtQnQILysb4WdX2/ZvnnP7B+hUCK2q8/KUxhQBsmfT5jmVtAdzdIQAW2N0BB0pA/cm41QJrxOkDw6VhADkTOP6S6O0CBjqA/BawWQOMTbz/1bB9AhwMIQBPJlj9sE0hAth/zvWlSB78BNpw/8pfrP2D3qD+lLUVAO3wPQMkxLUByi3u/i5w1QI0qh0BftSpADHdDv9iGe77W5ac/4vhhQO2nMj5wI9Y/O/EwQAe5gEBsqiRAsW+wP9BOLD+yReI/KyX5vTJkYb+cF11AyK6bQIa/hECmYSNAE5TZPnCXqz5PtBxAgXRUQHCW/T/7w14/cEnJvm2HQEDRUbg/pedivihdjkCItRRAW96hPsLJtD48ZRpAXVCzPo66BEAFurA86dcqPkcgKEBpvghASoE2QI5Pqz8yxxJAsWQNQNu5aT8GMgBAQnuDv4wvzT9xdKE/7GvDvo19CUA4AD4/BSlDQAl5/j/TslZAFCu0PxUK8z9OKJVAqcamvvdnWT7YVzxAWOJyP1oAWkAO0JM/bxEQQNXCA0AEwaG+xs6AQNHazb4JWIE/jvPxP5neZkAS6bU+vaSfvmh+c0Cm5OU/AOK1P/z97D7vG2pAPr5MQKYNgUBRYd0+zdJLP33INUAdigdAK0BEP9FqJkBC94tAPy6DQMfeOEAxiQFAWpeRP8G9lUCYjqC+X36wPxmEIEB8SydAyPjMvHqnzT8Rn/k/zWoPQDopCL8pNDRAoCgYQJb+D0DUJfm+ygKGQIWSjL7ZAjpAKIY9QBvNAEBTn06+pD2XP2UyCUAvOT4//EsDQE0rJUC29zJAnehKP3f9tD9x6ua+GsE5QA9iYL9hsjE/se6av65JIEB3p5o+VrJFQH0Cgj096s0/T1DYPyOjfUArhGRAqi/+Pz2fHT/ja4xAqv0oQE3XKD8H/74/6zY7QGnFAb6w0ZI/Q2ohQIy4Rb8CSJM/vc8YQBLk0j9DG08/9qKYPxNuUz8YK4tAcUpfP3qaCL1Xe21AHGXQP9I0NEBl3dE9iMs5P83Vl74wenRAVJIIv78pakDkk88+vXKePihNQEDHaEu8PcPWP2bZNEAteTw+nKt7QG1Mlj/5DhVAcIsSP/1uzjyLemtAf/gaPskf/D+QUGe+hKASQMmluj7fApM//sp2P52Ba0B4G4s/EVp1PlEKP0D2ElZAlLfGvryllb4/a+E/fm9FQEjh9T/QMbs/OjcwP3UrB0DVsMM94Ph9QG+R3T+qnrU/wcICQGzUqz/LPIJANfGCP/5FjEA3Obc/OzshQCFVDz+yDOK+0p0HQA/1yj82ISG/jxdYQHZd+z6fcitAouYJQIAw4z76M4C/Yml5QP9vakAFOhJAx8hOP3j/sj/FfWY/f4u7P9egYkC9sqI/1Lu8P6skLT8egFo/8zRcv+Ud2Dy1VylAvbmKPwTzGUDvKng/fcA6QEHMv74t3ypAmWYMQH85m0CilYM/w5yOQJFk4T8vPgdAGA+Lvs+UzL63ZS1AIlGOPyIEsj73VOA/6t4MQEvSJUDCaBBAU55SP3All753KNm9Ldl2v7CQfEBkMCw/CSloP6RnbEB3jnFAxzEhP7hyKUCp5rM/Q4vrPwQgo7+U+Ea/mw2iP//Vc745NjY/uk0gQHF3P0DLJUa+nUGIQK+T3T88nnVAgyfbPpPv/D9T19M/Ev2yPoL+dT8LCihAkISKP7NoYD8CRvc/1wUrP4W3qL8cUFtAen+MQBtIEEAvRTtAsT7VP4fPf0CQuk5Auq6MPsEM9D+x0e4/O9b5PzdxH7/SZohAdcyVvTB0hz6i0FRAn+oXv6Whm0BHD4tAU1K6vx+BvD6JAVdAPfV3QKVCnEAf9oo/RTOCQKK0aj/JUss/bvxLQLjnt74CzVRAQnoOv7tuAD/yJPO+75d7v0kxrz+q1Bo/4ruEv1f1sT+EIOe+DBRUP8OP3T5qpBdACfAXQIVt1D4VsFe/rTQWP5autj9sDWO/4EtCQJH0gkAWjFpAeSFHQN3vOz+RIsw/TwogQPGFj0DvvGRAv7Env8E3kT8dlaBANE0nQOoHjEDEmA5AMvRXQILcCkBlsy8/A5T9PrOPGz9+4ho/HIWpPxX6Ur029qo/35PaPfD1oT9zU8c/MN4CQMhmGUCi2jdAvPArvRd13769AyU/9FTSvWKQrD7/GyE/At3iPy1PCr/WHwlA3/MWQCubX0BWPY1A3+5dv0kKA0B16wRAhMsFvnjFKz+Q7YA/AsWXP+Bmoz/mlLE/xboYvzoskD7kkbo/2NauP14ljT+de6M/7ZT3P9YJJj/IZdo+x9IgQNc4kD9OG7E/gA83QGXy373fTwu9CIeBQD7qI0BpjZ9AXYFpQAr+a78mSFtAp5c8QFgPlD+/QTk/rdH0P+68CECHfXK/EH7LPvJsZkDlwkO/OlOTQJr1BUCRvqE/q2c3QND0gzyN6sU9jlU9QNELn0Bl44A/TT49v16HoEBcOoFA+HGJP5FvJ0Cw2rw+3/UfQKwpwj/GqR6/4m5DP6qE2T+NYoU/3sAMPvxlzL0qBSo/nygzQPPnHUBRKQK/WhkuQN7CZb+7FhQ/Mq55QKbsKED4+EJAN2DoP/f4E781YaE/IgVrQGQLDUAkNytABegVQNNmLUAnSZg+HGA1QNQe6D6edOk+AEMPvyOsIb+fqoE/yexAv+ECy76xyQI/r+cbPyNDtT+K0TJAqsyZP5ivED6kFx1AwWH+P+QajEC6yD0+hBTFPyuOCEBxVIE/QDkjQI3nUUBoMqQ/L1ibP+pBrj9lofU/bVFVQBVMiz/kQia/Hb05QKl3a0DiuV9A9PuRQOeHeUAdBLU/Kkwuvz6byr2O+/U+pQv/P5BxVkA11CG/F6wjvraOzz4yAFdA37yNQHA3OED4414+maVgP/JnjL+TFwxAT1e0P1iqiz+MHCu/UrUyP063gz6X+WVAm5dBQJ+W2z8saixAwUs1QAak2z4w058+0G0VQOejHkCQvrM/9IgrQBta6b6VpQk93CjNP5z4L0DtSYq+LbBIPwS3jT2510pAydkUv1xQHr/JEtY/TSwYv/NJgkC86yBAVhfHvWViPUBy6IxAiNiDP+P+TEC6lO6+8nx4vhIcA0CidA9A5klQQJhVUD+9Ck1Ar5TXP9jdAL+F8Ks/FR9oP2fCiUAsogVAoWOGPwng3j8mh1o9uISCv3kjQ0ABvjpAlvEEQA7rMD4Vl11A60hCQDDVfD9w/+4/8l45P+Folr/iuuM+zVpUQEM2P7/+okY/RdcCQO1fekDzVS5ApCAEQF30DkDvsO8/Io3ovvylqT684R5ApkXHP29NKj+ROGBAsRVqQC51Xj/RkUw/Vij+PnjewD8UxmJANNo5v2jeyz+bXDE/KwcRQNnWMj/QQfc/a582QABqQ0AY6E9A6lgqQFWgUkCtj7G+MgiMv8iiEEA3e9I+Rb+MP1UgmkDFXII87Z8nQHmMI0CbVy5AhnQcQLsr5T8+yk9Aq9JAPwryKz63HF1AMAIuQAN97j/ulCy/tw6HQKLjLb/JmhBAvDBGQL2LrT0JaL0+7jo2P67I2r7hYjg/a9Z1QGH+TUAzlNg/WdgdQOD9Xz8xwTpAOy9HPsg5Bz47ox1A78HEvkeHgkBnCA5Am5MOQIldGkBz9Qk/+XuIPu7UGD7x/wJAdGE/QAkwWEAyMBtAoobNP8mrM7+Tn5M/yp3cP5RoZz+RLmu/8fXjP4uf+T5nMOs/HCmKPk4me0DrVDNA0/OSvtXrbEBFiqs/21fKP5l1wz/ZgVVA7AkLQByGiD8/ZYg/msxRQLDcQEA1WSVAr70UP7pqDkDILxw/udbhP/lmQj+aHf8/E5oUQFv0hz8xQz9A+BNDQNPWT0AZ3ydAv3YtQDfMrz8s1le/3jFBvpB9/z78Cg9AkQRAQNsAtz8kkQFAxzK8P1NE/L0JAIm8TlNkvyjAuT+AUyA/FNq/P7dwg76Texs/98x+QIyZbz+quX8+m5KBv1Jo6T9OcQhAx5rXPzdrrz62yfI/JwJQQPrpvL4vdE1AveqnPrpOQUDrCt0/IzD/PntNG0BDvDO/tVYmQPRtHUBFwzY/hX5+v/8VhkAfHhFAJIP3P9LnYr63JoE/KWVsvkFiJj7d/wlAj/tBQB0XCL8cCl5A2WQEQD7O3D+ZN/k/t6deP1l1yT9p750/GyMrQASfhj5BEBdA2WFHPsDlrD+1LhpAcw6APzLw+L7CY6E/qZ2zP0fthr+gjg5AmnkkQDlExr2ykQFAeHuEP97Wfj8oD9M/eg/GP+QQEkAQt6s/sf0XP3hbmT/QQw1AvawWQNe6REAP3jq+ZLg4Pzr66z98qQRAIgUwQHoyAT8POKO/j8D1PqeYj77EZ3w/uynAP2pxS77luWBAM3pwPcQ0XUBI4jVA3fv+PzWFOUCPSz5AtXfhP4WWqz+JE46+1wApQLt92z9BbN094ZabvCiabkCHMX8+Ke9DP6xFBkBKulZAp0cOQAxJKz8gOBhAspuYP40TrD7K3xZAMqi+P8+LLj/j1vE+Aog6QMh8C0ATVztAN9BEQE2cAT+Vxtc/EsKOP4aWNj4oOh5ApMoIQO1p0j/u4QC/YEcUQBdqnb5KmiJAChygPzbRuD+szYC9ZxbOvkfX0D6S2w1AUTvNP9cFqD+nXBRAfWZxQJgpNL4aIRVAbNmJQAH7X0AvRgZARUSgvcMP/T8ddpU/eLOcQMeKDD8uzxQ/Nt9VP0FiGUDJXd4/Ijs9QJtFW0CXXzZA7Iw3v6CncEDynFQ/eegtQHPP4z6RzcM7ow1BQKALnb/lXZA/WR3dPz6qt7z5PklAxwMFvfwROT8u07a+pRMbP51cK0B3hvs/LDd1PYERV725olJA+G8HPgbOfD/Yo7e+8j1UQArA2D8JFyVAKofqPwpyJ0Cl5RFAjFmjPpOrcEC+vms/+10qP+B7GEBJEpY987TbPkObTEB+O4c/PHbuP1omoD9+xDFAs08uQGvGUz/pyR5A2stKQLe63j/I8/M8BxfBvaSRX7+IMBdAfDQPQKVIUz/2MuI/ZqbgPIF4AT9EfNU/okEHQGdZjD9/BrE/nJS0P+f1kD5AWTU/PMttP40yrj9GTb4/j6JEP9B44T4FbVm9xdcfQDZs4j8U3GK/NmkyvlBUoT+BvQRAO0uOPxk1H0BV1sy9ZzlAQP1jNr0bAOI/rHHKvgZPmT+4FzVAkHpAQJuNJD8z6Qo/4V8oQJg7hz8+zoo8CyqxvPDWBr9+yYU/77aNP3hDKUDn/BVA3mM5PinHVEDDqh++U/WmvgPsAb89h3NAKpsoQAXXM0DOXRQ+kCAQP2d2aT+8WKq+qIERQHMwUz+xVQlAFCdAQPo9UkAGV6O+c3TYP0JBgEAEdMk/RxH+P7WdmkCUGZu/POUfQEZtwT9VDDdAo3YSQGf3jD123tA/87Nyv9FZ7T5uK64/7rf3P52SID9CjOM/fy5IQLsE/j/X2fM+XqXgP/ACKkCOL0FAdmcEQOB+Iz8Cou8/VrAeQP2Xa0DAN6Y+ZBVtP2l0ez5GECa/xO3NP+zI6z+p3BBAAoJUQILSDEBkKlI+QcCCP6QfPD5FtgW/MnsFQJVCuj9hBx5A5SgPvtxMX0DTQjw+2F0Rv2pDd0BJPIxAnkktQBHuNECxeXU/hKGMvqliXUAFe3A/SVpePnKcwD9MprM/HUsTQK4U1b567TU/tNkUQPjALb78EVU+Lo9hQJMUR0CEQDY/lq7dP7abekA5FChARfWSP6KeZj6zDkU/bIcnQAy4qT/Cfw0/XnfFP5xIqj0tPjA/zbpFQLt8yD/zxCM/tGCePw+vGUCCvZhAWqNeQFFHTj+yIYRAUA3avoWt7j9uEIe/8ryIP91SqT/OlWhAVUDjP6bNW7620Jw/d5dnP0YB0D76j0dAj11NQA2RIUBKCtA/YcsIQOM78r43toe+jN6WPxKZsj5r854+g3QzQMayiL7qI1lAfqjMPxwuyT/5Bdc/bx4tQJ92FT+n2Bg/2dJ1QDHAmkAm4HA/lIIAQPemojzX6T0/7HCCQHIm2D9XBVI/8TCiP7KIXEAfDYw/jpW2P+cEWT8j9DtA4B27vrFo8z8Udw5AjutCPxaa3D9KGEpAJxlsQLTm6T9rFRdA+PQGQKdfrL7kOAVAwWegPjLiVj6OYJ4/kmpVQISMgL9ke+a+pHKvP0uHiT83brk/7jxaP/jPIr+uUhW/2tiUQAlK7T6QKra9npA/QIiJVL8O+xtAZAnKP/UlMUD+RUBArlhwQNsUzT8/mfY+6LeJP9g8GjvHa0g/Mr7uP+U6uz/MNnxAvzB5QPfMmj6/Ay1A/wYxQIXizj8Gb1pA9PmPP8PVoj5XNSM/5mcnQI4FBL9vQMO9L1tkQI7cCj+CkklAu4PfP2Z6mD+7yERA63kGQFEVVEDIcQ1AZqlWvueWeUC4tLY/iC/dvogfFkAEPClAhbt+P2xdCUAi4T0+Xr7EP54CKr/wYQ6/SslJQBRCd7/zZI0/fJ2/P5pOVUA7tqK+ultxQI/YET8r4w+/AiElQNKuDECIwjdA05oUQOHVcL+OxqQ/jnFNvr2+GkAqc0w/VfEDQMFgP0BVD5M/+xwEP408XD+UQDhAtVWLPTDk4j/fH80+D5rtP0tWRUAV14s/LsIrv4ewqT/IJOM/a0QQvzpc3D9Q5JW9K9s0QDta6D52KI6+Gg5pP/qZ2T9G+jpAOsQ4v/JTDkD93BG/zGwhPea9XT+o+DNA9h2DQNHQ4b4rNX8+qR5iPtgxgT8F2C9AN4Q9vrRwbD/2bwdA4VaqvYi9GkAYOw5AfJCMQONfV0B7wRRA5nEZQIwVQkBaoSM/vCKcv/X8Qb/HSZ0/hR0+P7nBUT+Ajek/ThkvP2WTgj+nJ2NA2VTGPpVrTD/MCOY/N3QIPwAZGkDnAhu/BfvNP2MEEL+PA7y+xcwAQCqqgz+Pkcc+PjVLPyaxzb0OG8W+4JDyPpPXwT+Vk9k+3VqrP1YrmT+o4ps+OMyqPyWnKD2uHEc+viJBQJxrFz82BUA/1qtRP3l5gb8+xv8/+cBgP36dYUCHGBZAMhDPP/piKT8MjNW+GvJXP4hWmz/j10lARBdQPt5fkb4DsQC/PdQKQKRiND8+nUNAJ9qlPhWpN0DHxCpAfYhVvw43nD445k2/jBuNvnaJyz+l+ty+bPwhQMUQBUAJ0uo/XzQGQEA9DkAH9FE/O/TbP+Q5c76bwPu+wezsPpl92j+HBFu+GymBPyZXLkCCuZy+NR8Vv9Y9ar8Oqt8/DW6XPoK1PL7hKUtAOLUeQD6x8D9nhCFA7YUGPuvKIkAOntC+/DQFv+HR2L6qGT0/rGRSPkw6Fr/dnMw+GkjMP37NDkCEsilAN/7qP1sTa0B0EmlA4cUuQKZrrD/nGCe9uCgFQKM+hT5/ogtAfVERQESm0z9mHrs/d9TGPyV5LkA/pfU/LErxP0sCjj3bTr0/ZyEBv2sAgj87U9I/6ohyPzAAtz/tTOI/jHaTPrHSLz70NGA/IlJBP3ElR0BGPV5A6ghGP6Proj9xnpI+Ok44QDhg0z/crghAzFmlP9pBNUDK0Z8/wNNgP44owr1JFh9AdMgkPlp1IUAU4BtAQMfmP0+KZz9UDt4/WGEpQKrN7DzbPAZAVIA7QJkkEkCbgoq+dP5QQFNeBj+vF0S+lSMTPx9+KED7iso+YU2+vhGm0z4c1U5AH2t0P4zJKUCoVUpAiRK8P3+KCEAl0eu+QLDoP9tM2j9DnFM/8BmMP2BXBEBeFL2+FIj7PzUOa79f2Yo+66XMPu/AWz+MRAg/CxF4P5m1NECJCCs/bqXKvjEVMEBF15k/L2GvP2HKtD8SXck/XGsAQDrRWUBtIp0/C/KEP3O46j9V16I//HDGPyz+Q0BwAwa/A4+mPfTCgz+hosQ/InmqPzKBEj6Ur80/OBclQMxTR0BYwf8+GHbBPxmsyz89oRtAvDAfQJiqeUDiqLK+GFC+P/kjKUAOlxVAs/P1P1v/KL6cGWa/tmUVQPe1MEAlm+k+EnNFQN7+XEAsBUlAhJmnP7M7Oj8a4M4/+CB7vd3pOD/afeY+QpdfQLEjj77SkzU/hCQjQDUILD6NjvM/klTHP5dQYD+aCka+NGMcv42LEr8EYkJAcvcaQA4qGj/SYzQ/lUcOPpzAREDLjO4/caJwP0OWwj97U5k/mVRYQGQSzz/buOI+M73lPzu6XEDfNxBA+hjBP0c2VD8ZfGO86ppbPzgIB0BZ77o/KVZbPj7MeD7SLBFAtPSovv+8YL9/Kkw/PnxPQN58vT/mHT9AFyDsveunE0C1xK8/WyBkQDtogL+b7v8/vMQmQJlOIj8PHxFAg0+HQAueEj/mRyc/g/SMvz13Jr/hRaU/ntqiP15fnj0EAw9AOz0OQGqISEB4+Iw+2BwAvrJRCj8qCixAfqJ0QOzAHz4g/gxAIF42QN2dGL69tCI/fzM4PpFkTr+dang/Gvi0Pn48kT+g9w9AAQvgvnVNHT/hwg+/ojN3QGbkhD/zah6/u3b3P9Wtrj6OQRi/xZoiQCw85r5hc8e+WPtgPwkT4T8Kr7U9WtqdPyhga7/BQApA1shNPbpcQD/rvVI++qCRvnXKxz98AbS+o5LoP98JWj9H8gxALz8UQLW1H0BhTsA+Uwf+PjDA/z4xBvY/F98iQICyij5dwhNAb0MWQIKJpj4CMyVAYVKWP0FdNr72TTVAEy5nP1VdGD9vCr0/D3Hzvl9yzT/B2RC+Lam6P2tNG0AknbM/KnQbQAcw+76wLbI/MEwoQKKVPj7g1eU/8Wr2PwzuN0DKyUs/di3SP17o5z5v29M/skY4QAiEA0AzKpM9WW3pPje5Or81/U1AtEcVQDPNMECKElJA5NrlPq/gXT9+SP8/rz6lvfDNIT9rDhZAHbTvPfIHHEDNL5o/SQM6P5qdG7/cM3c+bYw3P2n4dj8rJyW+2xRKQNITpD+Ldi5ADx5KPic3GkBekuA/6NL6PUKJDj+v/xU/htD0vALEK70gxi++5fxKP2ZbnD+NdZo9/6ZIP3AmOj/geHpARkmvPz4hS0BW5t8/d9g/QGh5qD8OLxBAE3YMvs9WWEDBI8Q+Y7AOQGWkJT4Jd4Q/PEpkvlH0rb6oA9M/JJoRP7tjQT+qG64//QgHv94xMEC+Aw1AqVlpP9GCvT4f+I++qdC7PkHSHL4+Bfo/6uBnPJPJij8FPZS8S1nrP2jiEz8Q9OA/Wso3P5feDL9AUhBA+im+P3UuDT9VSRw/wtiZvi5vGr+39C9AINccvzAMXECQ00pAFMxEvgYdvD/JuLi8bSwKv92b1D6ndpc/y20XQA+fQUD22F69lM7IPpIPU0Cyo9M+MPwlQJ628b3lEHpAkVJyPrQrBD0EB1FAVkC8PxPE0T6xOyQ/P3wePSbSTEDWgb8//aXCPibWK0D+f8a+o/xSP6jLVUC7J34/gFnbvmnhGUAkjIJABuaIP15BID+zgh8/6D89vqa/lT9YSrg/5arBP+FfET326cm+DnMbQMDWpD4k8MA/7dfCPq2tFr8jzY9Av/YNv81HaD8WQjdAYF2QP/i9mT8noR1A03QUQG0pgz+O2ds93GneveUEW0D0R0i/Hcr1P5pwOb6cK6Q++HSlP/DLJz3FXgpAKVA4QORJ9j+s8GVASxiZPjT/Cb/gOA4/wMyPP1t7FkAqtiJAcn3NPmgJ3T+REqm/clTpPzV4cj62K2FA/hi3P19q7j/Hy1s/OWibPllVJEB473A/nGQjQPCylD+K/cO+cdNBQHWnJz9MGP++qE33PjIxZ75bnwVAR/HrP7hwJUA6JvQ/ikFUQAEeYz5jDhE/4SkVQOSVIT8Y6wW+XB+ePlB7L0DpuzdAPd4HQMm9+75GMzdAK/UXQOq4lL8tMD1ART1GQGqbZz5JoAc+HY11QG0aYUAfaDC+ltmgP6JP0D/okAxAWdgUPzBEO0DYYSFALONLP9blOT87iJM+GroNP2tmH0DRNjo/yPv8PtjB5j9Ov+A/L/nqPyGwpD/FWyNAZDyqPom6mr2mJRI/vg8IQJiEoj52DRtAVPIivV4CcD+AAgC/7y+RP0lKgj+d/B+/BW+MPfw7Kr+KTTs/BZrBP15Tnz7jVuk9p9uSP6pxt765fwQ9oE8pP+yx5D/yNUxA8H0yP2IpPT/DVRJAqvTIP+kInT4wTx2/YdiNPwK7FED+/A2/+xy6Pz/hF0DWJ+g/UyRmP3sllL4r8xlAZzU8P86e0D6pAz5ADlTPP3Jad0BE/7M++7k/vt9WgD8PWus+e8syQF64+j9MBNo/ID3EP3EG1b4/4Mg/NIwuPmyjIT+pBCM8AhWKvgdGXL5B6ao/ooZTQDjbVb9ULAC/RVAWQH7msz+mPIo/RoxpPxtyGz/9pc4/sG1OPjJYJED+Qn1A3XBWQOqeMUCXNkFAXwuSPJKAPEAIEA+/PS8FPvZfZT+DwSY/AKhFP13OuD9o+AE/J9u6P2Ns7z4ZHEBAKwxqP/XamL74lS8/QV1BPzkDND/SbZ8/hTkuQItDr746P/++ZyFqQOisN78+rrk/iTP1Px0GLUB7MOE/XsZ0QDMTFUCldvs/gb4aQARqrz9QFio/tetMQPE2sz+BMDRAoSBLQM1m975gwAe/To96P0/PPb6PI0BAh8nnPkPnIEAYKUw/vSa8P2salj6JKEhAqgmHP9yEBT/a7qw/7GkyP/G0BD8R6gE+sFo0P6bFP0BCR+8/HWu+vvp+E7/FSBRA+QCrPtTJaz/20VI/3fSFvTEBkj/I8kZA5+VdP2IgakBXMrI/bz/XP2XUPkD6L4I+ryiUQFHs576SEgJAla4IQLmtuz/Bp0RAjBoFv9D/xD8n+RI9lrknv8ynFUCNaek/yVRKP7xaOUAQ1xRAyD5Svg2vIEDjmxVAjGv1PqtRyb4xQgO+1F0kPyApgb7A3xK//C/hPsECiD6KWco/nJGGP0ojMEBms64/dalyvofkQD+qilw/xipbP5MxJj5lT5E+VroUP+SDMj8N3yRA4siXPor8qD5tZ6Q/LP0sPxij3DwLlUhA4aeXP4SSg771CjlAFnqUPj0sNb7K7dE81LaHPpsIID6B711Aq9uCP4ccjT8qTcI+F2GdPk2qj74CBIM/vzotQO0ZND+iH+E9a9jsP61OqL6lRak/LTnBPiOAgT2MLztANXe6vaJg9T+eduU/bPmKPyt2AD6RlNA+drEMQE7CTz99u5c+ZbEMPzbyOUDKWeU/42MnP9rX2T3uIYe+UBQdQIEg5j+tCBm/M1P6P/hCJUA5dq0/E+SVP4HSUj9X1Rk+DBQVP+oHXT6tCZg/RDP8vpOY4D70F+++N1o1QFUduT5lsXRAs3QkPzlALb+jL8I/jPujP4Gh7z/jcew+8WfoP5ySRT8l2aA+Z/9Kve8Z3j7A1CRAxx9DvuZNoz513Su+0MhDP7CWlj/JL2FA0FO9P/7TLD9bkoo+TO9hQDHH1b5/ojU/fvw4QL2jPD86mTY/dukZQGnIAkCFbCS/iGIzP+SKMEBRLjBAKu5/vkvA8b6scxw/QBQOPoBxET0SiJm+8aDBPrGiEj9i0TQ/mIijP7NGWUBNTh48q+cqPybVAD0qxzs/Meqbvo1iRr79jVY+7ykeQI0ZTD+3t3c/Ue42PxYRQr6R/sw/RJ+IP/5qAL5h3CU/KMWMvUD96T9DGMi+betKPsW7rT9CqjpAFegkP11COz+3lUZAqJs6PwrhbT+288O+rB3pPq9EFUD0p/Y+iBDjPgzF7L6N41I//FzEvdDfdT8DY50/ggkjPxul+T4=\"},\"shape\":[5000],\"dtype\":\"float32\",\"order\":\"little\"}],[\"color\",[\"blue\",\"blue\",\"blue\",\"blue\",\"blue\",\"blue\",\"blue\",\"blue\",\"blue\",\"blue\",\"blue\",\"blue\",\"blue\",\"blue\",\"blue\",\"blue\",\"blue\",\"blue\",\"blue\",\"blue\",\"blue\",\"blue\",\"blue\",\"blue\",\"blue\",\"blue\",\"blue\",\"blue\",\"blue\",\"blue\",\"blue\",\"blue\",\"blue\",\"blue\",\"blue\",\"blue\",\"blue\",\"blue\",\"blue\",\"blue\",\"blue\",\"blue\",\"blue\",\"blue\",\"blue\",\"blue\",\"blue\",\"blue\",\"blue\",\"blue\",\"blue\",\"blue\",\"blue\",\"blue\",\"blue\",\"blue\",\"blue\",\"blue\",\"blue\",\"blue\",\"blue\",\"blue\",\"blue\",\"blue\",\"blue\",\"blue\",\"blue\",\"blue\",\"blue\",\"blue\",\"blue\",\"blue\",\"blue\",\"blue\",\"blue\",\"blue\",\"blue\",\"blue\",\"blue\",\"blue\",\"blue\",\"blue\",\"blue\",\"blue\",\"blue\",\"blue\",\"blue\",\"blue\",\"blue\",\"blue\",\"blue\",\"blue\",\"blue\",\"blue\",\"blue\",\"blue\",\"blue\",\"blue\",\"blue\",\"blue\",\"blue\",\"blue\",\"blue\",\"blue\",\"blue\",\"blue\",\"blue\",\"blue\",\"blue\",\"blue\",\"blue\",\"blue\",\"blue\",\"blue\",\"blue\",\"blue\",\"blue\",\"blue\",\"blue\",\"blue\",\"blue\",\"blue\",\"blue\",\"blue\",\"blue\",\"blue\",\"blue\",\"blue\",\"blue\",\"blue\",\"blue\",\"blue\",\"blue\",\"blue\",\"blue\",\"blue\",\"blue\",\"blue\",\"blue\",\"blue\",\"blue\",\"blue\",\"blue\",\"blue\",\"blue\",\"blue\",\"blue\",\"blue\",\"blue\",\"blue\",\"blue\",\"blue\",\"blue\",\"blue\",\"blue\",\"blue\",\"blue\",\"blue\",\"blue\",\"blue\",\"blue\",\"blue\",\"blue\",\"blue\",\"blue\",\"blue\",\"blue\",\"blue\",\"blue\",\"blue\",\"blue\",\"blue\",\"blue\",\"blue\",\"blue\",\"blue\",\"blue\",\"blue\",\"blue\",\"blue\",\"blue\",\"blue\",\"blue\",\"blue\",\"blue\",\"blue\",\"blue\",\"blue\",\"blue\",\"blue\",\"blue\",\"blue\",\"blue\",\"blue\",\"blue\",\"blue\",\"blue\",\"blue\",\"blue\",\"blue\",\"blue\",\"blue\",\"blue\",\"blue\",\"blue\",\"blue\",\"blue\",\"blue\",\"blue\",\"blue\",\"blue\",\"blue\",\"blue\",\"blue\",\"blue\",\"blue\",\"blue\",\"blue\",\"blue\",\"blue\",\"blue\",\"blue\",\"blue\",\"blue\",\"blue\",\"blue\",\"blue\",\"blue\",\"blue\",\"blue\",\"blue\",\"blue\",\"blue\",\"blue\",\"blue\",\"blue\",\"blue\",\"blue\",\"blue\",\"blue\",\"blue\",\"blue\",\"blue\",\"blue\",\"blue\",\"blue\",\"blue\",\"blue\",\"blue\",\"blue\",\"blue\",\"blue\",\"blue\",\"blue\",\"blue\",\"blue\",\"blue\",\"blue\",\"blue\",\"blue\",\"blue\",\"blue\",\"blue\",\"blue\",\"blue\",\"blue\",\"blue\",\"blue\",\"blue\",\"blue\",\"blue\",\"blue\",\"blue\",\"blue\",\"blue\",\"blue\",\"blue\",\"blue\",\"blue\",\"blue\",\"blue\",\"blue\",\"blue\",\"blue\",\"blue\",\"blue\",\"blue\",\"blue\",\"blue\",\"blue\",\"blue\",\"blue\",\"blue\",\"blue\",\"blue\",\"blue\",\"blue\",\"blue\",\"blue\",\"blue\",\"blue\",\"blue\",\"blue\",\"blue\",\"blue\",\"blue\",\"blue\",\"blue\",\"blue\",\"blue\",\"blue\",\"blue\",\"blue\",\"blue\",\"blue\",\"blue\",\"blue\",\"blue\",\"blue\",\"blue\",\"blue\",\"blue\",\"blue\",\"blue\",\"blue\",\"blue\",\"blue\",\"blue\",\"blue\",\"blue\",\"blue\",\"blue\",\"blue\",\"blue\",\"blue\",\"blue\",\"blue\",\"blue\",\"blue\",\"blue\",\"blue\",\"blue\",\"blue\",\"blue\",\"blue\",\"blue\",\"blue\",\"blue\",\"blue\",\"blue\",\"blue\",\"blue\",\"blue\",\"blue\",\"blue\",\"blue\",\"blue\",\"blue\",\"blue\",\"blue\",\"blue\",\"blue\",\"blue\",\"blue\",\"blue\",\"blue\",\"blue\",\"blue\",\"blue\",\"blue\",\"blue\",\"blue\",\"blue\",\"blue\",\"blue\",\"blue\",\"blue\",\"blue\",\"blue\",\"blue\",\"blue\",\"blue\",\"blue\",\"blue\",\"blue\",\"blue\",\"blue\",\"blue\",\"blue\",\"blue\",\"blue\",\"blue\",\"blue\",\"blue\",\"blue\",\"blue\",\"blue\",\"blue\",\"blue\",\"blue\",\"blue\",\"blue\",\"blue\",\"blue\",\"blue\",\"blue\",\"blue\",\"blue\",\"blue\",\"blue\",\"blue\",\"blue\",\"blue\",\"blue\",\"blue\",\"blue\",\"blue\",\"blue\",\"blue\",\"blue\",\"blue\",\"blue\",\"blue\",\"blue\",\"blue\",\"blue\",\"blue\",\"blue\",\"blue\",\"blue\",\"blue\",\"blue\",\"blue\",\"blue\",\"blue\",\"blue\",\"blue\",\"blue\",\"blue\",\"blue\",\"blue\",\"blue\",\"blue\",\"blue\",\"blue\",\"blue\",\"blue\",\"blue\",\"blue\",\"blue\",\"blue\",\"blue\",\"blue\",\"blue\",\"blue\",\"blue\",\"blue\",\"blue\",\"blue\",\"blue\",\"blue\",\"blue\",\"blue\",\"blue\",\"blue\",\"blue\",\"blue\",\"blue\",\"blue\",\"blue\",\"blue\",\"blue\",\"blue\",\"blue\",\"blue\",\"blue\",\"blue\",\"blue\",\"blue\",\"blue\",\"blue\",\"blue\",\"blue\",\"blue\",\"blue\",\"blue\",\"blue\",\"blue\",\"blue\",\"blue\",\"blue\",\"blue\",\"blue\",\"blue\",\"blue\",\"blue\",\"blue\",\"blue\",\"blue\",\"blue\",\"blue\",\"blue\",\"blue\",\"blue\",\"blue\",\"blue\",\"blue\",\"blue\",\"blue\",\"blue\",\"blue\",\"blue\",\"blue\",\"blue\",\"blue\",\"blue\",\"blue\",\"blue\",\"blue\",\"blue\",\"blue\",\"blue\",\"blue\",\"blue\",\"blue\",\"blue\",\"blue\",\"blue\",\"blue\",\"blue\",\"blue\",\"blue\",\"blue\",\"blue\",\"blue\",\"blue\",\"blue\",\"blue\",\"blue\",\"blue\",\"blue\",\"blue\",\"blue\",\"blue\",\"blue\",\"blue\",\"blue\",\"blue\",\"blue\",\"blue\",\"blue\",\"blue\",\"blue\",\"blue\",\"blue\",\"blue\",\"blue\",\"blue\",\"blue\",\"blue\",\"blue\",\"blue\",\"blue\",\"blue\",\"blue\",\"blue\",\"blue\",\"blue\",\"blue\",\"blue\",\"blue\",\"blue\",\"blue\",\"blue\",\"blue\",\"blue\",\"blue\",\"blue\",\"blue\",\"blue\",\"blue\",\"blue\",\"blue\",\"blue\",\"blue\",\"blue\",\"blue\",\"blue\",\"blue\",\"blue\",\"blue\",\"blue\",\"blue\",\"blue\",\"blue\",\"blue\",\"blue\",\"blue\",\"blue\",\"blue\",\"blue\",\"blue\",\"blue\",\"blue\",\"blue\",\"blue\",\"blue\",\"blue\",\"blue\",\"blue\",\"blue\",\"blue\",\"blue\",\"blue\",\"blue\",\"blue\",\"blue\",\"blue\",\"blue\",\"blue\",\"blue\",\"blue\",\"blue\",\"blue\",\"blue\",\"blue\",\"blue\",\"blue\",\"blue\",\"blue\",\"blue\",\"blue\",\"blue\",\"blue\",\"blue\",\"blue\",\"blue\",\"blue\",\"blue\",\"blue\",\"blue\",\"blue\",\"blue\",\"blue\",\"blue\",\"blue\",\"blue\",\"blue\",\"blue\",\"blue\",\"blue\",\"blue\",\"blue\",\"blue\",\"blue\",\"blue\",\"blue\",\"blue\",\"blue\",\"blue\",\"blue\",\"blue\",\"blue\",\"blue\",\"blue\",\"blue\",\"blue\",\"blue\",\"blue\",\"blue\",\"blue\",\"blue\",\"blue\",\"blue\",\"blue\",\"blue\",\"blue\",\"blue\",\"blue\",\"blue\",\"blue\",\"blue\",\"blue\",\"blue\",\"blue\",\"blue\",\"blue\",\"blue\",\"blue\",\"blue\",\"blue\",\"blue\",\"blue\",\"blue\",\"blue\",\"blue\",\"blue\",\"blue\",\"blue\",\"blue\",\"blue\",\"blue\",\"blue\",\"blue\",\"blue\",\"blue\",\"blue\",\"blue\",\"blue\",\"blue\",\"blue\",\"blue\",\"blue\",\"blue\",\"blue\",\"blue\",\"blue\",\"blue\",\"blue\",\"blue\",\"blue\",\"blue\",\"blue\",\"blue\",\"blue\",\"blue\",\"blue\",\"blue\",\"blue\",\"blue\",\"blue\",\"blue\",\"blue\",\"blue\",\"blue\",\"blue\",\"blue\",\"blue\",\"blue\",\"blue\",\"blue\",\"blue\",\"blue\",\"blue\",\"blue\",\"blue\",\"blue\",\"blue\",\"blue\",\"blue\",\"blue\",\"blue\",\"blue\",\"blue\",\"blue\",\"blue\",\"blue\",\"blue\",\"blue\",\"blue\",\"blue\",\"blue\",\"blue\",\"blue\",\"blue\",\"blue\",\"blue\",\"blue\",\"blue\",\"blue\",\"blue\",\"blue\",\"blue\",\"blue\",\"blue\",\"blue\",\"blue\",\"blue\",\"blue\",\"blue\",\"blue\",\"blue\",\"blue\",\"blue\",\"blue\",\"blue\",\"blue\",\"blue\",\"blue\",\"blue\",\"blue\",\"blue\",\"blue\",\"blue\",\"blue\",\"blue\",\"blue\",\"blue\",\"blue\",\"blue\",\"blue\",\"blue\",\"blue\",\"blue\",\"blue\",\"blue\",\"blue\",\"blue\",\"blue\",\"blue\",\"blue\",\"blue\",\"blue\",\"blue\",\"blue\",\"blue\",\"blue\",\"blue\",\"blue\",\"blue\",\"blue\",\"blue\",\"blue\",\"blue\",\"blue\",\"blue\",\"blue\",\"blue\",\"blue\",\"blue\",\"blue\",\"blue\",\"blue\",\"blue\",\"blue\",\"blue\",\"blue\",\"blue\",\"blue\",\"blue\",\"blue\",\"blue\",\"blue\",\"blue\",\"blue\",\"blue\",\"blue\",\"blue\",\"blue\",\"blue\",\"blue\",\"blue\",\"blue\",\"blue\",\"blue\",\"blue\",\"blue\",\"blue\",\"blue\",\"blue\",\"blue\",\"blue\",\"blue\",\"blue\",\"blue\",\"blue\",\"blue\",\"blue\",\"blue\",\"blue\",\"blue\",\"blue\",\"blue\",\"blue\",\"blue\",\"blue\",\"blue\",\"blue\",\"blue\",\"blue\",\"blue\",\"blue\",\"blue\",\"blue\",\"blue\",\"blue\",\"blue\",\"blue\",\"blue\",\"blue\",\"blue\",\"blue\",\"blue\",\"blue\",\"blue\",\"blue\",\"blue\",\"blue\",\"blue\",\"blue\",\"blue\",\"blue\",\"blue\",\"blue\",\"blue\",\"blue\",\"blue\",\"blue\",\"blue\",\"blue\",\"blue\",\"blue\",\"blue\",\"blue\",\"blue\",\"blue\",\"blue\",\"blue\",\"blue\",\"blue\",\"blue\",\"blue\",\"blue\",\"blue\",\"blue\",\"blue\",\"blue\",\"blue\",\"blue\",\"blue\",\"blue\",\"blue\",\"blue\",\"blue\",\"blue\",\"blue\",\"blue\",\"blue\",\"blue\",\"blue\",\"blue\",\"blue\",\"blue\",\"blue\",\"blue\",\"blue\",\"blue\",\"blue\",\"blue\",\"blue\",\"blue\",\"blue\",\"blue\",\"blue\",\"blue\",\"blue\",\"blue\",\"blue\",\"blue\",\"blue\",\"blue\",\"blue\",\"blue\",\"blue\",\"blue\",\"blue\",\"blue\",\"blue\",\"blue\",\"blue\",\"blue\",\"blue\",\"blue\",\"blue\",\"blue\",\"blue\",\"blue\",\"blue\",\"blue\",\"blue\",\"blue\",\"blue\",\"blue\",\"blue\",\"blue\",\"blue\",\"blue\",\"blue\",\"blue\",\"blue\",\"blue\",\"blue\",\"blue\",\"blue\",\"blue\",\"blue\",\"blue\",\"blue\",\"blue\",\"blue\",\"blue\",\"blue\",\"blue\",\"blue\",\"blue\",\"blue\",\"blue\",\"blue\",\"blue\",\"blue\",\"blue\",\"blue\",\"blue\",\"blue\",\"blue\",\"blue\",\"blue\",\"blue\",\"blue\",\"blue\",\"blue\",\"blue\",\"blue\",\"blue\",\"blue\",\"blue\",\"blue\",\"blue\",\"blue\",\"blue\",\"blue\",\"blue\",\"blue\",\"blue\",\"blue\",\"blue\",\"blue\",\"blue\",\"blue\",\"blue\",\"blue\",\"blue\",\"blue\",\"blue\",\"blue\",\"blue\",\"blue\",\"blue\",\"blue\",\"blue\",\"blue\",\"blue\",\"blue\",\"blue\",\"blue\",\"blue\",\"blue\",\"blue\",\"blue\",\"blue\",\"blue\",\"blue\",\"blue\",\"blue\",\"blue\",\"blue\",\"blue\",\"blue\",\"blue\",\"blue\",\"blue\",\"blue\",\"blue\",\"blue\",\"blue\",\"blue\",\"blue\",\"blue\",\"blue\",\"blue\",\"blue\",\"blue\",\"blue\",\"blue\",\"blue\",\"blue\",\"blue\",\"blue\",\"blue\",\"blue\",\"blue\",\"blue\",\"blue\",\"blue\",\"blue\",\"blue\",\"blue\",\"blue\",\"blue\",\"blue\",\"blue\",\"blue\",\"blue\",\"blue\",\"blue\",\"blue\",\"blue\",\"blue\",\"blue\",\"blue\",\"blue\",\"blue\",\"blue\",\"blue\",\"blue\",\"blue\",\"blue\",\"blue\",\"blue\",\"blue\",\"blue\",\"blue\",\"blue\",\"blue\",\"blue\",\"blue\",\"blue\",\"blue\",\"blue\",\"blue\",\"blue\",\"blue\",\"blue\",\"blue\",\"blue\",\"blue\",\"blue\",\"blue\",\"blue\",\"blue\",\"blue\",\"blue\",\"blue\",\"blue\",\"blue\",\"blue\",\"blue\",\"blue\",\"blue\",\"blue\",\"blue\",\"blue\",\"blue\",\"blue\",\"blue\",\"blue\",\"blue\",\"blue\",\"blue\",\"blue\",\"blue\",\"blue\",\"blue\",\"blue\",\"blue\",\"blue\",\"blue\",\"blue\",\"blue\",\"blue\",\"blue\",\"blue\",\"blue\",\"blue\",\"blue\",\"blue\",\"blue\",\"blue\",\"blue\",\"blue\",\"blue\",\"blue\",\"blue\",\"blue\",\"blue\",\"blue\",\"blue\",\"blue\",\"blue\",\"blue\",\"blue\",\"blue\",\"blue\",\"blue\",\"blue\",\"blue\",\"blue\",\"blue\",\"blue\",\"blue\",\"blue\",\"blue\",\"blue\",\"blue\",\"blue\",\"blue\",\"blue\",\"blue\",\"blue\",\"blue\",\"blue\",\"blue\",\"blue\",\"blue\",\"blue\",\"blue\",\"blue\",\"blue\",\"blue\",\"blue\",\"blue\",\"blue\",\"blue\",\"blue\",\"blue\",\"blue\",\"blue\",\"blue\",\"blue\",\"blue\",\"blue\",\"blue\",\"blue\",\"blue\",\"blue\",\"blue\",\"blue\",\"blue\",\"blue\",\"blue\",\"blue\",\"blue\",\"blue\",\"blue\",\"blue\",\"blue\",\"blue\",\"blue\",\"blue\",\"blue\",\"blue\",\"blue\",\"blue\",\"blue\",\"blue\",\"blue\",\"blue\",\"blue\",\"blue\",\"blue\",\"blue\",\"blue\",\"blue\",\"blue\",\"blue\",\"blue\",\"blue\",\"blue\",\"blue\",\"blue\",\"blue\",\"blue\",\"blue\",\"blue\",\"blue\",\"blue\",\"blue\",\"blue\",\"blue\",\"blue\",\"blue\",\"blue\",\"blue\",\"blue\",\"blue\",\"blue\",\"blue\",\"blue\",\"blue\",\"blue\",\"blue\",\"blue\",\"blue\",\"blue\",\"blue\",\"blue\",\"blue\",\"blue\",\"blue\",\"blue\",\"blue\",\"blue\",\"blue\",\"blue\",\"blue\",\"blue\",\"blue\",\"blue\",\"blue\",\"blue\",\"blue\",\"blue\",\"blue\",\"blue\",\"blue\",\"blue\",\"blue\",\"blue\",\"blue\",\"blue\",\"blue\",\"blue\",\"blue\",\"blue\",\"blue\",\"blue\",\"blue\",\"blue\",\"blue\",\"blue\",\"blue\",\"blue\",\"blue\",\"blue\",\"blue\",\"blue\",\"blue\",\"blue\",\"blue\",\"blue\",\"blue\",\"blue\",\"blue\",\"blue\",\"blue\",\"blue\",\"blue\",\"blue\",\"blue\",\"blue\",\"blue\",\"blue\",\"blue\",\"blue\",\"blue\",\"blue\",\"blue\",\"blue\",\"blue\",\"blue\",\"blue\",\"blue\",\"blue\",\"blue\",\"blue\",\"blue\",\"blue\",\"blue\",\"blue\",\"blue\",\"blue\",\"blue\",\"blue\",\"blue\",\"blue\",\"blue\",\"blue\",\"blue\",\"blue\",\"blue\",\"blue\",\"blue\",\"blue\",\"blue\",\"blue\",\"blue\",\"blue\",\"blue\",\"blue\",\"blue\",\"blue\",\"blue\",\"blue\",\"blue\",\"blue\",\"blue\",\"blue\",\"blue\",\"blue\",\"blue\",\"blue\",\"blue\",\"blue\",\"blue\",\"blue\",\"blue\",\"blue\",\"blue\",\"blue\",\"blue\",\"blue\",\"blue\",\"blue\",\"blue\",\"blue\",\"blue\",\"blue\",\"blue\",\"blue\",\"blue\",\"blue\",\"blue\",\"blue\",\"blue\",\"blue\",\"blue\",\"blue\",\"blue\",\"blue\",\"blue\",\"blue\",\"blue\",\"blue\",\"blue\",\"blue\",\"blue\",\"blue\",\"blue\",\"blue\",\"blue\",\"blue\",\"blue\",\"blue\",\"blue\",\"blue\",\"blue\",\"blue\",\"blue\",\"blue\",\"blue\",\"blue\",\"blue\",\"blue\",\"blue\",\"blue\",\"blue\",\"blue\",\"blue\",\"blue\",\"blue\",\"blue\",\"blue\",\"blue\",\"blue\",\"blue\",\"blue\",\"blue\",\"blue\",\"blue\",\"blue\",\"blue\",\"blue\",\"blue\",\"blue\",\"blue\",\"blue\",\"blue\",\"blue\",\"blue\",\"blue\",\"blue\",\"blue\",\"blue\",\"blue\",\"blue\",\"blue\",\"blue\",\"blue\",\"blue\",\"blue\",\"blue\",\"blue\",\"blue\",\"blue\",\"blue\",\"blue\",\"blue\",\"blue\",\"blue\",\"blue\",\"blue\",\"blue\",\"blue\",\"blue\",\"blue\",\"blue\",\"blue\",\"blue\",\"blue\",\"blue\",\"blue\",\"blue\",\"blue\",\"blue\",\"blue\",\"blue\",\"blue\",\"blue\",\"blue\",\"blue\",\"blue\",\"blue\",\"blue\",\"blue\",\"blue\",\"blue\",\"blue\",\"blue\",\"blue\",\"blue\",\"blue\",\"blue\",\"blue\",\"blue\",\"blue\",\"blue\",\"blue\",\"blue\",\"blue\",\"blue\",\"blue\",\"blue\",\"blue\",\"blue\",\"blue\",\"blue\",\"blue\",\"blue\",\"blue\",\"blue\",\"blue\",\"blue\",\"blue\",\"blue\",\"blue\",\"blue\",\"blue\",\"blue\",\"blue\",\"blue\",\"blue\",\"blue\",\"blue\",\"blue\",\"blue\",\"blue\",\"blue\",\"blue\",\"blue\",\"blue\",\"blue\",\"blue\",\"blue\",\"blue\",\"blue\",\"blue\",\"blue\",\"blue\",\"blue\",\"blue\",\"blue\",\"blue\",\"blue\",\"blue\",\"blue\",\"blue\",\"blue\",\"blue\",\"blue\",\"blue\",\"blue\",\"blue\",\"blue\",\"blue\",\"blue\",\"blue\",\"blue\",\"blue\",\"blue\",\"blue\",\"blue\",\"blue\",\"blue\",\"blue\",\"blue\",\"blue\",\"blue\",\"blue\",\"blue\",\"blue\",\"blue\",\"blue\",\"blue\",\"blue\",\"blue\",\"blue\",\"blue\",\"blue\",\"blue\",\"blue\",\"blue\",\"blue\",\"blue\",\"blue\",\"blue\",\"blue\",\"blue\",\"blue\",\"blue\",\"blue\",\"blue\",\"blue\",\"blue\",\"blue\",\"blue\",\"blue\",\"blue\",\"blue\",\"blue\",\"blue\",\"blue\",\"blue\",\"blue\",\"blue\",\"blue\",\"blue\",\"blue\",\"blue\",\"blue\",\"blue\",\"blue\",\"blue\",\"blue\",\"blue\",\"blue\",\"blue\",\"blue\",\"blue\",\"blue\",\"blue\",\"blue\",\"blue\",\"blue\",\"blue\",\"blue\",\"blue\",\"blue\",\"blue\",\"blue\",\"blue\",\"blue\",\"blue\",\"blue\",\"blue\",\"blue\",\"blue\",\"blue\",\"blue\",\"blue\",\"blue\",\"blue\",\"blue\",\"blue\",\"blue\",\"blue\",\"blue\",\"blue\",\"blue\",\"blue\",\"blue\",\"blue\",\"blue\",\"blue\",\"blue\",\"blue\",\"blue\",\"blue\",\"blue\",\"blue\",\"blue\",\"blue\",\"blue\",\"blue\",\"blue\",\"blue\",\"blue\",\"blue\",\"blue\",\"blue\",\"blue\",\"blue\",\"blue\",\"blue\",\"blue\",\"blue\",\"blue\",\"blue\",\"blue\",\"blue\",\"blue\",\"blue\",\"blue\",\"blue\",\"blue\",\"blue\",\"blue\",\"blue\",\"blue\",\"blue\",\"blue\",\"blue\",\"blue\",\"blue\",\"blue\",\"blue\",\"blue\",\"blue\",\"blue\",\"blue\",\"blue\",\"blue\",\"blue\",\"blue\",\"blue\",\"blue\",\"blue\",\"blue\",\"blue\",\"blue\",\"blue\",\"blue\",\"blue\",\"blue\",\"blue\",\"blue\",\"blue\",\"blue\",\"blue\",\"blue\",\"blue\",\"blue\",\"blue\",\"blue\",\"blue\",\"blue\",\"blue\",\"blue\",\"blue\",\"blue\",\"blue\",\"blue\",\"blue\",\"blue\",\"blue\",\"blue\",\"blue\",\"blue\",\"blue\",\"blue\",\"blue\",\"blue\",\"blue\",\"blue\",\"blue\",\"blue\",\"blue\",\"blue\",\"blue\",\"blue\",\"blue\",\"blue\",\"blue\",\"blue\",\"blue\",\"blue\",\"blue\",\"blue\",\"blue\",\"blue\",\"blue\",\"blue\",\"blue\",\"blue\",\"blue\",\"blue\",\"blue\",\"blue\",\"blue\",\"blue\",\"blue\",\"blue\",\"blue\",\"blue\",\"blue\",\"blue\",\"blue\",\"blue\",\"blue\",\"blue\",\"blue\",\"blue\",\"blue\",\"blue\",\"blue\",\"blue\",\"blue\",\"blue\",\"blue\",\"blue\",\"blue\",\"blue\",\"blue\",\"blue\",\"blue\",\"blue\",\"blue\",\"blue\",\"blue\",\"blue\",\"blue\",\"blue\",\"blue\",\"blue\",\"blue\",\"blue\",\"blue\",\"blue\",\"blue\",\"blue\",\"blue\",\"blue\",\"blue\",\"blue\",\"blue\",\"blue\",\"blue\",\"blue\",\"blue\",\"blue\",\"blue\",\"blue\",\"blue\",\"blue\",\"blue\",\"blue\",\"blue\",\"blue\",\"blue\",\"blue\",\"blue\",\"blue\",\"blue\",\"blue\",\"blue\",\"blue\",\"blue\",\"blue\",\"blue\",\"blue\",\"blue\",\"blue\",\"blue\",\"blue\",\"blue\",\"blue\",\"blue\",\"blue\",\"blue\",\"blue\",\"blue\",\"blue\",\"blue\",\"blue\",\"blue\",\"blue\",\"blue\",\"blue\",\"blue\",\"blue\",\"blue\",\"blue\",\"blue\",\"blue\",\"blue\",\"blue\",\"blue\",\"blue\",\"blue\",\"blue\",\"blue\",\"blue\",\"blue\",\"blue\",\"blue\",\"blue\",\"blue\",\"blue\",\"blue\",\"blue\",\"blue\",\"blue\",\"blue\",\"blue\",\"blue\",\"blue\",\"blue\",\"blue\",\"blue\",\"blue\",\"blue\",\"blue\",\"blue\",\"blue\",\"blue\",\"blue\",\"blue\",\"blue\",\"blue\",\"blue\",\"blue\",\"blue\",\"blue\",\"blue\",\"blue\",\"blue\",\"blue\",\"blue\",\"blue\",\"blue\",\"blue\",\"blue\",\"blue\",\"blue\",\"blue\",\"blue\",\"blue\",\"blue\",\"blue\",\"blue\",\"blue\",\"blue\",\"blue\",\"blue\",\"blue\",\"blue\",\"blue\",\"blue\",\"blue\",\"blue\",\"blue\",\"blue\",\"blue\",\"blue\",\"blue\",\"blue\",\"blue\",\"blue\",\"blue\",\"blue\",\"blue\",\"blue\",\"blue\",\"blue\",\"blue\",\"blue\",\"blue\",\"blue\",\"blue\",\"blue\",\"blue\",\"blue\",\"blue\",\"blue\",\"blue\",\"blue\",\"blue\",\"blue\",\"blue\",\"blue\",\"blue\",\"blue\",\"blue\",\"blue\",\"blue\",\"blue\",\"blue\",\"blue\",\"blue\",\"blue\",\"blue\",\"blue\",\"blue\",\"blue\",\"blue\",\"blue\",\"blue\",\"blue\",\"blue\",\"blue\",\"blue\",\"blue\",\"blue\",\"blue\",\"blue\",\"blue\",\"blue\",\"blue\",\"blue\",\"blue\",\"blue\",\"blue\",\"blue\",\"blue\",\"blue\",\"blue\",\"blue\",\"blue\",\"blue\",\"blue\",\"blue\",\"blue\",\"blue\",\"blue\",\"blue\",\"blue\",\"blue\",\"blue\",\"blue\",\"blue\",\"blue\",\"blue\",\"blue\",\"blue\",\"blue\",\"blue\",\"blue\",\"blue\",\"blue\",\"blue\",\"blue\",\"blue\",\"blue\",\"blue\",\"blue\",\"blue\",\"blue\",\"blue\",\"blue\",\"blue\",\"blue\",\"blue\",\"blue\",\"blue\",\"blue\",\"blue\",\"blue\",\"blue\",\"blue\",\"blue\",\"blue\",\"blue\",\"blue\",\"blue\",\"blue\",\"blue\",\"blue\",\"blue\",\"blue\",\"blue\",\"blue\",\"blue\",\"blue\",\"blue\",\"blue\",\"blue\",\"blue\",\"blue\",\"blue\",\"blue\",\"blue\",\"blue\",\"blue\",\"blue\",\"blue\",\"blue\",\"blue\",\"blue\",\"blue\",\"blue\",\"blue\",\"blue\",\"blue\",\"blue\",\"blue\",\"blue\",\"blue\",\"blue\",\"blue\",\"blue\",\"blue\",\"blue\",\"blue\",\"blue\",\"blue\",\"blue\",\"blue\",\"blue\",\"blue\",\"blue\",\"blue\",\"blue\",\"blue\",\"blue\",\"blue\",\"blue\",\"blue\",\"blue\",\"blue\",\"blue\",\"blue\",\"blue\",\"blue\",\"blue\",\"blue\",\"blue\",\"blue\",\"blue\",\"blue\",\"blue\",\"blue\",\"blue\",\"blue\",\"blue\",\"blue\",\"blue\",\"blue\",\"blue\",\"blue\",\"blue\",\"blue\",\"blue\",\"blue\",\"blue\",\"blue\",\"blue\",\"blue\",\"blue\",\"blue\",\"blue\",\"blue\",\"blue\",\"blue\",\"blue\",\"blue\",\"blue\",\"blue\",\"blue\",\"blue\",\"blue\",\"blue\",\"blue\",\"blue\",\"blue\",\"blue\",\"blue\",\"blue\",\"blue\",\"blue\",\"blue\",\"blue\",\"blue\",\"blue\",\"blue\",\"blue\",\"blue\",\"blue\",\"blue\",\"blue\",\"blue\",\"blue\",\"blue\",\"blue\",\"blue\",\"blue\",\"blue\",\"blue\",\"blue\",\"blue\",\"blue\",\"blue\",\"blue\",\"blue\",\"blue\",\"blue\",\"blue\",\"blue\",\"blue\",\"blue\",\"blue\",\"blue\",\"blue\",\"blue\",\"blue\",\"blue\",\"blue\",\"blue\",\"blue\",\"blue\",\"blue\",\"blue\",\"blue\",\"blue\",\"blue\",\"blue\",\"blue\",\"blue\",\"blue\",\"blue\",\"blue\",\"blue\",\"blue\",\"blue\",\"blue\",\"blue\",\"blue\",\"blue\",\"blue\",\"blue\",\"blue\",\"blue\",\"blue\",\"blue\",\"blue\",\"blue\",\"blue\",\"blue\",\"blue\",\"blue\",\"blue\",\"blue\",\"blue\",\"blue\",\"blue\",\"blue\",\"blue\",\"blue\",\"blue\",\"blue\",\"blue\",\"blue\",\"blue\",\"blue\",\"blue\",\"blue\",\"blue\",\"blue\",\"blue\",\"blue\",\"blue\",\"blue\",\"blue\",\"blue\",\"blue\",\"blue\",\"blue\",\"blue\",\"blue\",\"blue\",\"blue\",\"blue\",\"blue\",\"blue\",\"blue\",\"blue\",\"blue\",\"blue\",\"blue\",\"blue\",\"blue\",\"blue\",\"blue\",\"blue\",\"blue\",\"blue\",\"blue\",\"blue\",\"blue\",\"blue\",\"blue\",\"blue\",\"blue\",\"blue\",\"blue\",\"blue\",\"blue\",\"blue\",\"blue\",\"blue\",\"blue\",\"blue\",\"blue\",\"blue\",\"blue\",\"blue\",\"blue\",\"blue\",\"blue\",\"blue\",\"blue\",\"blue\",\"blue\",\"blue\",\"blue\",\"blue\",\"blue\",\"blue\",\"blue\",\"blue\",\"blue\",\"blue\",\"blue\",\"blue\",\"blue\",\"blue\",\"blue\",\"blue\",\"blue\",\"blue\",\"blue\",\"blue\",\"blue\",\"blue\",\"blue\",\"blue\",\"blue\",\"blue\",\"blue\",\"blue\",\"blue\",\"blue\",\"blue\",\"blue\",\"blue\",\"blue\",\"blue\",\"blue\",\"blue\",\"blue\",\"blue\",\"blue\",\"blue\",\"blue\",\"blue\",\"blue\",\"blue\",\"blue\",\"blue\",\"blue\",\"blue\",\"blue\",\"blue\",\"blue\",\"blue\",\"blue\",\"blue\",\"blue\",\"blue\",\"blue\",\"blue\",\"blue\",\"blue\",\"blue\",\"blue\",\"blue\",\"blue\",\"blue\",\"blue\",\"blue\",\"blue\",\"blue\",\"blue\",\"blue\",\"blue\",\"blue\",\"blue\",\"blue\",\"blue\",\"blue\",\"blue\",\"blue\",\"blue\",\"blue\",\"blue\",\"blue\",\"blue\",\"blue\",\"blue\",\"blue\",\"blue\",\"blue\",\"blue\",\"blue\",\"blue\",\"blue\",\"blue\",\"blue\",\"blue\",\"blue\",\"blue\",\"blue\",\"blue\",\"blue\",\"blue\",\"blue\",\"blue\",\"blue\",\"blue\",\"blue\",\"blue\",\"blue\",\"blue\",\"blue\",\"blue\",\"blue\",\"blue\",\"blue\",\"blue\",\"blue\",\"blue\",\"blue\",\"blue\",\"blue\",\"blue\",\"blue\",\"blue\",\"blue\",\"blue\",\"blue\",\"blue\",\"blue\",\"blue\",\"blue\",\"blue\",\"blue\",\"blue\",\"blue\",\"blue\",\"blue\",\"blue\",\"blue\",\"blue\",\"blue\",\"blue\",\"blue\",\"blue\",\"blue\",\"blue\",\"blue\",\"blue\",\"blue\",\"blue\",\"blue\",\"blue\",\"blue\",\"blue\",\"blue\",\"blue\",\"blue\",\"blue\",\"blue\",\"blue\",\"blue\",\"blue\",\"blue\",\"blue\",\"blue\",\"blue\",\"blue\",\"blue\",\"blue\",\"blue\",\"blue\",\"blue\",\"blue\",\"blue\",\"blue\",\"blue\",\"blue\",\"blue\",\"blue\",\"blue\",\"blue\",\"blue\",\"blue\",\"blue\",\"blue\",\"blue\",\"blue\",\"blue\",\"blue\",\"blue\",\"blue\",\"blue\",\"blue\",\"blue\",\"blue\",\"blue\",\"blue\",\"blue\",\"blue\",\"blue\",\"blue\",\"blue\",\"blue\",\"blue\",\"blue\",\"blue\",\"blue\",\"blue\",\"blue\",\"blue\",\"blue\",\"blue\",\"blue\",\"blue\",\"blue\",\"blue\",\"blue\",\"blue\",\"blue\",\"blue\",\"blue\",\"blue\",\"blue\",\"blue\",\"blue\",\"blue\",\"blue\",\"blue\",\"blue\",\"blue\",\"blue\",\"blue\",\"blue\",\"blue\",\"blue\",\"blue\",\"blue\",\"blue\",\"blue\",\"blue\",\"blue\",\"blue\",\"blue\",\"blue\",\"blue\",\"blue\",\"blue\",\"blue\",\"blue\",\"blue\",\"blue\",\"blue\",\"blue\",\"blue\",\"blue\",\"blue\",\"blue\",\"blue\",\"blue\",\"blue\",\"blue\",\"blue\",\"blue\",\"blue\",\"blue\",\"blue\",\"blue\",\"blue\",\"blue\",\"blue\",\"blue\",\"blue\",\"blue\",\"blue\",\"blue\",\"blue\",\"blue\",\"blue\",\"blue\",\"blue\",\"blue\",\"blue\",\"blue\",\"blue\",\"blue\",\"blue\",\"blue\",\"blue\",\"blue\",\"blue\",\"blue\",\"blue\",\"blue\",\"blue\",\"blue\",\"blue\",\"blue\",\"blue\",\"blue\",\"blue\",\"blue\",\"blue\",\"blue\",\"blue\",\"blue\",\"blue\",\"blue\",\"blue\",\"blue\",\"blue\",\"blue\",\"blue\",\"blue\",\"blue\",\"blue\",\"blue\",\"blue\",\"blue\",\"blue\",\"blue\",\"blue\",\"blue\",\"blue\",\"blue\",\"blue\",\"blue\",\"blue\",\"blue\",\"blue\",\"blue\",\"blue\",\"blue\",\"blue\",\"blue\",\"blue\",\"blue\",\"blue\",\"blue\",\"blue\",\"blue\",\"blue\",\"blue\",\"blue\",\"blue\",\"blue\",\"blue\",\"blue\",\"blue\",\"blue\",\"blue\",\"blue\",\"blue\",\"blue\",\"blue\",\"blue\",\"blue\",\"blue\",\"blue\",\"blue\",\"blue\",\"blue\",\"blue\",\"blue\",\"blue\",\"blue\",\"blue\",\"blue\",\"blue\",\"blue\",\"blue\",\"blue\",\"blue\",\"blue\",\"blue\",\"blue\",\"blue\",\"blue\",\"blue\",\"blue\",\"blue\",\"blue\",\"blue\",\"blue\",\"blue\",\"blue\",\"blue\",\"blue\",\"blue\",\"blue\",\"blue\",\"blue\",\"blue\",\"blue\",\"blue\",\"blue\",\"blue\",\"blue\",\"blue\",\"blue\",\"blue\",\"blue\",\"blue\",\"blue\",\"blue\",\"blue\",\"blue\",\"blue\",\"blue\",\"blue\",\"blue\",\"blue\",\"blue\",\"blue\",\"blue\",\"blue\",\"blue\",\"blue\",\"blue\",\"blue\",\"blue\",\"blue\",\"blue\",\"blue\",\"blue\",\"blue\",\"blue\",\"blue\",\"blue\",\"blue\",\"blue\",\"blue\",\"blue\",\"blue\",\"blue\",\"blue\",\"blue\",\"blue\",\"blue\",\"blue\",\"blue\",\"blue\",\"blue\",\"blue\",\"blue\",\"blue\",\"blue\",\"blue\",\"blue\",\"blue\",\"blue\",\"blue\",\"blue\",\"blue\",\"blue\",\"blue\",\"blue\",\"blue\",\"blue\",\"blue\",\"blue\",\"blue\",\"blue\",\"blue\",\"blue\",\"blue\",\"blue\",\"blue\",\"blue\",\"blue\",\"blue\",\"blue\",\"blue\",\"blue\",\"blue\",\"blue\",\"blue\",\"blue\",\"blue\",\"blue\",\"blue\",\"blue\",\"blue\",\"blue\",\"blue\",\"blue\",\"blue\",\"blue\",\"blue\",\"blue\",\"blue\",\"blue\",\"blue\",\"blue\",\"blue\",\"blue\",\"blue\",\"blue\",\"blue\",\"blue\",\"blue\",\"blue\",\"blue\",\"blue\",\"blue\",\"blue\",\"blue\",\"blue\",\"blue\",\"blue\",\"blue\",\"blue\",\"blue\",\"blue\",\"blue\",\"blue\",\"blue\",\"blue\",\"blue\",\"blue\",\"blue\",\"blue\",\"blue\",\"blue\",\"blue\",\"blue\",\"blue\",\"blue\",\"blue\",\"blue\",\"blue\",\"blue\",\"blue\",\"blue\",\"blue\",\"blue\",\"blue\",\"blue\",\"blue\",\"blue\",\"blue\",\"blue\",\"blue\",\"blue\",\"blue\",\"blue\",\"blue\",\"blue\",\"blue\",\"blue\",\"blue\",\"blue\",\"blue\",\"blue\",\"blue\",\"blue\",\"blue\",\"blue\",\"blue\",\"blue\",\"blue\",\"blue\",\"blue\",\"blue\",\"blue\",\"blue\",\"blue\",\"blue\",\"blue\",\"blue\",\"blue\",\"blue\",\"blue\",\"blue\",\"blue\",\"blue\",\"blue\",\"blue\",\"blue\",\"blue\",\"blue\",\"blue\",\"blue\",\"blue\",\"blue\",\"blue\",\"blue\",\"blue\",\"blue\",\"blue\",\"blue\",\"blue\",\"blue\",\"blue\",\"blue\",\"blue\",\"blue\",\"blue\",\"blue\",\"blue\",\"blue\",\"blue\",\"blue\",\"blue\",\"blue\",\"blue\",\"blue\",\"blue\",\"blue\",\"blue\",\"blue\",\"blue\",\"blue\",\"blue\",\"blue\",\"blue\",\"blue\",\"blue\",\"blue\",\"blue\",\"blue\",\"blue\",\"blue\",\"blue\",\"blue\",\"blue\",\"blue\",\"blue\",\"blue\",\"blue\",\"blue\",\"blue\",\"blue\",\"blue\",\"blue\",\"blue\",\"blue\",\"blue\",\"blue\",\"blue\",\"blue\",\"blue\",\"blue\",\"blue\",\"blue\",\"blue\",\"blue\",\"blue\",\"blue\",\"blue\",\"blue\",\"blue\",\"blue\",\"blue\",\"blue\",\"blue\",\"blue\",\"blue\",\"blue\",\"blue\",\"blue\",\"blue\",\"blue\",\"blue\",\"blue\",\"blue\",\"blue\",\"blue\",\"blue\",\"blue\",\"blue\",\"blue\",\"blue\",\"blue\",\"blue\",\"blue\",\"blue\",\"blue\",\"blue\",\"blue\",\"blue\",\"blue\",\"blue\",\"blue\",\"blue\",\"blue\",\"blue\",\"blue\",\"blue\",\"blue\",\"blue\",\"blue\",\"blue\",\"blue\",\"blue\",\"blue\",\"blue\",\"blue\",\"blue\",\"blue\",\"blue\",\"blue\",\"blue\",\"blue\",\"blue\",\"blue\",\"blue\",\"blue\",\"blue\",\"blue\",\"blue\",\"blue\",\"blue\",\"blue\",\"blue\",\"blue\",\"blue\",\"blue\",\"blue\",\"blue\",\"blue\",\"blue\",\"blue\",\"blue\",\"blue\",\"blue\",\"blue\",\"blue\",\"blue\",\"blue\",\"blue\",\"blue\",\"blue\",\"blue\",\"blue\",\"blue\",\"blue\",\"blue\",\"blue\",\"blue\",\"blue\",\"blue\",\"blue\",\"blue\",\"blue\",\"blue\",\"blue\",\"blue\",\"blue\",\"blue\",\"blue\",\"blue\",\"blue\",\"blue\",\"blue\",\"blue\",\"blue\",\"blue\",\"blue\",\"blue\",\"blue\",\"blue\",\"blue\",\"blue\",\"blue\",\"blue\",\"blue\",\"blue\",\"blue\",\"blue\",\"blue\",\"blue\",\"blue\",\"blue\",\"blue\",\"blue\",\"blue\",\"blue\",\"blue\",\"blue\",\"blue\",\"blue\",\"blue\",\"blue\",\"blue\",\"blue\",\"blue\",\"blue\",\"blue\",\"blue\",\"blue\",\"blue\",\"blue\",\"blue\",\"blue\",\"blue\",\"blue\",\"blue\",\"blue\",\"blue\",\"blue\",\"blue\",\"blue\",\"blue\",\"blue\",\"blue\",\"blue\",\"blue\",\"blue\",\"blue\",\"blue\",\"blue\",\"blue\",\"blue\",\"blue\",\"blue\",\"blue\",\"blue\",\"blue\",\"blue\",\"blue\",\"blue\",\"blue\",\"blue\",\"blue\",\"blue\",\"blue\",\"blue\",\"blue\",\"blue\",\"blue\",\"blue\",\"blue\",\"blue\",\"blue\",\"blue\",\"blue\",\"blue\",\"blue\",\"blue\",\"blue\",\"blue\",\"blue\",\"blue\",\"blue\",\"blue\",\"blue\",\"blue\",\"blue\",\"blue\",\"blue\",\"blue\",\"blue\",\"blue\",\"blue\",\"blue\",\"blue\",\"blue\",\"blue\",\"blue\",\"blue\",\"blue\",\"blue\",\"blue\",\"blue\",\"blue\",\"blue\",\"blue\",\"blue\",\"blue\",\"blue\",\"blue\",\"blue\",\"blue\",\"blue\",\"blue\",\"blue\",\"blue\",\"blue\",\"blue\",\"blue\",\"blue\",\"blue\",\"blue\",\"blue\",\"blue\",\"blue\",\"blue\",\"blue\",\"blue\",\"blue\",\"blue\",\"blue\",\"blue\",\"blue\",\"blue\",\"blue\",\"blue\",\"blue\",\"blue\",\"blue\",\"blue\",\"blue\",\"blue\",\"blue\",\"blue\",\"blue\",\"blue\",\"blue\",\"blue\",\"blue\",\"blue\",\"blue\",\"blue\",\"blue\",\"blue\",\"blue\",\"blue\",\"blue\",\"blue\",\"blue\",\"blue\",\"blue\",\"blue\",\"blue\",\"blue\",\"blue\",\"blue\",\"blue\",\"blue\",\"blue\",\"blue\",\"blue\",\"blue\",\"blue\",\"blue\",\"blue\",\"blue\",\"blue\",\"blue\",\"blue\",\"blue\",\"blue\",\"blue\",\"blue\",\"blue\",\"blue\",\"blue\",\"blue\",\"blue\",\"blue\",\"blue\",\"blue\",\"blue\",\"blue\",\"blue\",\"blue\",\"blue\",\"blue\",\"blue\",\"blue\",\"blue\",\"blue\",\"blue\",\"blue\",\"blue\",\"blue\",\"blue\",\"blue\",\"blue\",\"blue\",\"blue\",\"blue\",\"blue\",\"blue\",\"blue\",\"blue\",\"blue\",\"blue\",\"blue\",\"blue\",\"blue\",\"blue\",\"blue\",\"blue\",\"blue\",\"blue\",\"blue\",\"blue\",\"blue\",\"blue\",\"blue\",\"blue\",\"blue\",\"blue\",\"blue\",\"blue\",\"blue\",\"blue\",\"blue\",\"blue\",\"blue\",\"blue\",\"blue\",\"blue\",\"blue\",\"blue\",\"blue\",\"blue\",\"blue\",\"blue\",\"blue\",\"blue\",\"blue\",\"blue\",\"blue\",\"blue\",\"blue\",\"blue\",\"blue\",\"blue\",\"blue\",\"blue\",\"blue\",\"blue\",\"blue\",\"blue\",\"blue\",\"blue\",\"blue\",\"blue\",\"blue\",\"blue\",\"blue\",\"blue\",\"blue\",\"blue\",\"blue\",\"blue\",\"blue\",\"blue\",\"blue\",\"blue\",\"blue\",\"blue\",\"blue\",\"blue\",\"blue\",\"blue\",\"blue\",\"blue\",\"blue\",\"blue\",\"blue\",\"blue\",\"blue\",\"blue\",\"blue\",\"blue\",\"blue\",\"blue\",\"blue\",\"blue\",\"blue\",\"blue\",\"blue\",\"blue\",\"blue\",\"blue\",\"blue\",\"blue\",\"blue\",\"blue\",\"blue\",\"blue\",\"blue\",\"blue\",\"blue\",\"blue\",\"blue\",\"blue\",\"blue\",\"blue\",\"blue\",\"blue\",\"blue\",\"blue\",\"blue\",\"blue\",\"blue\",\"blue\",\"blue\",\"blue\",\"blue\",\"blue\",\"blue\",\"blue\",\"blue\",\"blue\",\"blue\",\"blue\",\"blue\",\"blue\",\"blue\",\"blue\",\"blue\",\"blue\",\"blue\",\"blue\",\"blue\",\"blue\",\"blue\",\"blue\",\"blue\",\"blue\",\"blue\",\"blue\",\"blue\",\"blue\",\"blue\",\"blue\",\"blue\",\"blue\",\"blue\",\"blue\",\"blue\",\"blue\",\"blue\",\"blue\",\"blue\",\"blue\",\"blue\",\"blue\",\"blue\",\"blue\",\"blue\",\"blue\",\"blue\",\"blue\",\"blue\",\"blue\",\"blue\",\"blue\",\"blue\",\"blue\",\"blue\",\"blue\",\"blue\",\"blue\",\"blue\",\"blue\",\"blue\",\"blue\",\"blue\",\"blue\",\"blue\",\"blue\",\"blue\",\"blue\",\"blue\",\"blue\",\"blue\",\"blue\",\"blue\",\"blue\",\"blue\",\"blue\",\"blue\",\"blue\",\"blue\",\"blue\",\"blue\",\"blue\",\"blue\",\"blue\",\"blue\",\"blue\",\"blue\",\"blue\",\"blue\",\"blue\",\"blue\",\"blue\",\"blue\",\"blue\",\"blue\",\"blue\",\"blue\",\"blue\",\"blue\",\"blue\",\"blue\",\"blue\",\"blue\",\"blue\",\"blue\",\"blue\",\"blue\",\"blue\",\"blue\",\"blue\",\"blue\",\"blue\",\"blue\",\"blue\",\"blue\",\"blue\",\"blue\",\"blue\",\"blue\",\"blue\",\"blue\",\"blue\",\"blue\",\"blue\",\"blue\",\"blue\",\"blue\",\"blue\",\"blue\",\"blue\",\"blue\",\"blue\",\"blue\",\"blue\",\"blue\",\"blue\",\"blue\",\"blue\",\"blue\",\"blue\",\"blue\",\"blue\",\"blue\",\"blue\",\"blue\",\"blue\",\"blue\",\"blue\",\"blue\",\"blue\",\"blue\",\"blue\",\"blue\",\"blue\",\"blue\",\"blue\",\"blue\",\"blue\",\"blue\",\"blue\",\"blue\",\"blue\",\"blue\",\"blue\",\"blue\",\"blue\",\"blue\",\"blue\",\"blue\",\"blue\",\"blue\",\"blue\",\"blue\",\"blue\",\"blue\",\"blue\",\"blue\",\"blue\",\"blue\",\"blue\",\"blue\",\"blue\",\"blue\",\"blue\",\"blue\",\"blue\",\"blue\",\"blue\",\"blue\",\"blue\",\"blue\",\"blue\",\"blue\",\"blue\",\"blue\",\"blue\",\"blue\",\"blue\",\"blue\",\"blue\",\"blue\",\"blue\",\"blue\",\"blue\",\"blue\",\"blue\",\"blue\",\"blue\",\"blue\",\"blue\",\"blue\",\"blue\",\"blue\",\"blue\",\"blue\",\"blue\",\"blue\",\"blue\",\"blue\",\"blue\",\"blue\",\"blue\",\"blue\",\"blue\",\"blue\",\"blue\",\"blue\",\"blue\",\"blue\",\"blue\",\"blue\",\"blue\",\"blue\",\"blue\",\"blue\",\"blue\",\"blue\",\"blue\",\"blue\",\"blue\",\"blue\",\"blue\",\"blue\",\"blue\",\"blue\",\"blue\",\"blue\",\"blue\",\"blue\",\"blue\",\"blue\",\"blue\",\"blue\",\"blue\",\"blue\",\"blue\",\"blue\",\"blue\",\"blue\",\"blue\",\"blue\",\"blue\",\"blue\",\"blue\",\"blue\",\"blue\",\"blue\",\"blue\",\"blue\",\"blue\",\"blue\",\"blue\",\"blue\",\"blue\",\"blue\",\"blue\",\"blue\",\"blue\",\"blue\",\"blue\",\"blue\",\"blue\",\"blue\",\"blue\",\"blue\",\"blue\",\"blue\",\"blue\",\"blue\",\"blue\",\"blue\",\"blue\",\"blue\",\"blue\",\"blue\",\"blue\",\"blue\",\"blue\",\"blue\",\"blue\",\"blue\",\"blue\",\"blue\",\"blue\",\"blue\",\"blue\",\"blue\",\"blue\",\"blue\",\"blue\",\"blue\",\"blue\",\"blue\",\"blue\",\"blue\",\"blue\",\"blue\",\"blue\",\"blue\",\"blue\",\"blue\",\"blue\",\"blue\",\"blue\",\"blue\",\"blue\",\"blue\",\"blue\",\"blue\",\"blue\",\"blue\",\"blue\",\"blue\",\"blue\",\"blue\",\"blue\",\"blue\",\"blue\",\"blue\",\"blue\",\"blue\",\"blue\",\"blue\",\"blue\",\"blue\",\"blue\",\"blue\",\"blue\",\"blue\",\"blue\",\"blue\",\"blue\",\"blue\",\"blue\",\"blue\",\"blue\",\"blue\",\"blue\",\"blue\",\"blue\",\"blue\",\"blue\",\"blue\",\"blue\",\"blue\",\"blue\",\"blue\",\"blue\",\"blue\",\"blue\",\"blue\",\"blue\",\"blue\",\"blue\",\"blue\",\"blue\",\"blue\",\"blue\",\"blue\",\"blue\",\"blue\",\"blue\",\"blue\",\"blue\",\"blue\",\"blue\",\"blue\",\"blue\",\"blue\",\"blue\",\"blue\",\"blue\",\"blue\",\"blue\",\"blue\",\"blue\",\"blue\",\"blue\",\"blue\",\"blue\",\"blue\",\"blue\",\"blue\",\"blue\",\"blue\",\"blue\",\"blue\",\"blue\",\"blue\",\"blue\",\"blue\",\"blue\",\"blue\",\"blue\",\"blue\",\"blue\",\"blue\",\"blue\",\"blue\",\"blue\",\"blue\",\"blue\",\"blue\",\"blue\",\"blue\",\"blue\",\"blue\",\"blue\",\"blue\",\"blue\",\"blue\",\"blue\",\"blue\",\"blue\",\"blue\",\"blue\",\"blue\",\"blue\",\"blue\",\"blue\",\"blue\",\"blue\",\"blue\",\"blue\",\"blue\",\"blue\",\"blue\",\"blue\",\"blue\",\"blue\",\"blue\",\"blue\",\"blue\",\"blue\",\"blue\",\"blue\",\"blue\",\"blue\",\"blue\",\"blue\",\"blue\",\"blue\",\"blue\",\"blue\",\"blue\",\"blue\",\"blue\",\"blue\",\"blue\",\"blue\",\"blue\",\"blue\",\"blue\",\"blue\",\"blue\",\"blue\",\"blue\",\"blue\",\"blue\",\"blue\",\"blue\",\"blue\",\"blue\",\"blue\",\"blue\",\"blue\",\"blue\",\"blue\",\"blue\",\"blue\",\"blue\",\"blue\",\"blue\",\"blue\",\"blue\",\"blue\",\"blue\",\"blue\",\"blue\",\"blue\",\"blue\",\"blue\",\"blue\",\"blue\",\"blue\",\"blue\",\"blue\",\"blue\",\"blue\",\"blue\",\"blue\",\"blue\",\"blue\",\"blue\",\"blue\",\"blue\",\"blue\",\"blue\",\"blue\",\"blue\",\"blue\",\"blue\",\"blue\",\"blue\",\"blue\",\"blue\",\"blue\",\"blue\",\"blue\",\"blue\",\"blue\",\"blue\",\"blue\",\"blue\",\"blue\",\"blue\",\"blue\",\"blue\",\"blue\",\"blue\",\"blue\",\"blue\",\"blue\",\"blue\",\"blue\",\"blue\",\"blue\",\"blue\",\"blue\",\"blue\",\"blue\",\"blue\",\"blue\",\"blue\",\"blue\",\"blue\",\"blue\",\"blue\",\"blue\",\"blue\",\"blue\",\"blue\",\"blue\",\"blue\",\"blue\",\"blue\",\"blue\",\"blue\",\"blue\",\"blue\",\"blue\",\"blue\",\"blue\",\"blue\",\"blue\",\"blue\",\"blue\",\"blue\",\"blue\",\"blue\",\"blue\",\"blue\",\"blue\",\"blue\",\"blue\",\"blue\",\"blue\",\"blue\",\"blue\",\"blue\",\"blue\",\"blue\",\"blue\",\"blue\",\"blue\",\"blue\",\"blue\",\"blue\",\"blue\",\"blue\",\"blue\",\"blue\",\"blue\",\"blue\",\"blue\",\"blue\",\"blue\",\"blue\",\"blue\",\"blue\",\"blue\",\"blue\",\"blue\",\"blue\",\"blue\",\"blue\",\"blue\",\"blue\",\"blue\",\"blue\",\"blue\",\"blue\",\"blue\",\"blue\",\"blue\",\"blue\",\"blue\",\"blue\",\"blue\",\"blue\",\"blue\",\"blue\",\"blue\",\"blue\",\"blue\",\"blue\",\"blue\",\"blue\",\"blue\",\"blue\",\"blue\",\"blue\",\"blue\",\"blue\",\"blue\",\"blue\",\"blue\",\"blue\",\"blue\",\"blue\",\"blue\",\"blue\",\"blue\",\"blue\",\"blue\",\"blue\",\"blue\",\"blue\",\"blue\",\"blue\",\"blue\",\"blue\",\"blue\",\"blue\",\"blue\",\"blue\",\"blue\",\"blue\",\"blue\",\"blue\",\"blue\",\"blue\",\"blue\",\"blue\",\"blue\",\"blue\",\"blue\",\"blue\",\"blue\",\"blue\",\"blue\",\"blue\",\"blue\",\"blue\",\"blue\",\"blue\",\"blue\",\"blue\",\"blue\",\"blue\",\"blue\",\"blue\",\"blue\",\"blue\",\"blue\",\"blue\",\"blue\",\"blue\",\"blue\",\"blue\",\"blue\",\"blue\",\"blue\",\"blue\",\"blue\",\"blue\",\"blue\",\"blue\",\"blue\",\"blue\",\"blue\",\"blue\",\"blue\",\"blue\",\"blue\",\"blue\",\"blue\",\"blue\",\"blue\",\"blue\",\"blue\",\"blue\",\"blue\",\"blue\",\"blue\",\"blue\",\"blue\",\"blue\",\"blue\",\"blue\",\"blue\",\"blue\",\"blue\",\"blue\",\"blue\",\"blue\",\"blue\",\"blue\",\"blue\",\"blue\",\"blue\",\"blue\",\"blue\",\"blue\",\"blue\",\"blue\",\"blue\",\"blue\",\"blue\",\"blue\",\"blue\",\"blue\",\"blue\",\"blue\",\"blue\",\"blue\",\"blue\",\"blue\",\"blue\",\"blue\",\"blue\",\"blue\",\"blue\",\"blue\",\"blue\",\"blue\",\"blue\",\"blue\",\"blue\",\"blue\",\"blue\",\"blue\",\"blue\",\"blue\",\"blue\",\"blue\",\"blue\",\"blue\",\"blue\",\"blue\",\"blue\",\"blue\",\"blue\",\"blue\",\"blue\",\"blue\",\"blue\",\"blue\",\"blue\",\"blue\",\"blue\",\"blue\",\"blue\",\"blue\",\"blue\",\"blue\",\"blue\",\"blue\",\"blue\",\"blue\",\"blue\",\"blue\",\"blue\",\"blue\",\"blue\",\"blue\",\"blue\",\"blue\",\"blue\",\"blue\",\"blue\",\"blue\",\"blue\",\"blue\",\"blue\",\"blue\",\"blue\",\"blue\",\"blue\",\"blue\",\"blue\",\"blue\",\"blue\",\"blue\",\"blue\",\"blue\",\"blue\",\"blue\",\"blue\",\"blue\",\"blue\",\"blue\",\"blue\",\"blue\",\"blue\",\"blue\",\"blue\",\"blue\",\"blue\",\"blue\",\"blue\",\"blue\",\"blue\",\"blue\",\"blue\",\"blue\",\"blue\",\"blue\",\"blue\",\"blue\",\"blue\",\"blue\",\"blue\",\"blue\",\"blue\",\"blue\",\"blue\",\"blue\",\"blue\",\"blue\",\"blue\",\"blue\",\"blue\",\"blue\",\"blue\",\"blue\",\"blue\",\"blue\",\"blue\",\"blue\",\"blue\",\"blue\",\"blue\",\"blue\",\"blue\",\"blue\",\"blue\",\"blue\",\"blue\",\"blue\",\"blue\",\"blue\",\"blue\",\"blue\",\"blue\",\"blue\",\"blue\",\"blue\",\"blue\",\"blue\",\"blue\",\"blue\",\"blue\",\"blue\",\"blue\",\"blue\",\"blue\",\"blue\",\"blue\",\"blue\",\"blue\",\"blue\",\"blue\",\"blue\",\"blue\",\"blue\",\"blue\",\"blue\",\"blue\",\"blue\",\"blue\",\"blue\",\"blue\",\"blue\",\"blue\",\"blue\",\"blue\",\"blue\",\"blue\",\"blue\",\"blue\",\"blue\",\"blue\",\"blue\",\"blue\",\"blue\",\"blue\",\"blue\",\"blue\",\"blue\",\"blue\",\"blue\",\"blue\",\"blue\",\"blue\",\"blue\",\"blue\",\"blue\",\"blue\",\"blue\",\"blue\",\"blue\",\"blue\",\"blue\",\"blue\",\"blue\",\"blue\",\"blue\",\"blue\",\"blue\",\"blue\",\"blue\",\"blue\",\"blue\",\"blue\",\"blue\",\"blue\",\"blue\",\"blue\",\"blue\",\"blue\",\"blue\",\"blue\",\"blue\",\"blue\",\"blue\",\"blue\",\"blue\",\"blue\",\"blue\",\"blue\",\"blue\",\"blue\",\"blue\",\"blue\",\"blue\",\"blue\",\"blue\",\"blue\",\"blue\",\"blue\",\"blue\",\"blue\",\"blue\",\"blue\",\"blue\",\"blue\",\"blue\",\"blue\",\"blue\",\"blue\",\"blue\",\"blue\",\"blue\",\"blue\",\"blue\",\"blue\",\"blue\",\"blue\",\"blue\",\"blue\",\"blue\",\"blue\",\"blue\",\"blue\",\"blue\",\"blue\",\"blue\",\"blue\",\"blue\",\"blue\",\"blue\",\"blue\",\"blue\",\"blue\",\"blue\",\"blue\",\"blue\",\"blue\",\"blue\",\"blue\",\"blue\",\"blue\",\"blue\",\"blue\",\"blue\",\"blue\",\"blue\",\"blue\",\"blue\",\"blue\",\"blue\",\"blue\",\"blue\",\"blue\",\"blue\",\"blue\",\"blue\",\"blue\",\"blue\",\"blue\",\"blue\",\"blue\",\"blue\",\"blue\",\"blue\",\"blue\",\"blue\",\"blue\",\"blue\",\"blue\",\"blue\",\"blue\",\"blue\",\"blue\",\"blue\",\"blue\",\"blue\",\"blue\",\"blue\",\"blue\",\"blue\",\"blue\",\"blue\",\"blue\",\"blue\",\"blue\",\"blue\",\"blue\",\"blue\",\"blue\",\"blue\",\"blue\",\"blue\",\"blue\",\"blue\",\"blue\",\"blue\",\"blue\",\"blue\",\"blue\",\"blue\",\"blue\",\"blue\",\"blue\",\"blue\",\"blue\",\"blue\",\"blue\",\"blue\",\"blue\",\"blue\",\"blue\",\"blue\",\"blue\",\"blue\",\"blue\",\"blue\",\"blue\",\"blue\",\"blue\",\"blue\",\"blue\",\"blue\",\"blue\",\"blue\",\"blue\",\"blue\",\"blue\",\"blue\",\"blue\",\"blue\",\"blue\",\"blue\",\"blue\",\"blue\",\"blue\",\"blue\",\"blue\",\"blue\",\"blue\",\"blue\",\"blue\",\"blue\",\"blue\",\"blue\",\"blue\",\"blue\",\"blue\",\"blue\",\"blue\",\"blue\",\"blue\",\"blue\",\"blue\",\"blue\",\"blue\",\"blue\",\"blue\",\"blue\",\"blue\",\"blue\",\"blue\",\"blue\",\"blue\",\"blue\",\"blue\",\"blue\",\"blue\",\"blue\",\"blue\",\"blue\",\"blue\",\"blue\",\"blue\",\"blue\",\"blue\",\"blue\",\"blue\",\"blue\",\"blue\",\"blue\",\"blue\",\"blue\",\"blue\",\"blue\",\"blue\",\"blue\",\"blue\",\"blue\",\"blue\",\"blue\",\"blue\",\"blue\",\"blue\",\"blue\",\"blue\",\"blue\",\"blue\",\"blue\",\"blue\",\"blue\",\"blue\",\"blue\",\"blue\",\"blue\",\"blue\",\"blue\",\"blue\",\"blue\",\"blue\",\"blue\",\"blue\",\"blue\",\"blue\",\"blue\",\"blue\",\"blue\",\"blue\",\"blue\",\"blue\",\"blue\",\"blue\",\"blue\",\"blue\",\"blue\",\"blue\",\"blue\",\"blue\",\"blue\",\"blue\",\"blue\",\"blue\",\"blue\",\"blue\",\"blue\",\"blue\",\"blue\",\"blue\",\"blue\",\"blue\",\"blue\",\"blue\",\"blue\",\"blue\",\"blue\",\"blue\",\"blue\",\"blue\",\"blue\",\"blue\",\"blue\",\"blue\",\"blue\",\"blue\",\"blue\",\"blue\",\"blue\",\"blue\",\"blue\",\"blue\",\"blue\",\"blue\",\"blue\",\"blue\",\"blue\",\"blue\",\"blue\",\"blue\",\"blue\",\"blue\",\"blue\",\"blue\",\"blue\",\"blue\",\"blue\",\"blue\",\"blue\",\"blue\",\"blue\",\"blue\",\"blue\",\"blue\",\"blue\",\"blue\",\"blue\",\"blue\",\"blue\",\"blue\",\"blue\",\"blue\",\"blue\",\"blue\",\"blue\",\"blue\",\"blue\",\"blue\",\"blue\",\"blue\",\"blue\",\"blue\",\"blue\",\"blue\",\"blue\",\"blue\",\"blue\",\"blue\",\"blue\",\"blue\",\"blue\",\"blue\",\"blue\",\"blue\",\"blue\",\"blue\",\"blue\",\"blue\",\"blue\",\"blue\",\"blue\",\"blue\",\"blue\",\"blue\",\"blue\",\"blue\",\"blue\",\"blue\",\"blue\",\"blue\",\"blue\",\"blue\",\"blue\",\"blue\",\"blue\",\"blue\",\"blue\",\"blue\",\"blue\",\"blue\",\"blue\",\"blue\",\"blue\",\"blue\",\"blue\",\"blue\",\"blue\",\"blue\",\"blue\",\"blue\",\"blue\",\"blue\",\"blue\",\"blue\",\"blue\",\"blue\",\"blue\",\"blue\",\"blue\",\"blue\",\"blue\",\"blue\",\"blue\",\"blue\",\"blue\",\"blue\",\"blue\",\"blue\",\"blue\",\"blue\",\"blue\",\"blue\",\"blue\",\"blue\",\"blue\",\"blue\",\"blue\",\"blue\",\"blue\",\"blue\",\"blue\",\"blue\",\"blue\",\"blue\",\"blue\",\"blue\",\"blue\",\"blue\",\"blue\",\"blue\",\"blue\",\"blue\",\"blue\",\"blue\",\"blue\",\"blue\",\"blue\",\"blue\",\"blue\",\"blue\",\"blue\",\"blue\",\"blue\",\"blue\",\"blue\",\"blue\",\"blue\",\"blue\",\"blue\",\"blue\",\"blue\",\"blue\",\"blue\",\"blue\",\"blue\",\"blue\",\"blue\",\"blue\",\"blue\",\"blue\",\"blue\",\"blue\",\"blue\",\"blue\",\"blue\",\"blue\",\"blue\",\"blue\",\"blue\",\"blue\",\"blue\",\"blue\",\"blue\",\"blue\",\"blue\",\"blue\",\"blue\",\"blue\",\"blue\",\"blue\",\"blue\",\"blue\",\"blue\",\"blue\",\"blue\",\"blue\",\"blue\",\"blue\",\"blue\",\"blue\",\"blue\",\"blue\",\"blue\",\"blue\",\"blue\",\"blue\",\"blue\",\"blue\",\"blue\",\"blue\",\"blue\",\"blue\",\"blue\",\"blue\",\"blue\",\"blue\",\"blue\",\"blue\",\"blue\",\"blue\",\"blue\",\"blue\",\"blue\",\"blue\",\"blue\",\"blue\",\"blue\",\"blue\",\"blue\",\"blue\",\"blue\",\"blue\",\"blue\",\"blue\",\"blue\",\"blue\",\"blue\",\"blue\",\"blue\",\"blue\",\"blue\",\"blue\",\"blue\",\"blue\",\"blue\",\"blue\",\"blue\",\"blue\",\"blue\",\"blue\",\"blue\",\"blue\",\"blue\",\"blue\",\"blue\",\"blue\",\"blue\",\"blue\",\"blue\",\"blue\",\"blue\",\"blue\",\"blue\",\"blue\",\"blue\",\"blue\",\"blue\",\"blue\",\"blue\",\"blue\",\"blue\",\"blue\",\"blue\",\"blue\",\"blue\",\"blue\",\"blue\",\"blue\",\"blue\",\"blue\",\"blue\",\"blue\",\"blue\",\"blue\",\"blue\",\"blue\",\"blue\",\"blue\",\"blue\",\"blue\",\"blue\",\"blue\",\"blue\",\"blue\",\"blue\",\"blue\",\"blue\",\"blue\",\"blue\",\"blue\",\"blue\",\"blue\",\"blue\",\"blue\",\"blue\",\"blue\",\"blue\",\"blue\",\"blue\",\"blue\",\"blue\",\"blue\",\"blue\",\"blue\",\"blue\",\"blue\",\"blue\",\"blue\",\"blue\",\"blue\",\"blue\",\"blue\",\"blue\",\"blue\",\"blue\",\"blue\",\"blue\",\"blue\",\"blue\",\"blue\",\"blue\",\"blue\",\"blue\",\"blue\",\"blue\",\"blue\",\"blue\",\"blue\",\"blue\",\"blue\",\"blue\",\"blue\",\"blue\",\"blue\",\"blue\",\"blue\",\"blue\",\"blue\",\"blue\",\"blue\"]],[\"token\",[\"verified\",\"2gb\",\"illinois\",\"jazz\",\"checking\",\"telescope\",\"seasons\",\"astrologer\",\"contribution\",\"homemade\",\"heroes\",\"warcraft\",\"kumar\",\"tester\",\"politically\",\"conquer\",\"columbia\",\"quiet\",\"repeat\",\"kapil\",\"involve\",\"mckinsey\",\"switched\",\"att\",\"instance\",\"innocent\",\"portuguese\",\"subscribers\",\"cabinet\",\"terror\",\"85\",\"rotation\",\"shirts\",\"drawn\",\"bi\",\"aspergers\",\"inspiration\",\"beats\",\"\\u00a3\",\"approximately\",\"asset\",\"empathy\",\"rooting\",\"ia\",\"dandruff\",\"slab\",\"operator\",\"horrible\",\"dominant\",\"ocd\",\"spacetime\",\"blow\",\"installing\",\"learnt\",\"separation\",\"institution\",\"temples\",\"hons\",\"pound\",\"removing\",\"unemployment\",\"greenlit\",\"audit\",\"supplement\",\"roller\",\"dota\",\"tiny\",\"equally\",\"braces\",\"aggressive\",\"corn\",\"camps\",\"additional\",\"consent\",\"granted\",\"welfare\",\"myths\",\"stations\",\"timeline\",\"psychologist\",\"nagpur\",\"herself\",\"cooper\",\"exgirlfriend\",\"intercourse\",\"flip\",\"hurts\",\"lpa\",\"nerve\",\"tvs\",\"halloween\",\"screenshot\",\"biomedical\",\"covered\",\"milky\",\"onsite\",\"aside\",\"meaningful\",\"stretch\",\"joker\",\"encounter\",\"tone\",\"founders\",\"talked\",\"respectively\",\"downloads\",\"cocaine\",\"toxic\",\"sword\",\"fuck\",\"trainer\",\"partition\",\"boxing\",\"grid\",\"practicing\",\"menu\",\"cms\",\"indore\",\"ate\",\"volunteer\",\"misconceptions\",\"pics\",\"flies\",\"instantly\",\"trans\",\"friday\",\"sociopaths\",\"ctc\",\"hoax\",\"detailed\",\"sizes\",\"rejection\",\"limitations\",\"bharat\",\"kissing\",\"renewable\",\"oriented\",\"countrys\",\"dumps\",\"spiders\",\"technological\",\"advertisement\",\"headache\",\"zodiac\",\"accommodation\",\"venus\",\"calcium\",\"passenger\",\"falls\",\"overnight\",\"pickup\",\"gary\",\"transportation\",\"odds\",\"jupiter\",\"purchasing\",\"fluently\",\"flu\",\"photons\",\"conductor\",\"ohio\",\"balaji\",\"mcdonalds\",\"betting\",\"irrational\",\"sachin\",\"deactivate\",\"estimate\",\"hairs\",\"fluent\",\"errors\",\"remaining\",\"marriages\",\"medieval\",\"charles\",\"spider\",\"oxford\",\"gita\",\"races\",\"liquor\",\"poland\",\"lease\",\"co2\",\"selenium\",\"attempts\",\"crystal\",\"manaphy\",\"knight\",\"collapsed\",\"wheels\",\"behaviour\",\"bitcoins\",\"parliament\",\"himher\",\"handsome\",\"thousands\",\"caring\",\"kings\",\"lucky\",\"workplace\",\"condom\",\"intuitive\",\"chronic\",\"eyesight\",\"simulation\",\"prank\",\"quickest\",\"concert\",\"popularity\",\"connections\",\"disorders\",\"scripting\",\"appearance\",\"js\",\"depth\",\"cheque\",\"longterm\",\"documentaries\",\"dioxide\",\"bright\",\"info\",\"diseases\",\"appeal\",\"snap\",\"smoked\",\"singers\",\"boil\",\"probably\",\"temperatures\",\"appearing\",\"olive\",\"ntse\",\"telecom\",\"brief\",\"discrimination\",\"ethnic\",\"cache\",\"passionate\",\"shoulder\",\"assault\",\"marshmallow\",\"momentum\",\"yr\",\"migrate\",\"retire\",\"cet\",\"canvas\",\"vietnamese\",\"institutions\",\"meter\",\"roots\",\"integer\",\"imported\",\"ants\",\"lyft\",\"piercing\",\"il\",\"poop\",\"organisms\",\"ve\",\"entropy\",\"calm\",\"saddest\",\"toward\",\"myth\",\"sight\",\"filling\",\"hdmi\",\"satisfied\",\"transactions\",\"pharmacy\",\"nursing\",\"correlation\",\"regression\",\"awake\",\"md\",\"nri\",\"recommendations\",\"bin\",\"finland\",\"multi\",\"voted\",\"discovery\",\"edward\",\"touching\",\"immigrant\",\"geometry\",\"indicate\",\"ourselves\",\"texting\",\"seek\",\"expecting\",\"dj\",\"brake\",\"helicopter\",\"blonde\",\"triple\",\"ladies\",\"vivekananda\",\"switching\",\"prostitution\",\"banana\",\"magazines\",\"shippuden\",\"lucknow\",\"2019\",\"failing\",\"elizabeth\",\"irish\",\"ebook\",\"temporary\",\"governor\",\"wasting\",\"weekends\",\"cpt\",\"wax\",\"labor\",\"instruments\",\"instrumentation\",\"hates\",\"hip\",\"arnab\",\"bubble\",\"employers\",\"aadhaar\",\"boyfriends\",\"jake\",\"explained\",\"yesterday\",\"beta\",\"extrovert\",\"andhra\",\"micromax\",\"vertical\",\"lay\",\"nonprofit\",\"dubbed\",\"typing\",\"automotive\",\"thomas\",\"procedures\",\"priority\",\"funded\",\"arabs\",\"siblings\",\"guinea\",\"missile\",\"luck\",\"strategic\",\"defend\",\"module\",\"tuition\",\"acids\",\"controller\",\"committee\",\"housing\",\"integral\",\"peaceful\",\"refugees\",\"prescription\",\"interns\",\"supported\",\"womans\",\"dentist\",\"wives\",\"village\",\"affecting\",\"lte\",\"beaches\",\"austin\",\"substance\",\"engagement\",\"trainee\",\"measures\",\"trailer\",\"purchased\",\"15000\",\"uttar\",\"glue\",\"dtu\",\"medal\",\"photon\",\"engg\",\"violin\",\"column\",\"somehow\",\"rotate\",\"3000\",\"virat\",\"forgotten\",\"fingers\",\"slim\",\"arrest\",\"covalent\",\"ncert\",\"kernel\",\"da\",\"alarm\",\"ngo\",\"4gb\",\"productivity\",\"planned\",\"district\",\"berlin\",\"lists\",\"leads\",\"slang\",\"defence\",\"aspiring\",\"56\",\"enemy\",\"farming\",\"muller\",\"pays\",\"liver\",\"membrane\",\"secretly\",\"plug\",\"gum\",\"eclipse\",\"chewing\",\"labs\",\"zombie\",\"authority\",\"males\",\"argentina\",\"tasks\",\"fell\",\"nails\",\"palestine\",\"tanks\",\"identical\",\"deck\",\"qualification\",\"leadership\",\"kohli\",\"pronunciation\",\"hello\",\"violent\",\"sabha\",\"respiration\",\"transform\",\"warranty\",\"faculty\",\"adolf\",\"expenses\",\"jersey\",\"mercury\",\"whiskey\",\"tackle\",\"tweet\",\"blame\",\"cruise\",\"mahindra\",\"discharge\",\"reduced\",\"vodka\",\"mahatma\",\"bass\",\"compete\",\"stains\",\"pill\",\"swim\",\"ali\",\"gf\",\"ford\",\"prince\",\"sweat\",\"performing\",\"limits\",\"leonardo\",\"cow\",\"resolve\",\"matters\",\"pharmaceutical\",\"ray\",\"remotely\",\"pf\",\"clinical\",\"bpo\",\"homeless\",\"husbands\",\"rising\",\"newtons\",\"outcome\",\"derivative\",\"alpha\",\"grown\",\"capitalism\",\"astronaut\",\"hybrid\",\"palm\",\"teens\",\"hits\",\"airplanes\",\"none\",\"admin\",\"applicable\",\"amcat\",\"spam\",\"neutrality\",\"pixel\",\"festival\",\"faces\",\"molar\",\"snakes\",\"sip\",\"kik\",\"farm\",\"ltd\",\"votes\",\"publishing\",\"comfort\",\"frontend\",\"spin\",\"diagnosed\",\"buildings\",\"\\u00b0\",\"cashless\",\"addictive\",\"extinct\",\"ugc\",\"coke\",\"llb\",\"phrases\",\"struggle\",\"drives\",\"fiber\",\"grocery\",\"achieved\",\"penny\",\"bath\",\"allies\",\"uninstall\",\"ny\",\"appears\",\"effort\",\"satellites\",\"confirmed\",\"loneliness\",\"illuminati\",\"uri\",\"lucid\",\"preferably\",\"neither\",\"\\u221a\",\"pacific\",\"americas\",\"bs\",\"graduated\",\"bills\",\"tube\",\"germans\",\"assume\",\"cleared\",\"mate\",\"divide\",\"versions\",\"fallen\",\"journey\",\"anthem\",\"certificates\",\"looked\",\"sponsor\",\"useless\",\"dependent\",\"invite\",\"guru\",\"keyword\",\"aipmt\",\"clone\",\"kgs\",\"chip\",\"origins\",\"wide\",\"motivational\",\"elite\",\"wanna\",\"unity\",\"cough\",\"connecting\",\"mystery\",\"kim\",\"syrian\",\"voldemort\",\"responsibilities\",\"molecules\",\"boobs\",\"holidays\",\"tutorial\",\"circumstances\",\"fiitjee\",\"islands\",\"bypass\",\"slowly\",\"mixture\",\"aluminum\",\"salesforce\",\"twin\",\"iot\",\"remedy\",\"sheets\",\"pole\",\"hated\",\"females\",\"protected\",\"irs\",\"insecure\",\"entering\",\"neuroscience\",\"offices\",\"delta\",\"suggestion\",\"snapdeal\",\"backstory\",\"periodic\",\"cancelled\",\"mans\",\"complicated\",\"bitsat\",\"pleasure\",\"loop\",\"dropbox\",\"selfish\",\"nude\",\"20000\",\"voter\",\"variables\",\"victory\",\"closest\",\"compensation\",\"extended\",\"locations\",\"cracked\",\"perks\",\"ended\",\"exit\",\"awareness\",\"pakistanis\",\"ebooks\",\"bull\",\"unblock\",\"100000\",\"entrepreneurship\",\"infrastructure\",\"scotland\",\"guest\",\"attacked\",\"hurting\",\"lion\",\"reject\",\"purposes\",\"knife\",\"thai\",\"ipl\",\"knee\",\"accepting\",\"spent\",\"punjabi\",\"tab\",\"quoras\",\"caffeine\",\"athletes\",\"ink\",\"cooked\",\"improving\",\"invaded\",\"allah\",\"thermodynamics\",\"mortgage\",\"firsttime\",\"achievements\",\"issued\",\"breath\",\"award\",\"llc\",\"legends\",\"mood\",\"influenced\",\"proteins\",\"holy\",\"performed\",\"pee\",\"blocks\",\"molecule\",\"interests\",\"imei\",\"requires\",\"cisco\",\"moves\",\"marrying\",\"mca\",\"perfectly\",\"iisc\",\"corporation\",\"shiva\",\"viruses\",\"difficulty\",\"50000\",\"volte\",\"shampoo\",\"secular\",\"transplant\",\"ghz\",\"ahead\",\"crew\",\"interact\",\"depend\",\"hawaii\",\"hiv\",\"evening\",\"vegetable\",\"revenge\",\"suppose\",\"busy\",\"label\",\"rogue\",\"rational\",\"hillstation\",\"brains\",\"urdu\",\"imagine\",\"salaries\",\"survey\",\"g4\",\"butt\",\"manufacturers\",\"saas\",\"residency\",\"recommendation\",\"purple\",\"fault\",\"aadhar\",\"aging\",\"bhopal\",\"conducted\",\"loses\",\"infection\",\"forest\",\"impacts\",\"collection\",\"fridge\",\"diamond\",\"mis\",\"recorded\",\"march\",\"conditioner\",\"signature\",\"listed\",\"branches\",\"manchester\",\"wanting\",\"perception\",\"absolutely\",\"servers\",\"soluble\",\"swami\",\"lumia\",\"directors\",\"52\",\"2008\",\"gaining\",\"stereotypes\",\"homes\",\"vegas\",\"jam\",\"behave\",\"relatively\",\"forum\",\"ib\",\"earphones\",\"facilities\",\"april\",\"finally\",\"tail\",\"capacitor\",\"tiger\",\"deaf\",\"deliver\",\"django\",\"expand\",\"skip\",\"nearly\",\"maybe\",\"task\",\"gateway\",\"strangest\",\"abstract\",\"adding\",\"suck\",\"tim\",\"printed\",\"sigma\",\"immigrate\",\"decline\",\"arrested\",\"95\",\"narcissistic\",\"freelancing\",\"patterns\",\"expired\",\"casual\",\"tablets\",\"patients\",\"lean\",\"pieces\",\"laymans\",\"whatever\",\"polish\",\"lemon\",\"abortion\",\"i3\",\"theorem\",\"h\",\"compulsory\",\"helped\",\"sons\",\"feminism\",\"compiler\",\"tested\",\"enhance\",\"adhd\",\"manhattan\",\"iii\",\"nail\",\"eee\",\"deals\",\"excellent\",\"ipo\",\"folder\",\"sand\",\"continuous\",\"capable\",\"libraries\",\"aggregate\",\"64\",\"bsnl\",\"profiles\",\"spirit\",\"pulled\",\"owns\",\"deloitte\",\"therapist\",\"acts\",\"millions\",\"authors\",\"marathi\",\"dvd\",\"coconut\",\"swiss\",\"interaction\",\"ncr\",\"kannada\",\"smallest\",\"advisable\",\"smartest\",\"sorry\",\"normally\",\"ends\",\"rome\",\"spectrum\",\"cousin\",\"75\",\"suzuki\",\"nights\",\"cap\",\"enable\",\"counselling\",\"proxy\",\"margin\",\"shops\",\"hackers\",\"tatkal\",\"opened\",\"cinema\",\"consumption\",\"coal\",\"silent\",\"choosing\",\"introduction\",\"electromagnetic\",\"hcl\",\"complaint\",\"puppies\",\"vc\",\"symbols\",\"lenses\",\"username\",\"arrow\",\"adopted\",\"affects\",\"sudden\",\"pcm\",\"gel\",\"affair\",\"pinterest\",\"statements\",\"supplements\",\"justified\",\"turns\",\"santa\",\"shoe\",\"trek\",\"headphone\",\"girlfriends\",\"verizon\",\"rocket\",\"conference\",\"ego\",\"srm\",\"afghanistan\",\"nucleus\",\"generated\",\"chinas\",\"ww1\",\"consultancy\",\"socially\",\"allen\",\"berkeley\",\"missed\",\"crying\",\"introduced\",\"ps3\",\"flour\",\"brought\",\"elder\",\"minecraft\",\"9th\",\"freelancer\",\"circles\",\"scars\",\"entertainment\",\"turbine\",\"deeply\",\"rom\",\"evolved\",\"nato\",\"strengths\",\"ide\",\"tweets\",\"scholarships\",\"mentor\",\"collect\",\"hdfc\",\"mandarin\",\"solo\",\"terrible\",\"influential\",\"professionals\",\"65\",\"recognition\",\"nvidia\",\"cia\",\"designs\",\"10k\",\"creation\",\"tom\",\"rated\",\"introverts\",\"boiling\",\"communism\",\"treaty\",\"whereas\",\"thanks\",\"cigarette\",\"bengaluru\",\"oneplus\",\"reserve\",\"advertise\",\"nits\",\"helping\",\"bruce\",\"mp3\",\"severe\",\"proposal\",\"cultures\",\"tap\",\"animated\",\"planes\",\"hall\",\"cognitive\",\"supports\",\"keys\",\"gotten\",\"feedback\",\"recording\",\"proceed\",\"membership\",\"console\",\"overseas\",\"hows\",\"william\",\"billionaires\",\"updated\",\"pre\",\"organizations\",\"messi\",\"unexpected\",\"nitrogen\",\"hungry\",\"nigeria\",\"sync\",\"arduino\",\"gross\",\"outer\",\"searching\",\"workers\",\"outlook\",\"europeans\",\"founder\",\"lectures\",\"legitimate\",\"camp\",\"ordinary\",\"investments\",\"bone\",\"raising\",\"quite\",\"ages\",\"joint\",\"johnson\",\"destination\",\"concerned\",\"belief\",\"refrigerator\",\"implications\",\"manga\",\"mandatory\",\"obamas\",\"lawyers\",\"bedroom\",\"icon\",\"qualifications\",\"qa\",\"bikes\",\"boston\",\"holding\",\"session\",\"appointment\",\"weaknesses\",\"iphones\",\"motorcycle\",\"schizophrenia\",\"5th\",\"intellectual\",\"eaten\",\"attending\",\"medals\",\"adsense\",\"nda\",\"6th\",\"kali\",\"georgia\",\"wechat\",\"earlier\",\"drone\",\"truck\",\"horse\",\"merchant\",\"torque\",\"seed\",\"backend\",\"holmes\",\"graduating\",\"400\",\"bones\",\"sufficient\",\"participate\",\"rifle\",\"shock\",\"downloaded\",\"earthquake\",\"breasts\",\"secretary\",\"insert\",\"damaged\",\"massive\",\"standing\",\"remainder\",\"programme\",\"holocaust\",\"totally\",\"belt\",\"affairs\",\"nokia\",\"mechanism\",\"pin\",\"scan\",\"fought\",\"superpower\",\"poetry\",\"signals\",\"educated\",\"scariest\",\"trains\",\"closer\",\"weapon\",\"icici\",\"serial\",\"bicycle\",\"terminal\",\"finished\",\"stolen\",\"inspiring\",\"cuisine\",\"spark\",\"sounds\",\"pricing\",\"click\",\"underwear\",\"kidney\",\"bengal\",\"invention\",\"discount\",\"chase\",\"evaluate\",\"distributed\",\"themes\",\"amd\",\"stem\",\"st\",\"genre\",\"vegetables\",\"council\",\"bihar\",\"thick\",\"mouse\",\"worry\",\"newly\",\"updates\",\"candy\",\"prepaid\",\"wet\",\"rap\",\"motors\",\"implemented\",\"theoretical\",\"fabric\",\"mexican\",\"portfolio\",\"technique\",\"icse\",\"expansion\",\"evolutionary\",\"justify\",\"trick\",\"attached\",\"lightning\",\"pitch\",\"armed\",\"einstein\",\"conversion\",\"iitjee\",\"declared\",\"admit\",\"acquisition\",\"innovation\",\"runs\",\"wwe\",\"trial\",\"memories\",\"refuse\",\"netherlands\",\"committed\",\"fraud\",\"jailbreak\",\"settle\",\"badly\",\"approved\",\"eligibility\",\"trend\",\"increases\",\"comic\",\"quorans\",\"cellular\",\"matches\",\"receiving\",\"bmw\",\"vlsi\",\"signed\",\"lakes\",\"350\",\"communications\",\"pork\",\"joined\",\"anyway\",\"differentiate\",\"actresses\",\"29\",\"ethics\",\"premier\",\"hearing\",\"vehicles\",\"drama\",\"instant\",\"lips\",\"dates\",\"july\",\"holiday\",\"coach\",\"malayalam\",\"superior\",\"soviet\",\"plate\",\"throw\",\"worship\",\"bars\",\"sharma\",\"mothers\",\"integrated\",\"clubs\",\"bug\",\"melbourne\",\"co\",\"bisexual\",\"regions\",\"lesson\",\"heads\",\"reader\",\"snake\",\"qualify\",\"paul\",\"causing\",\"disappear\",\"era\",\"lets\",\"qualified\",\"spiritual\",\"wolf\",\"requirement\",\"journalism\",\"studied\",\"lowest\",\"vader\",\"coursera\",\"stark\",\"configuration\",\"verbal\",\"undergrad\",\"dimensions\",\"transition\",\"efficiently\",\"interstellar\",\"locked\",\"summary\",\"chandigarh\",\"ghosts\",\"included\",\"operate\",\"dimension\",\"mount\",\"noticed\",\"rating\",\"somewhere\",\"martin\",\"bra\",\"bird\",\"zuckerberg\",\"sensor\",\"audience\",\"dirty\",\"starbucks\",\"permission\",\"residential\",\"wholesale\",\"assets\",\"clearly\",\"km\",\"invade\",\"ipcc\",\"fb\",\"shell\",\"shave\",\"loud\",\"tip\",\"seeds\",\"sets\",\"polar\",\"although\",\"june\",\"judaism\",\"anti\",\"instrument\",\"seven\",\"shooting\",\"j\",\"portal\",\"tower\",\"github\",\"linked\",\"admitted\",\"punishment\",\"mid\",\"micro\",\"cured\",\"lifestyle\",\"nor\",\"upset\",\"challenge\",\"soap\",\"standards\",\"integration\",\"lottery\",\"lab\",\"williams\",\"odd\",\"soil\",\"sensitive\",\"route\",\"tattoos\",\"coin\",\"declare\",\"frame\",\"differential\",\"bowl\",\"softwares\",\"notifications\",\"maintenance\",\"inner\",\"apples\",\"converted\",\"recruiter\",\"bombay\",\"command\",\"posting\",\"controlled\",\"balls\",\"personally\",\"poker\",\"extract\",\"hired\",\"bugs\",\"providers\",\"loans\",\"calculator\",\"attractions\",\"torrents\",\"keywords\",\"profession\",\"blogging\",\"transport\",\"sue\",\"anonymously\",\"compounds\",\"robot\",\"buddhism\",\"sweet\",\"defense\",\"nobody\",\"uc\",\"defined\",\"division\",\"bags\",\"epic\",\"unhealthy\",\"craziest\",\"urban\",\"combination\",\"pair\",\"laugh\",\"cv\",\"usd\",\"launched\",\"usps\",\"visited\",\"nexus\",\"regularly\",\"brothers\",\"broker\",\"concentrate\",\"agreement\",\"nervous\",\"frozen\",\"detail\",\"sir\",\"situations\",\"borderline\",\"angularjs\",\"abusive\",\"tourism\",\"relate\",\"august\",\"communist\",\"accountant\",\"dumb\",\"arab\",\"b2b\",\"du\",\"thermal\",\"asians\",\"threat\",\"karma\",\"passive\",\"homosexuality\",\"putting\",\"quantitative\",\"relativity\",\"sanskrit\",\"opinions\",\"verify\",\"bear\",\"roll\",\"expanding\",\"teenage\",\"jeans\",\"providing\",\"shared\",\"extreme\",\"mi\",\"vr\",\"progress\",\"greece\",\"cpu\",\"ips\",\"merge\",\"reputation\",\"loving\",\"salman\",\"iss\",\"warm\",\"dental\",\"extension\",\"attraction\",\"fictional\",\"journal\",\"login\",\"secondary\",\"recognize\",\"southern\",\"ph\",\"lunch\",\"wallet\",\"ronaldo\",\"larger\",\"actions\",\"fathers\",\"adopt\",\"claims\",\"bottom\",\"therapy\",\"patient\",\"described\",\"virginity\",\"functional\",\"ionic\",\"chartered\",\"discover\",\"55\",\"21st\",\"biased\",\"mad\",\"northern\",\"onto\",\"liberals\",\"premium\",\"neutral\",\"detect\",\"diagram\",\"sperm\",\"ga\",\"bleach\",\"spread\",\"contributions\",\"activate\",\"prior\",\"safest\",\"holder\",\"360\",\"aim\",\"rental\",\"families\",\"everybody\",\"shut\",\"payments\",\"150\",\"cube\",\"vegan\",\"newspaper\",\"beef\",\"houses\",\"preferred\",\"simultaneously\",\"marked\",\"reactions\",\"emergency\",\"protection\",\"cab\",\"forex\",\"norway\",\"immigrants\",\"googles\",\"ssb\",\"wing\",\"yrs\",\"ensure\",\"spy\",\"reasoning\",\"strange\",\"forgive\",\"turkish\",\"tag\",\"ranking\",\"platforms\",\"fox\",\"existed\",\"walmart\",\"lazy\",\"ears\",\"clock\",\"beam\",\"rare\",\"bush\",\"2011\",\"stops\",\"batteries\",\"certified\",\"naked\",\"worldwide\",\"staying\",\"lifetime\",\"ted\",\"lake\",\"wealthy\",\"transit\",\"stephen\",\"rural\",\"versa\",\"pets\",\"commonly\",\"adults\",\"ultimate\",\"genius\",\"vinegar\",\"allows\",\"aid\",\"retirement\",\"airtel\",\"sciences\",\"mountain\",\"drinks\",\"tour\",\"wind\",\"seattle\",\"disabled\",\"bodies\",\"lesbian\",\"governments\",\"kinetic\",\"tumblr\",\"absolute\",\"author\",\"toilet\",\"whey\",\"sleepy\",\"molecular\",\"watches\",\"inventions\",\"rain\",\"34\",\"angular\",\"o\",\"dish\",\"however\",\"agents\",\"abs\",\"switzerland\",\"transformer\",\"clearing\",\"consciousness\",\"broadband\",\"uae\",\"automatic\",\"opposed\",\"geography\",\"astronauts\",\"decisions\",\"cement\",\"induction\",\"luxury\",\"upvotes\",\"politicians\",\"posted\",\"toefl\",\"kitchen\",\"noise\",\"radius\",\"dye\",\"miles\",\"risks\",\"scientifically\",\"mnc\",\"propose\",\"prepared\",\"iiit\",\"mention\",\"equipment\",\"darth\",\"january\",\"surname\",\"raised\",\"attitude\",\"gta\",\"david\",\"hike\",\"awkward\",\"proven\",\"productive\",\"lg\",\"filled\",\"atmosphere\",\"lee\",\"irctc\",\"addicted\",\"dynamic\",\"employment\",\"weekend\",\"replacement\",\"singing\",\"owners\",\"bipolar\",\"tomorrow\",\"poems\",\"default\",\"kvpy\",\"sauce\",\"competitors\",\"russians\",\"sample\",\"crimes\",\"hang\",\"inspired\",\"furniture\",\"throughout\",\"presence\",\"efficiency\",\"leg\",\"biological\",\"pilani\",\"conversations\",\"inspirational\",\"bachelor\",\"centers\",\"withdraw\",\"fundamental\",\"comparison\",\"november\",\"fifa\",\"penalty\",\"algebra\",\"joke\",\"htc\",\"pilots\",\"collapse\",\"texts\",\"vocabulary\",\"moved\",\"sc\",\"smile\",\"october\",\"dot\",\"genetic\",\"architect\",\"url\",\"51\",\"sore\",\"uniform\",\"re\",\"rails\",\"smaller\",\"marine\",\"terrorists\",\"nazi\",\"breast\",\"politician\",\"subtitles\",\"chosen\",\"egypt\",\"thin\",\"packages\",\"editor\",\"bands\",\"mythology\",\"reasonable\",\"permit\",\"acceptable\",\"seriously\",\"iraq\",\"fever\",\"visitor\",\"honest\",\"friction\",\"offering\",\"smarter\",\"ahmedabad\",\"replaced\",\"resolution\",\"burning\",\"bridge\",\"catholic\",\"calendar\",\"resident\",\"policies\",\"forced\",\"leading\",\"arm\",\"deserve\",\"context\",\"coolest\",\"arranged\",\"arizona\",\"comics\",\"harm\",\"democrats\",\"jail\",\"breed\",\"anywhere\",\"psu\",\"christ\",\"violence\",\"agriculture\",\"objective\",\"moments\",\"infinity\",\"supporting\",\"critical\",\"trees\",\"beyond\",\"bag\",\"vitamin\",\"assembly\",\"solved\",\"array\",\"perspective\",\"pas\",\"wwii\",\"skinny\",\"contains\",\"lift\",\"cleaning\",\"peter\",\"aap\",\"pimples\",\"initial\",\"lesserknown\",\"sights\",\"principles\",\"realize\",\"millionaire\",\"faux\",\"orbit\",\"desire\",\"hi\",\"prophet\",\"suits\",\"careers\",\"thinks\",\"quantity\",\"spots\",\"wage\",\"asleep\",\"sociology\",\"guard\",\"units\",\"structural\",\"operation\",\"pants\",\"w\",\"bulk\",\"possibly\",\"drunk\",\"fired\",\"accident\",\"inch\",\"bottle\",\"aerospace\",\"narcissist\",\"ux\",\"angeles\",\"wood\",\"index\",\"safely\",\"robotics\",\"edition\",\"metals\",\"practices\",\"scheme\",\"interior\",\"diabetes\",\"nobel\",\"youth\",\"lived\",\"september\",\"chief\",\"proposed\",\"assuming\",\"sin\",\"counter\",\"disable\",\"introduce\",\"restore\",\"swimming\",\"intern\",\"answering\",\"mentioned\",\"crash\",\"laser\",\"teenagers\",\"presentation\",\"quran\",\"classified\",\"demonetisation\",\"communicate\",\"cotton\",\"autism\",\"anger\",\"environmental\",\"stable\",\"7th\",\"bread\",\"invited\",\"wisdom\",\"wrote\",\"widely\",\"minor\",\"formal\",\"dreaming\",\"managers\",\"escape\",\"pollution\",\"taiwan\",\"verification\",\"los\",\"figures\",\"26\",\"illness\",\"sides\",\"compatible\",\"pack\",\"conspiracy\",\"hedge\",\"flights\",\"dropped\",\"former\",\"suffer\",\"aware\",\"designers\",\"mahabharata\",\"evolve\",\"weigh\",\"dies\",\"fruits\",\"cc\",\"butter\",\"sharing\",\"atoms\",\"tongue\",\"transaction\",\"poverty\",\"suffering\",\"presidents\",\"resistance\",\"adam\",\"civilization\",\"mining\",\"toronto\",\"stick\",\"increased\",\"wild\",\"freelance\",\"removal\",\"aws\",\"rio\",\"principle\",\"asus\",\"cute\",\"consumer\",\"pool\",\"variable\",\"tutorials\",\"advance\",\"keeping\",\"visible\",\"cognizant\",\"equations\",\"rooms\",\"krishna\",\"printer\",\"tooth\",\"mentally\",\"realistic\",\"automobile\",\"cake\",\"tie\",\"beach\",\"ghost\",\"comfortable\",\"mysql\",\"oral\",\"closed\",\"helps\",\"maharashtra\",\"admissions\",\"i5\",\"partners\",\"axis\",\"beliefs\",\"neck\",\"clans\",\"hidden\",\"cyber\",\"voting\",\"bacteria\",\"layer\",\"chhattisgarh\",\"5000\",\"sitting\",\"murder\",\"argument\",\"f\",\"privacy\",\"syndrome\",\"2010\",\"bite\",\"vacation\",\"isro\",\"trouble\",\"records\",\"answered\",\"digit\",\"defeat\",\"childhood\",\"5s\",\"gates\",\"f1\",\"town\",\"anal\",\"copper\",\"talks\",\"affiliate\",\"sociopath\",\"installed\",\"static\",\"copyright\",\"animation\",\"donate\",\"stranger\",\"bcom\",\"destroyed\",\"gujarat\",\"foundation\",\"prize\",\"components\",\"foreigner\",\"arms\",\"unlimited\",\"needing\",\"settings\",\"item\",\"eve\",\"competition\",\"landing\",\"beard\",\"patent\",\"ending\",\"2020\",\"incident\",\"petroleum\",\"florida\",\"particularly\",\"ups\",\"generator\",\"leather\",\"heal\",\"experiment\",\"28\",\"passing\",\"talent\",\"remote\",\"300\",\"published\",\"impossible\",\"steam\",\"80\",\"washing\",\"guilty\",\"punjab\",\"70\",\"album\",\"bullet\",\"paris\",\"interface\",\"agencies\",\"mission\",\"digits\",\"modis\",\"recruitment\",\"manipal\",\"telling\",\"meal\",\"orange\",\"stone\",\"links\",\"ab\",\"upper\",\"cameras\",\"p\",\"combat\",\"passion\",\"shower\",\"thailand\",\"beings\",\"grad\",\"27\",\"finger\",\"jump\",\"lights\",\"ui\",\"bba\",\"sweden\",\"arrive\",\"4th\",\"amendment\",\"window\",\"satellite\",\"al\",\"matlab\",\"jokes\",\"muhammad\",\"expression\",\"booking\",\"dinner\",\"skype\",\"lots\",\"2018\",\"teen\",\"finish\",\"dslr\",\"mens\",\"proud\",\"entrepreneurs\",\"ukraine\",\"coins\",\"scenario\",\"transmission\",\"ignore\",\"pride\",\"contribute\",\"grand\",\"curve\",\"false\",\"operations\",\"breakup\",\"eventually\",\"acquire\",\"commission\",\"lies\",\"spoken\",\"pills\",\"masturbating\",\"jackson\",\"airbnb\",\"delivered\",\"disk\",\"radiation\",\"plays\",\"marvel\",\"particle\",\"breakfast\",\"smartphones\",\"relevant\",\"quota\",\"refund\",\"inches\",\"telugu\",\"angel\",\"eastern\",\"inflation\",\"predict\",\"annoying\",\"obc\",\"tough\",\"conduct\",\"originate\",\"notification\",\"backup\",\"harder\",\"richest\",\"pronounce\",\"sri\",\"wheel\",\"wasnt\",\"oldest\",\"sheet\",\"soda\",\"20s\",\"wipro\",\"awesome\",\"facial\",\"z\",\"noida\",\"confident\",\"fbi\",\"corrupt\",\"succeed\",\"reddit\",\"associate\",\"input\",\"guns\",\"rahul\",\"baking\",\"description\",\"musical\",\"apache\",\"nowadays\",\"fluid\",\"capacity\",\"loose\",\"freshman\",\"cfa\",\"optional\",\"theres\",\"ps4\",\"trends\",\"jon\",\"richard\",\"legit\",\"nodejs\",\"document\",\"sexually\",\"particles\",\"singer\",\"printing\",\"captain\",\"valuable\",\"several\",\"aiims\",\"boot\",\"sit\",\"zone\",\"billionaire\",\"floor\",\"gravitational\",\"export\",\"motivation\",\"golden\",\"transgender\",\"healthcare\",\"heaven\",\"81\",\"leaves\",\"listening\",\"overall\",\"press\",\"dishes\",\"railways\",\"warming\",\"enfield\",\"extent\",\"acceleration\",\"afford\",\"bonds\",\"border\",\"registration\",\"cast\",\"hope\",\"shipping\",\"karnataka\",\"specifically\",\"opportunity\",\"arabia\",\"pump\",\"pg\",\"carrier\",\"plot\",\"kingdom\",\"contract\",\"painful\",\"kindle\",\"boring\",\"essential\",\"disney\",\"charger\",\"seconds\",\"measured\",\"honda\",\"ba\",\"makeup\",\"\\u2013\",\"mini\",\"annual\",\"traits\",\"retrieve\",\"willing\",\"swift\",\"consume\",\"hindus\",\"psychopath\",\"tells\",\"solving\",\"conditions\",\"artists\",\"spotify\",\"bomb\",\"integrate\",\"stuck\",\"nikon\",\"gadgets\",\"womens\",\"judge\",\"republicans\",\"vacuum\",\"felt\",\"putin\",\"tennis\",\"concentration\",\"fans\",\"constantly\",\"matrix\",\"secrets\",\"spot\",\"soft\",\"stored\",\"neural\",\"submit\",\"scores\",\"ola\",\"wire\",\"gdp\",\"jaipur\",\"typically\",\"airline\",\"roles\",\"cheaper\",\"machines\",\"shift\",\"impress\",\"basics\",\"32\",\"conservative\",\"birds\",\"tend\",\"duty\",\"setup\",\"rude\",\"pink\",\"church\",\"mine\",\"jack\",\"sending\",\"cooking\",\"versus\",\"expert\",\"olympic\",\"biotechnology\",\"gurgaon\",\"worked\",\"codes\",\"successfully\",\"hardware\",\"faith\",\"pr\",\"television\",\"compound\",\"vit\",\"universal\",\"thank\",\"grammatically\",\"chicago\",\"ivy\",\"worried\",\"enterprise\",\"sodium\",\"railway\",\"remedies\",\"racism\",\"tracking\",\"psychological\",\"apartment\",\"magazine\",\"martial\",\"beauty\",\"waiting\",\"attacks\",\"horror\",\"fantasy\",\"ma\",\"select\",\"increasing\",\"metro\",\"opt\",\"map\",\"watched\",\"gear\",\"icloud\",\"james\",\"comedy\",\"lollipop\",\"ireland\",\"upcoming\",\"italian\",\"oven\",\"emotionally\",\"decided\",\"lakh\",\"grey\",\"kept\",\"produced\",\"mouth\",\"manual\",\"dhoni\",\"fill\",\"throat\",\"shoot\",\"liked\",\"innovative\",\"immediately\",\"lonely\",\"fighting\",\"max\",\"accidentally\",\"schedule\",\"orgasm\",\"rape\",\"ride\",\"muscles\",\"graduates\",\"taller\",\"boost\",\"lakhs\",\"microwave\",\"electrons\",\"upon\",\"attract\",\"ap\",\"abuse\",\"earths\",\"forever\",\"underrated\",\"facing\",\"terrorist\",\"alien\",\"celebrity\",\"frequently\",\"vpn\",\"wales\",\"powder\",\"superman\",\"mixed\",\"caught\",\"goods\",\"beginning\",\"starts\",\"atomic\",\"associated\",\"triangle\",\"parties\",\"banning\",\"k\",\"honey\",\"monitor\",\"graph\",\"leaders\",\"embedded\",\"juice\",\"split\",\"lady\",\"sequence\",\"911\",\"harassment\",\"nepal\",\"pop\",\"habit\",\"setting\",\"edge\",\"ww2\",\"gps\",\"federal\",\"charged\",\"lying\",\"empty\",\"whenever\",\"airplane\",\"jet\",\"destroy\",\"ies\",\"wouldnt\",\"quick\",\"decrease\",\"robert\",\"pradesh\",\"professors\",\"massage\",\"held\",\"spending\",\"markets\",\"objects\",\"chart\",\"mechanics\",\"silver\",\"usage\",\"basketball\",\"gen\",\"periods\",\"identity\",\"individuals\",\"css\",\"soul\",\"ipod\",\"chest\",\"understanding\",\"coast\",\"classic\",\"spain\",\"babies\",\"sd\",\"hostel\",\"shirt\",\"further\",\"logical\",\"franchise\",\"obtain\",\"foreigners\",\"fully\",\"region\",\"designed\",\"cheated\",\"beneficial\",\"shes\",\"accent\",\"couldnt\",\"queen\",\"sick\",\"blowing\",\"properly\",\"stronger\",\"returns\",\"condition\",\"musk\",\"ugly\",\"teams\",\"filter\",\"snow\",\"glasses\",\"employer\",\"solid\",\"followed\",\"embarrassing\",\"auto\",\"meeting\",\"belong\",\"strike\",\"internships\",\"bachelors\",\"administration\",\"temple\",\"wealth\",\"retail\",\"speakers\",\"electoral\",\"headphones\",\"streaming\",\"mirror\",\"diesel\",\"republic\",\"antivirus\",\"customers\",\"atm\",\"vagina\",\"cigarettes\",\"aptitude\",\"lewis\",\"saudi\",\"puppy\",\"recovery\",\"jimmy\",\"obsessed\",\"domestic\",\"pen\",\"batch\",\"de\",\"drawing\",\"ai\",\"medium\",\"simply\",\"photoshop\",\"sms\",\"turning\",\"nadu\",\"appropriate\",\"adobe\",\"substitute\",\"fruit\",\"recipes\",\"fighter\",\"saving\",\"greater\",\"cheat\",\"routine\",\"push\",\"sherlock\",\"arguments\",\"sony\",\"import\",\"soldiers\",\"charges\",\"emotions\",\"ibm\",\"un\",\"innovations\",\"itunes\",\"consultant\",\"iims\",\"relations\",\"psychopaths\",\"existing\",\"angle\",\"clash\",\"bus\",\"australian\",\"crazy\",\"pull\",\"theories\",\"savings\",\"suit\",\"contrast\",\"calculus\",\"pi\",\"credits\",\"bluetooth\",\"himself\",\"traveling\",\"criminal\",\"xiaomi\",\"zealand\",\"seats\",\"electron\",\"script\",\"11th\",\"lessons\",\"programmers\",\"december\",\"flag\",\"singh\",\"arabic\",\"sale\",\"nfl\",\"grammar\",\"killing\",\"virgin\",\"differently\",\"poem\",\"provided\",\"automation\",\"shy\",\"translation\",\"mathematical\",\"45\",\"celebrities\",\"spring\",\"downloading\",\"dr\",\"organization\",\"majority\",\"clients\",\"hd\",\"motivate\",\"thats\",\"thesis\",\"door\",\"weakest\",\"saw\",\"canon\",\"younger\",\"costs\",\"river\",\"rings\",\"factory\",\"decent\",\"clintons\",\"holes\",\"desert\",\"divorce\",\"sold\",\"cheese\",\"atom\",\"taught\",\"minute\",\"ocean\",\"crisis\",\"represent\",\"surgical\",\"parent\",\"brexit\",\"possibility\",\"longest\",\"edit\",\"scholarship\",\"motivated\",\"chocolate\",\"faced\",\"90\",\"parallel\",\"foot\",\"examination\",\"friendly\",\"kinds\",\"wins\",\"islamic\",\"degrees\",\"registered\",\"distribution\",\"junior\",\"gave\",\"sing\",\"articles\",\"hadoop\",\"saved\",\"hero\",\"ear\",\"asks\",\"improved\",\"teenager\",\"forms\",\"wash\",\"provides\",\"washington\",\"strikes\",\"binary\",\"syria\",\"indonesia\",\"powers\",\"highly\",\"heshe\",\"happiness\",\"director\",\"citizenship\",\"knew\",\"humanity\",\"translate\",\"nba\",\"permanently\",\"soccer\",\"todays\",\"challenges\",\"barack\",\"title\",\"latin\",\"fitness\",\"genuine\",\"investor\",\"dislike\",\"scenes\",\"hacker\",\"bangladesh\",\"ebay\",\"earning\",\"dell\",\"paytm\",\"spouse\",\"bored\",\"roman\",\"official\",\"dragon\",\"park\",\"except\",\"habits\",\"quote\",\"astrology\",\"congress\",\"automatically\",\"island\",\"religions\",\"christianity\",\"supreme\",\"owner\",\"hell\",\"wikipedia\",\"cancel\",\"industries\",\"actress\",\"client\",\"visual\",\"michael\",\"remain\",\"ability\",\"concrete\",\"conflict\",\"string\",\"linear\",\"supposed\",\"engines\",\"2012\",\"\\u2018\",\"lesser\",\"traditional\",\"episodes\",\"goals\",\"tata\",\"opening\",\"target\",\"weak\",\"anonymous\",\"bjp\",\"resource\",\"concepts\",\"ruby\",\"friendship\",\"nyc\",\"pretty\",\"implement\",\"painting\",\"ill\",\"agency\",\"reverse\",\"confused\",\"italy\",\"response\",\"yellow\",\"dance\",\"contain\",\"vice\",\"editing\",\"acting\",\"weirdest\",\"feels\",\"govt\",\"accounting\",\"rise\",\"wise\",\"leaving\",\"lens\",\"artist\",\"arvind\",\"pattern\",\"scared\",\"attention\",\"airlines\",\"sky\",\"malaysia\",\"port\",\"attempt\",\"element\",\"classical\",\"shown\",\"safety\",\"including\",\"tablet\",\"la\",\"terrorism\",\"commit\",\"maps\",\"african\",\"viewed\",\"calling\",\"6s\",\"agent\",\"output\",\"justice\",\"don\",\"addiction\",\"lock\",\"vegetarian\",\"britain\",\"percent\",\"meditation\",\"ibps\",\"monthly\",\"writers\",\"forward\",\"stuff\",\"mr\",\"ready\",\"forgot\",\"flying\",\"recommended\",\"fields\",\"blind\",\"l\",\"hinduism\",\"desktop\",\"host\",\"tattoo\",\"maintain\",\"boards\",\"helpful\",\"semester\",\"load\",\"tier\",\"agree\",\"factor\",\"elon\",\"freshers\",\"sql\",\"cases\",\"exact\",\"confidence\",\"behavior\",\"hacked\",\"quotes\",\"hydrogen\",\"pakistani\",\"masturbate\",\"divided\",\"skill\",\"fine\",\"falling\",\"chess\",\"charging\",\"pages\",\"vector\",\"supporters\",\"waste\",\"sanders\",\"affordable\",\"unlock\",\"techniques\",\"wine\",\"keyboard\",\"cm\",\"wireless\",\"lawyer\",\"egg\",\"cope\",\"mindblowing\",\"recipe\",\"corruption\",\"scored\",\"secure\",\"teaching\",\"opposite\",\"educational\",\"bernie\",\"y\",\"library\",\"models\",\"kid\",\"stack\",\"separate\",\"19\",\"extremely\",\"properties\",\"cable\",\"magic\",\"removed\",\"computing\",\"hospital\",\"beer\",\"christians\",\"twice\",\"kg\",\"consulting\",\"whose\",\"serious\",\"petrol\",\"travelling\",\"revolution\",\"custom\",\"structures\",\"guide\",\"celebrate\",\"lenovo\",\"turned\",\"ielts\",\"grades\",\"fuel\",\"relative\",\"oracle\",\"academy\",\"lack\",\"passed\",\"relation\",\"values\",\"movement\",\"strategies\",\"eu\",\"emotional\",\"legs\",\"pokemon\",\"3g\",\"iran\",\"mostly\",\"jewish\",\"offered\",\"log\",\"hasnt\",\"explanation\",\"signal\",\"stores\",\"syllabus\",\"bits\",\"yoga\",\"weapons\",\"gods\",\"10000\",\"delivery\",\"gb\",\"sum\",\"letters\",\"venture\",\"selection\",\"winning\",\"35\",\"comment\",\"consequences\",\"sport\",\"items\",\"seems\",\"ring\",\"jealous\",\"laptops\",\"criteria\",\"fresh\",\"reference\",\"bitcoin\",\"infinite\",\"perform\",\"brazil\",\"density\",\"plans\",\"hosting\",\"clothing\",\"hong\",\"dying\",\"heavy\",\"steve\",\"gone\",\"damage\",\"missing\",\"ethical\",\"republican\",\"contacts\",\"activity\",\"electronic\",\"qualities\",\"piano\",\"hisher\",\"repair\",\"posts\",\"disease\",\"winter\",\"ten\",\"publish\",\"paint\",\"physically\",\"executive\",\"deposit\",\"elements\",\"xbox\",\"ceo\",\"visitors\",\"discovered\",\"tickets\",\"literature\",\"primary\",\"naturally\",\"senior\",\"u\",\"hardest\",\"debate\",\"frequency\",\"vietnam\",\"cry\",\"assistant\",\"gifts\",\"practical\",\"funny\",\"valid\",\"liberal\",\"refer\",\"beat\",\"shape\",\"institutes\",\"msc\",\"internal\",\"located\",\"significant\",\"scientists\",\"g\",\"ship\",\"proper\",\"independence\",\"added\",\"hes\",\"catch\",\"urine\",\"effectively\",\"named\",\"responsible\",\"strength\",\"whos\",\"immigration\",\"vehicle\",\"tesla\",\"kong\",\"meth\",\"england\",\"huge\",\"pizza\",\"rejected\",\"george\",\"fan\",\"salt\",\"browser\",\"sat\",\"loved\",\"fees\",\"walking\",\"symbol\",\"equity\",\"ubuntu\",\"alternatives\",\"theme\",\"virus\",\"manufacturing\",\"cutoff\",\"pure\",\"22\",\"introvert\",\"unable\",\"greek\",\"rice\",\"gst\",\"happening\",\"centre\",\"kiss\",\"prison\",\"bigger\",\"font\",\"construction\",\"exercises\",\"keeps\",\"gmat\",\"offers\",\"cross\",\"nasa\",\"unit\",\"advertising\",\"cup\",\"fixed\",\"limited\",\"billion\",\"subjects\",\"arts\",\"worlds\",\"stupid\",\"breaking\",\"funding\",\"tank\",\"generate\",\"efficient\",\"exists\",\"atheist\",\"entrepreneur\",\"direction\",\"broken\",\"offline\",\"firms\",\"station\",\"magnetic\",\"include\",\"aliens\",\"tinder\",\"logo\",\"photography\",\"worse\",\"besides\",\"path\",\"somebody\",\"interviews\",\"persons\",\"figure\",\"placed\",\"nation\",\"knows\",\"unmarried\",\"hp\",\"profitable\",\"tricks\",\"boss\",\"reply\",\"scam\",\"circle\",\"processor\",\"debt\",\"growing\",\"royal\",\"fiction\",\"department\",\"mistake\",\"weird\",\"graphics\",\"external\",\"article\",\"volume\",\"scratch\",\"chain\",\"protect\",\"storage\",\"texas\",\"liquid\",\"circuit\",\"graphic\",\"tired\",\"weather\",\"oxygen\",\"velocity\",\"dad\",\"band\",\"teachers\",\"drugs\",\"complex\",\"studio\",\"accenture\",\"leader\",\"levels\",\"goal\",\"logic\",\"acne\",\"plastic\",\"motion\",\"button\",\"peoples\",\"vision\",\"gap\",\"dollar\",\"computers\",\"stomach\",\"sources\",\"constant\",\"draw\",\"dress\",\"calculated\",\"sort\",\"3rd\",\"club\",\"channels\",\"creating\",\"candidates\",\"kejriwal\",\"broke\",\"sentences\",\"format\",\"emails\",\"raw\",\"stanford\",\"completed\",\"documents\",\"pan\",\"showing\",\"enter\",\"unknown\",\"bought\",\"router\",\"claim\",\"six\",\"technologies\",\"\\u20b9\",\"flipkart\",\"infosys\",\"mutual\",\"angry\",\"iits\",\"affected\",\"prices\",\"shares\",\"naruto\",\"processing\",\"finding\",\"democratic\",\"evolution\",\"harmful\",\"dual\",\"virtual\",\"member\",\"wave\",\"actual\",\"extra\",\"radio\",\"citizens\",\"e\",\"hr\",\"previous\",\"stopped\",\"walk\",\"redmi\",\"speaker\",\"torrent\",\"smoke\",\"mistakes\",\"flash\",\"iron\",\"entire\",\"individual\",\"express\",\"flow\",\"mode\",\"aircraft\",\"section\",\"planets\",\"10th\",\"respond\",\"easier\",\"evil\",\"percentile\",\"seeing\",\"calories\",\"upgrade\",\"professor\",\"v\",\"launch\",\"staff\",\"till\",\"silicon\",\"entry\",\"constitution\",\"century\",\"notice\",\"ie\",\"atheists\",\"tests\",\"21\",\"became\",\"kerala\",\"truly\",\"count\",\"essay\",\"papers\",\"accurate\",\"colors\",\"respect\",\"ideal\",\"rock\",\"reliance\",\"peace\",\"masturbation\",\"audio\",\"random\",\"independent\",\"colour\",\"hotels\",\"presidency\",\"generation\",\"paypal\",\"shot\",\"central\",\"released\",\"occur\",\"display\",\"industrial\",\"particular\",\"risk\",\"eg\",\"belly\",\"pet\",\"similarities\",\"organic\",\"marijuana\",\"networks\",\"aspects\",\"flat\",\"d\",\"comments\",\"nose\",\"identify\",\"rbi\",\"improvement\",\"directly\",\"framework\",\"suggestions\",\"designing\",\"brands\",\"religious\",\"influence\",\"novels\",\"statistics\",\"historical\",\"ground\",\"commerce\",\"pregnancy\",\"romantic\",\"failure\",\"wearing\",\"john\",\"apart\",\"bay\",\"symptoms\",\"200\",\"couple\",\"60\",\"canadian\",\"lie\",\"print\",\"carry\",\"gender\",\"experienced\",\"pounds\",\"reservation\",\"either\",\"stage\",\"artificial\",\"fit\",\"blogs\",\"developing\",\"environment\",\"learned\",\"copy\",\"phase\",\"bond\",\"democracy\",\"cgpa\",\"operating\",\"surface\",\"officers\",\"h1b\",\"ip\",\"workout\",\"fee\",\"elected\",\"hands\",\"largest\",\"sad\",\"shouldnt\",\"seat\",\"sister\",\"developers\",\"despite\",\"scene\",\"po\",\"diploma\",\"request\",\"empire\",\"ratio\",\"considering\",\"academic\",\"tree\",\"register\",\"advantage\",\"eligible\",\"nit\",\"shop\",\"intel\",\"funniest\",\"alternative\",\"fail\",\"ads\",\"nature\",\"miss\",\"involved\",\"overrated\",\"attend\",\"freedom\",\"dna\",\"beginners\",\"raise\",\"dry\",\"failed\",\"legally\",\"batman\",\"upload\",\"carbon\",\"regret\",\"applied\",\"points\",\"investors\",\"pick\",\"equivalent\",\"connected\",\"christmas\",\"lyrics\",\"nations\",\"caused\",\"bsc\",\"1st\",\"action\",\"activities\",\"biology\",\"hide\",\"asia\",\"takes\",\"require\",\"alive\",\"mom\",\"cycle\",\"generally\",\"campaign\",\"fair\",\"wake\",\"bit\",\"rules\",\"olympics\",\"racist\",\"areas\",\"eggs\",\"feature\",\"sap\",\"taxes\",\"ad\",\"shall\",\"theyre\",\"species\",\"pilot\",\"firm\",\"fish\",\"define\",\"doctors\",\"piece\",\"itself\",\"bang\",\"solutions\",\"iim\",\"2013\",\"wanted\",\"length\",\"burn\",\"waves\",\"bar\",\"gives\",\"forces\",\"christian\",\"anybody\",\"relationships\",\"nice\",\"wedding\",\"various\",\"brother\",\"films\",\"cream\",\"suddenly\",\"philippines\",\"fashion\",\"truth\",\"gpa\",\"cgl\",\"tall\",\"goa\",\"hacking\",\"statement\",\"reset\",\"materials\",\"played\",\"match\",\"usb\",\"novel\",\"unusual\",\"knowing\",\"selected\",\"valley\",\"chrome\",\"couples\",\"becomes\",\"died\",\"cheating\",\"community\",\"groups\",\"category\",\"pursuing\",\"writer\",\"mexico\",\"anymore\",\"sugar\",\"climate\",\"brown\",\"players\",\"ii\",\"reviews\",\"took\",\"led\",\"connection\",\"begin\",\"html\",\"changing\",\"received\",\"plants\",\"debit\",\"record\",\"revenue\",\"mars\",\"strongest\",\"members\",\"formed\",\"union\",\"thought\",\"existence\",\"kashmir\",\"gandhi\",\"pdf\",\"banned\",\"0\",\"plane\",\"treated\",\"electricity\",\"scale\",\"basis\",\"moral\",\"images\",\"methods\",\"certification\",\"voltage\",\"style\",\"base\",\"excel\",\"amazing\",\"regarding\",\"result\",\"rates\",\"hold\",\"indias\",\"airport\",\"businesses\",\"feet\",\"built\",\"linkedin\",\"signs\",\"above\",\"networking\",\"r\",\"shopping\",\"looks\",\"went\",\"placements\",\"bed\",\"experiences\",\"daughter\",\"tourist\",\"employee\",\"caste\",\"wait\",\"direct\",\"especially\",\"feed\",\"continue\",\"expected\",\"algorithm\",\"depressed\",\"shoes\",\"soon\",\"supply\",\"stress\",\"24\",\"inr\",\"foods\",\"rent\",\"architecture\",\"ban\",\"entrance\",\"actors\",\"messenger\",\"unique\",\"kolkata\",\"funds\",\"rupee\",\"promote\",\"rupees\",\"jews\",\"23\",\"cook\",\"cultural\",\"accepted\",\"hear\",\"glass\",\"road\",\"joining\",\"measure\",\"havent\",\"metal\",\"resume\",\"afraid\",\"turkey\",\"meat\",\"goes\",\"installation\",\"netflix\",\"benefit\",\"demand\",\"release\",\"produce\",\"report\",\"cover\",\"changes\",\"double\",\"2nd\",\"reaction\",\"killed\",\"steel\",\"requirements\",\"france\",\"exchange\",\"ac\",\"quantum\",\"reliable\",\"box\",\"results\",\"lives\",\"treatment\",\"4g\",\"ece\",\"probability\",\"sleeping\",\"philosophy\",\"handle\",\"forget\",\"driver\",\"demonetization\",\"algorithms\",\"trade\",\"rule\",\"muscle\",\"calls\",\"tried\",\"mental\",\"sure\",\"quit\",\"navy\",\"achieve\",\"francisco\",\"location\",\"until\",\"sense\",\"anxiety\",\"wordpress\",\"focus\",\"fact\",\"production\",\"conversation\",\"motor\",\"five\",\"attracted\",\"hit\",\"analyst\",\"moto\",\"isis\",\"chicken\",\"sector\",\"permanent\",\"along\",\"king\",\"slow\",\"candidate\",\"minutes\",\"purchase\",\"gun\",\"selling\",\"usually\",\"\\u2026\",\"fly\",\"round\",\"panel\",\"error\",\"stocks\",\"api\",\"remember\",\"africa\",\"paying\",\"hitler\",\"3d\",\"regular\",\"losing\",\"mail\",\"yahoo\",\"cheapest\",\"older\",\"concept\",\"characters\",\"definition\",\"lines\",\"pm\",\"cloud\",\"cats\",\"russian\",\"ipad\",\"korean\",\"proof\",\"battle\",\"stars\",\"stream\",\"recent\",\"typical\",\"performance\",\"harvard\",\"restaurant\",\"origin\",\"listen\",\"smell\",\"decide\",\"serve\",\"undergraduate\",\"profit\",\"situation\",\"surgery\",\"asking\",\"plant\",\"link\",\"square\",\"completing\",\"four\",\"trust\",\"payment\",\"gym\",\"andor\",\"worklife\",\"guitar\",\"elections\",\"half\",\"investing\",\"scientist\",\"street\",\"needs\",\"native\",\"thoughts\",\"reality\",\"40\",\"medicine\",\"race\",\"choice\",\"longer\",\"came\",\"applying\",\"hiring\",\"west\",\"weed\",\"hacks\",\"step\",\"sea\",\"crime\",\"devices\",\"event\",\"citizen\",\"14\",\"17\",\"ticket\",\"fund\",\"equation\",\"suicide\",\"whom\",\"met\",\"almost\",\"designer\",\"local\",\"departments\",\"khan\",\"customer\",\"banking\",\"javascript\",\"trip\",\"issue\",\"react\",\"cannot\",\"dubai\",\"wall\",\"touch\",\"parts\",\"loves\",\"clothes\",\"straight\",\"sexual\",\"active\",\"inpatient\",\"dreams\",\"protein\",\"table\",\"exercise\",\"lord\",\"mtech\",\"creative\",\"ball\",\"speaking\",\"son\",\"receive\",\"dollars\",\"domain\",\"prospects\",\"hour\",\"graduation\",\"commercial\",\"themselves\",\"factors\",\"jesus\",\"programmer\",\"recommend\",\"replace\",\"chat\",\"placement\",\"episode\",\"fastest\",\"restaurants\",\"object\",\"drivers\",\"gaming\",\"mark\",\"taste\",\"seem\",\"perfect\",\"potential\",\"trumps\",\"appear\",\"rights\",\"equal\",\"rest\",\"package\",\"meant\",\"drop\",\"cool\",\"material\",\"potter\",\"events\",\"convince\",\"completely\",\"n\",\"zero\",\"significance\",\"lower\",\"feelings\",\"followers\",\"evidence\",\"certain\",\"later\",\"original\",\"bible\",\"disorder\",\"testing\",\"via\",\"stand\",\"actor\",\"characteristics\",\"cities\",\"reach\",\"ago\",\"mbbs\",\"speech\",\"electric\",\"approach\",\"scientific\",\"root\",\"analytics\",\"below\",\"grade\",\"mains\",\"topic\",\"fun\",\"ancient\",\"adult\",\"standard\",\"ice\",\"everyday\",\"population\",\"invented\",\"european\",\"intelligent\",\"11\",\"subject\",\"rehab\",\"background\",\"giving\",\"platform\",\"flight\",\"thrones\",\"maths\",\"dc\",\"teeth\",\"mit\",\"weeks\",\"east\",\"means\",\"programs\",\"beginner\",\"heat\",\"third\",\"tea\",\"range\",\"london\",\"maximum\",\"enjoy\",\"2000\",\"cells\",\"quickly\",\"here\",\"expensive\",\"phrase\",\"partner\",\"league\",\"anime\",\"latest\",\"specific\",\"whether\",\"functions\",\"os\",\"fire\",\"saying\",\"secret\",\"13\",\"planet\",\"hole\",\"super\",\"teacher\",\"strong\",\"accounts\",\"minister\",\"database\",\"economic\",\"channel\",\"estate\",\"ram\",\"switch\",\"asian\",\"smoking\",\"branch\",\"israel\",\"18\",\"features\",\"success\",\"lead\",\"total\",\"key\",\"master\",\"ok\",\"favourite\",\"psychology\",\"pok\\u00e9mon\",\"nothing\",\"clean\",\"25\",\"politics\",\"drinking\",\"sometimes\",\"recently\",\"korea\",\"sent\",\"poor\",\"hindu\",\"hollywood\",\"survive\",\"cure\",\"property\",\"return\",\"narendra\",\"budget\",\"sports\",\"limit\",\"arent\",\"boys\",\"driving\",\"whole\",\"cash\",\"smartphone\",\"php\",\"developed\",\"ssc\",\"hot\",\"attractive\",\"tool\",\"physical\",\"ecommerce\",\"sbi\",\"morning\",\"animal\",\"multiple\",\"loan\",\"acid\",\"fresher\",\"spanish\",\"moving\",\"decision\",\"county\",\"determined\",\"becoming\",\"seo\",\"summer\",\"manage\",\"server\",\"competitive\",\"milk\",\"importance\",\"banks\",\"cheap\",\"powerful\",\"issues\",\"penis\",\"according\",\"analysis\",\"bike\",\"position\",\"western\",\"advanced\",\"campus\",\"highest\",\"front\",\"court\",\"status\",\"gravity\",\"positions\",\"comes\",\"steps\",\"complete\",\"electronics\",\"won\",\"hurt\",\"certificate\",\"temperature\",\"player\",\"someones\",\"communication\",\"million\",\"talking\",\"preparing\",\"finance\",\"cancer\",\"9\",\"harry\",\"accept\",\"2014\",\"plus\",\"born\",\"tcs\",\"license\",\"bring\",\"teach\",\"practice\",\"trading\",\"m\",\"might\",\"opportunities\",\"global\",\"wish\",\"outside\",\"attack\",\"procedure\",\"needed\",\"update\",\"coffee\",\"provider\",\"rather\",\"16\",\"allow\",\"tamil\",\"mix\",\"connect\",\"room\",\"watching\",\"deep\",\"york\",\"image\",\"birth\",\"sign\",\"birthday\",\"playing\",\"wars\",\"grads\",\"hire\",\"phones\",\"cbse\",\"details\",\"clear\",\"cricket\",\"dangerous\",\"track\",\"corporate\",\"voice\",\"upsc\",\"content\",\"okay\",\"san\",\"heart\",\"far\",\"heard\",\"prove\",\"positive\",\"moment\",\"sales\",\"opinion\",\"engineers\",\"block\",\"diet\",\"coding\",\"core\",\"baby\",\"father\",\"little\",\"large\",\"blocked\",\"distance\",\"land\",\"simple\",\"husband\",\"told\",\"traffic\",\"prevent\",\"pictures\",\"planning\",\"fear\",\"classes\",\"towards\",\"technical\",\"building\",\"trying\",\"photo\",\"early\",\"uses\",\"sydney\",\"startups\",\"act\",\"id\",\"describe\",\"12th\",\"may\",\"formula\",\"gets\",\"present\",\"wont\",\"cut\",\"treat\",\"mathematics\",\"visiting\",\"eye\",\"policy\",\"close\",\"cse\",\"suitable\",\"version\",\"tools\",\"head\",\"minimum\",\"chennai\",\"easily\",\"method\",\"intelligence\",\"gre\",\"mother\",\"doctor\",\"macbook\",\"deleted\",\"gas\",\"suggest\",\"cards\",\"files\",\"loss\",\"art\",\"easiest\",\"late\",\"among\",\"together\",\"depression\",\"higher\",\"alone\",\"economics\",\"dead\",\"growth\",\"insurance\",\"gold\",\"necessary\",\"neet\",\"blog\",\"example\",\"memory\",\"crack\",\"consider\",\"works\",\"currency\",\"recruit\",\"pursue\",\"strategy\",\"young\",\"cs\",\"projects\",\"50\",\"manager\",\"abroad\",\"schools\",\"illegal\",\"inside\",\"stories\",\"hand\",\"t\",\"greatest\",\"personality\",\"galaxy\",\"device\",\"views\",\"user\",\"chemistry\",\"cars\",\"iq\",\"prefer\",\"picture\",\"nuclear\",\"middle\",\"applications\",\"gmail\",\"laws\",\"final\",\"capital\",\"kids\",\"society\",\"fake\",\"bill\",\"save\",\"though\",\"likely\",\"determine\",\"shows\",\"character\",\"snapchat\",\"youre\",\"eyes\",\"islam\",\"marry\",\"brand\",\"yet\",\"impact\",\"speak\",\"within\",\"rich\",\"resources\",\"net\",\"non\",\"pressure\",\"changed\",\"allowed\",\"obama\",\"cold\",\"running\",\"feeling\",\"jio\",\"football\",\"gift\",\"written\",\"buying\",\"mac\",\"spend\",\"prime\",\"blue\",\"train\",\"studies\",\"negative\",\"thinking\",\"solution\",\"sun\",\"least\",\"following\",\"install\",\"else\",\"muslims\",\"camera\",\"vote\",\"linux\",\"expect\",\"german\",\"recover\",\"starting\",\"crush\",\"coming\",\"muslim\",\"modern\",\"battery\",\"provide\",\"access\",\"presidential\",\"interest\",\"dating\",\"pro\",\"likes\",\"french\",\"singapore\",\"useful\",\"already\",\"professional\",\"percentage\",\"drink\",\"created\",\"board\",\"passport\",\"structure\",\"case\",\"height\",\"microsoft\",\"break\",\"screen\",\"names\",\"chance\",\"special\",\"30\",\"skin\",\"natural\",\"color\",\"interested\",\"amount\",\"pain\",\"healthy\",\"hack\",\"messages\",\"ias\",\"gay\",\"disadvantages\",\"pass\",\"moon\",\"systems\",\"hindi\",\"financial\",\"taken\",\"yes\",\"sim\",\"pregnant\",\"faster\",\"animals\",\"internship\",\"let\",\"photos\",\"balance\",\"sound\",\"due\",\"knowledge\",\"charge\",\"message\",\"officer\",\"solar\",\"military\",\"meet\",\"option\",\"reading\",\"across\",\"overcome\",\"everyone\",\"everything\",\"wife\",\"reduce\",\"chances\",\"samsung\",\"income\",\"bollywood\",\"season\",\"europe\",\"boy\",\"currently\",\"ex\",\"smart\",\"california\",\"engine\",\"paid\",\"army\",\"contact\",\"address\",\"wants\",\"ones\",\"gain\",\"reasons\",\"avoid\",\"please\",\"note\",\"known\",\"pune\",\"film\",\"national\",\"once\",\"users\",\"porn\",\"scope\",\"twitter\",\"drug\",\"rank\",\"japan\",\"fight\",\"transfer\",\"political\",\"green\",\"news\",\"self\",\"uber\",\"basic\",\"british\",\"religion\",\"hyderabad\",\"topics\",\"explain\",\"phd\",\"eating\",\"letter\",\"calculate\",\"ive\",\"tech\",\"personal\",\"japanese\",\"check\",\"hotel\",\"wifi\",\"beautiful\",\"difficult\",\"paper\",\"languages\",\"investment\",\"develop\",\"north\",\"electrical\",\"ios\",\"alcohol\",\"exactly\",\"profile\",\"past\",\"exams\",\"ca\",\"convert\",\"vs\",\"understand\",\"care\",\"dream\",\"try\",\"americans\",\"lost\",\"chemical\",\"source\",\"b\",\"admission\",\"easy\",\"must\",\"three\",\"effect\",\"view\",\"options\",\"page\",\"away\",\"red\",\"said\",\"line\",\"short\",\"happy\",\"security\",\"dark\",\"preparation\",\"second\",\"fat\",\"matter\",\"few\",\"since\",\"role\",\"pc\",\"office\",\"team\",\"delete\",\"cell\",\"election\",\"economy\",\"term\",\"dogs\",\"text\",\"female\",\"effective\",\"brain\",\"share\",\"digital\",\"btech\",\"russia\",\"\\u201c\",\"party\",\"numbers\",\"20\",\"store\",\"male\",\"mass\",\"turn\",\"left\",\"married\",\"rs\",\"taking\",\"those\",\"password\",\"follow\",\"advice\",\"isnt\",\"15\",\"types\",\"network\",\"\\u201d\",\"week\",\"purpose\",\"related\",\"fix\",\"started\",\"courses\",\"masters\",\"grow\",\"8\",\"fast\",\"leave\",\"100\",\"often\",\"found\",\"pros\",\"marriage\",\"cons\",\"quality\",\"words\",\"kill\",\"price\",\"near\",\"modi\",\"enough\",\"search\",\"python\",\"x\",\"blood\",\"math\",\"yourself\",\"drive\",\"size\",\"star\",\"graduate\",\"majors\",\"500\",\"model\",\"studying\",\"general\",\"oil\",\"colleges\",\"area\",\"developer\",\"germany\",\"industry\",\"full\",\"training\",\"says\",\"period\",\"videos\",\"universe\",\"fall\",\"daily\",\"information\",\"foreign\",\"credit\",\"force\",\"12\",\"youve\",\"south\",\"offer\",\"set\",\"add\",\"send\",\"australia\",\"center\",\"1000\",\"famous\",\"2015\",\"lot\",\"function\",\"tax\",\"correct\",\"solve\",\"advantages\",\"coaching\",\"institute\",\"effects\",\"guys\",\"again\",\"group\",\"hours\",\"side\",\"sentence\",\"low\",\"similar\",\"plan\",\"children\",\"answers\",\"talk\",\"marks\",\"ideas\",\"theory\",\"death\",\"compared\",\"night\",\"remove\",\"dog\",\"anything\",\"single\",\"successful\",\"gate\",\"indians\",\"put\",\"problems\",\"move\",\"writing\",\"point\",\"invest\",\"asked\",\"biggest\",\"others\",\"stock\",\"notes\",\"story\",\"machine\",\"private\",\"sell\",\"seen\",\"required\",\"field\",\"file\",\"rate\",\"humans\",\"application\",\"face\",\"sites\",\"mind\",\"facts\",\"mumbai\",\"post\",\"stay\",\"child\",\"terms\",\"products\",\"control\",\"legal\",\"police\",\"didnt\",\"level\",\"worst\",\"hate\",\"visit\",\"called\",\"amazon\",\"causes\",\"health\",\"form\",\"physics\",\"iit\",\"skills\",\"times\",\"medical\",\"based\",\"list\",\"websites\",\"die\",\"part\",\"less\",\"benefits\",\"apple\",\"instead\",\"these\",\"boyfriend\",\"sleep\",\"canada\",\"reason\",\"education\",\"cause\",\"jee\",\"value\",\"today\",\"media\",\"public\",\"happened\",\"product\",\"research\",\"main\",\"behind\",\"international\",\"project\",\"uk\",\"differ\",\"7\",\"places\",\"wear\",\"order\",\"date\",\"etc\",\"small\",\"songs\",\"apps\",\"email\",\"given\",\"wrong\",\"site\",\"normal\",\"culture\",\"also\",\"civil\",\"city\",\"available\",\"house\",\"exist\",\"startup\",\"services\",\"ms\",\"both\",\"down\",\"2017\",\"run\",\"cat\",\"well\",\"space\",\"join\",\"deal\",\"games\",\"visa\",\"rid\",\"air\",\"speed\",\"popular\",\"problem\",\"support\",\"current\",\"pakistan\",\"choose\",\"build\",\"idea\",\"america\",\"whatsapp\",\"affect\",\"law\",\"technology\",\"call\",\"6\",\"universities\",\"family\",\"marketing\",\"major\",\"actually\",\"favorite\",\"light\",\"bangalore\",\"woman\",\"because\",\"type\",\"program\",\"looking\",\"living\",\"open\",\"believe\",\"month\",\"able\",\"management\",\"travel\",\"degree\",\"show\",\"interesting\",\"score\",\"months\",\"series\",\"chinese\",\"development\",\"end\",\"code\",\"design\",\"per\",\"employees\",\"review\",\"clinton\",\"common\",\"kind\",\"internet\",\"song\",\"download\",\"course\",\"parents\",\"jobs\",\"such\",\"increase\",\"java\",\"god\",\"another\",\"united\",\"girlfriend\",\"mechanical\",\"always\",\"next\",\"never\",\"around\",\"tips\",\"mba\",\"myself\",\"hillary\",\"apply\",\"answer\",\"something\",\"considered\",\"making\",\"differences\",\"market\",\"compare\",\"great\",\"keep\",\"test\",\"s\",\"win\",\"against\",\"states\",\"earn\",\"youtube\",\"worth\",\"delhi\",\"energy\",\"laptop\",\"american\",\"lose\",\"each\",\"hard\",\"makes\",\"age\",\"ask\",\"safe\",\"body\",\"power\",\"salary\",\"4\",\"watch\",\"white\",\"windows\",\"instagram\",\"history\",\"pay\",\"every\",\"last\",\"create\",\"relationship\",\"music\",\"too\",\"meaning\",\"state\",\"average\",\"earth\",\"got\",\"process\",\"class\",\"tv\",\"eat\",\"done\",\"happens\",\"days\",\"big\",\"off\",\"improve\",\"future\",\"place\",\"man\",\"human\",\"government\",\"play\",\"countries\",\"food\",\"service\",\"students\",\"weight\",\"game\",\"engineer\",\"write\",\"very\",\"interview\",\"web\",\"tell\",\"social\",\"girls\",\"video\",\"look\",\"having\",\"guy\",\"home\",\"hair\",\"usa\",\"doesnt\",\"word\",\"bank\",\"friend\",\"true\",\"experience\",\"career\",\"president\",\"question\",\"own\",\"china\",\"come\",\"under\",\"working\",\"him\",\"doing\",\"donald\",\"friends\",\"right\",\"5\",\"cost\",\"mobile\",\"even\",\"movies\",\"then\",\"c\",\"\\u2019\",\"exam\",\"men\",\"learning\",\"card\",\"war\",\"read\",\"programming\",\"black\",\"anyone\",\"high\",\"10\",\"companies\",\"car\",\"getting\",\"give\",\"important\",\"questions\",\"cant\",\"iphone\",\"website\",\"top\",\"water\",\"prepare\",\"during\",\"real\",\"say\",\"system\",\"name\",\"through\",\"two\",\"1\",\"our\",\"study\",\"3\",\"university\",\"made\",\"back\",\"happen\",\"stop\",\"student\",\"sex\",\"bad\",\"language\",\"going\",\"same\",\"before\",\"software\",\"school\",\"live\",\"country\",\"android\",\"science\",\"help\",\"she\",\"see\",\"thing\",\"women\",\"over\",\"data\",\"examples\",\"computer\",\"had\",\"ways\",\"change\",\"while\",\"book\",\"english\",\"account\",\"still\",\"movie\",\"books\",\"2016\",\"facebook\",\"free\",\"number\",\"college\",\"app\",\"2\",\"just\",\"now\",\"no\",\"trump\",\"company\",\"only\",\"old\",\"been\",\"google\",\"phone\",\"long\",\"different\",\"girl\",\"his\",\"her\",\"years\",\"really\",\"them\",\"using\",\"business\",\"need\",\"being\",\"buy\",\"day\",\"person\",\"things\",\"possible\",\"could\",\"were\",\"its\",\"love\",\"engineering\",\"im\",\"used\",\"online\",\"go\",\"year\",\"he\",\"into\",\"feel\",\"dont\",\"first\",\"up\"]]]}}},\"view\":{\"type\":\"object\",\"name\":\"CDSView\",\"id\":\"p1045\",\"attributes\":{\"filter\":{\"type\":\"object\",\"name\":\"AllIndices\",\"id\":\"p1046\"}}},\"glyph\":{\"type\":\"object\",\"name\":\"Scatter\",\"id\":\"p1041\",\"attributes\":{\"x\":{\"type\":\"field\",\"field\":\"x\"},\"y\":{\"type\":\"field\",\"field\":\"y\"},\"size\":{\"type\":\"value\",\"value\":10},\"line_color\":{\"type\":\"field\",\"field\":\"color\"},\"line_alpha\":{\"type\":\"value\",\"value\":0.25},\"fill_color\":{\"type\":\"field\",\"field\":\"color\"},\"fill_alpha\":{\"type\":\"value\",\"value\":0.25},\"hatch_color\":{\"type\":\"field\",\"field\":\"color\"},\"hatch_alpha\":{\"type\":\"value\",\"value\":0.25}}},\"nonselection_glyph\":{\"type\":\"object\",\"name\":\"Scatter\",\"id\":\"p1042\",\"attributes\":{\"x\":{\"type\":\"field\",\"field\":\"x\"},\"y\":{\"type\":\"field\",\"field\":\"y\"},\"size\":{\"type\":\"value\",\"value\":10},\"line_color\":{\"type\":\"field\",\"field\":\"color\"},\"line_alpha\":{\"type\":\"value\",\"value\":0.1},\"fill_color\":{\"type\":\"field\",\"field\":\"color\"},\"fill_alpha\":{\"type\":\"value\",\"value\":0.1},\"hatch_color\":{\"type\":\"field\",\"field\":\"color\"},\"hatch_alpha\":{\"type\":\"value\",\"value\":0.1}}},\"muted_glyph\":{\"type\":\"object\",\"name\":\"Scatter\",\"id\":\"p1043\",\"attributes\":{\"x\":{\"type\":\"field\",\"field\":\"x\"},\"y\":{\"type\":\"field\",\"field\":\"y\"},\"size\":{\"type\":\"value\",\"value\":10},\"line_color\":{\"type\":\"field\",\"field\":\"color\"},\"line_alpha\":{\"type\":\"value\",\"value\":0.2},\"fill_color\":{\"type\":\"field\",\"field\":\"color\"},\"fill_alpha\":{\"type\":\"value\",\"value\":0.2},\"hatch_color\":{\"type\":\"field\",\"field\":\"color\"},\"hatch_alpha\":{\"type\":\"value\",\"value\":0.2}}}}}],\"toolbar\":{\"type\":\"object\",\"name\":\"Toolbar\",\"id\":\"p1012\",\"attributes\":{\"tools\":[{\"type\":\"object\",\"name\":\"PanTool\",\"id\":\"p1025\"},{\"type\":\"object\",\"name\":\"WheelZoomTool\",\"id\":\"p1026\",\"attributes\":{\"renderers\":\"auto\"}},{\"type\":\"object\",\"name\":\"BoxZoomTool\",\"id\":\"p1027\",\"attributes\":{\"dimensions\":\"both\",\"overlay\":{\"type\":\"object\",\"name\":\"BoxAnnotation\",\"id\":\"p1028\",\"attributes\":{\"syncable\":false,\"line_color\":\"black\",\"line_alpha\":1.0,\"line_width\":2,\"line_dash\":[4,4],\"fill_color\":\"lightgrey\",\"fill_alpha\":0.5,\"level\":\"overlay\",\"visible\":false,\"left\":{\"type\":\"number\",\"value\":\"nan\"},\"right\":{\"type\":\"number\",\"value\":\"nan\"},\"top\":{\"type\":\"number\",\"value\":\"nan\"},\"bottom\":{\"type\":\"number\",\"value\":\"nan\"},\"left_units\":\"canvas\",\"right_units\":\"canvas\",\"top_units\":\"canvas\",\"bottom_units\":\"canvas\",\"handles\":{\"type\":\"object\",\"name\":\"BoxInteractionHandles\",\"id\":\"p1034\",\"attributes\":{\"all\":{\"type\":\"object\",\"name\":\"AreaVisuals\",\"id\":\"p1033\",\"attributes\":{\"fill_color\":\"white\",\"hover_fill_color\":\"lightgray\"}}}}}}}},{\"type\":\"object\",\"name\":\"SaveTool\",\"id\":\"p1035\"},{\"type\":\"object\",\"name\":\"ResetTool\",\"id\":\"p1036\"},{\"type\":\"object\",\"name\":\"HelpTool\",\"id\":\"p1037\"},{\"type\":\"object\",\"name\":\"HoverTool\",\"id\":\"p1047\",\"attributes\":{\"renderers\":\"auto\",\"tooltips\":[[\"token\",\"@token\"]]}}],\"active_scroll\":{\"id\":\"p1026\"}}},\"left\":[{\"type\":\"object\",\"name\":\"LinearAxis\",\"id\":\"p1020\",\"attributes\":{\"ticker\":{\"type\":\"object\",\"name\":\"BasicTicker\",\"id\":\"p1021\",\"attributes\":{\"mantissas\":[1,2,5]}},\"formatter\":{\"type\":\"object\",\"name\":\"BasicTickFormatter\",\"id\":\"p1022\"},\"major_label_policy\":{\"type\":\"object\",\"name\":\"AllLabels\",\"id\":\"p1023\"}}}],\"below\":[{\"type\":\"object\",\"name\":\"LinearAxis\",\"id\":\"p1015\",\"attributes\":{\"ticker\":{\"type\":\"object\",\"name\":\"BasicTicker\",\"id\":\"p1016\",\"attributes\":{\"mantissas\":[1,2,5]}},\"formatter\":{\"type\":\"object\",\"name\":\"BasicTickFormatter\",\"id\":\"p1017\"},\"major_label_policy\":{\"type\":\"object\",\"name\":\"AllLabels\",\"id\":\"p1018\"}}}],\"center\":[{\"type\":\"object\",\"name\":\"Grid\",\"id\":\"p1019\",\"attributes\":{\"axis\":{\"id\":\"p1015\"}}},{\"type\":\"object\",\"name\":\"Grid\",\"id\":\"p1024\",\"attributes\":{\"dimension\":1,\"axis\":{\"id\":\"p1020\"}}}]}}]}};\n  const render_items = [{\"docid\":\"e6ed3a2c-2da8-49e0-92e0-6feb45b10127\",\"roots\":{\"p1004\":\"b341042e-5144-4a8b-8fe9-b5957e871036\"},\"root_ids\":[\"p1004\"]}];\n  void root.Bokeh.embed.embed_items_notebook(docs_json, render_items);\n  }\n  if (root.Bokeh !== undefined) {\n    embed_document(root);\n  } else {\n    let attempts = 0;\n    const timer = setInterval(function(root) {\n      if (root.Bokeh !== undefined) {\n        clearInterval(timer);\n        embed_document(root);\n      } else {\n        attempts++;\n        if (attempts > 100) {\n          clearInterval(timer);\n          console.log(\"Bokeh: ERROR: Unable to run BokehJS code because BokehJS library is missing\");\n        }\n      }\n    }, 10, root)\n  }\n})(window);",
      "application/vnd.bokehjs_exec.v0+json": ""
     },
     "metadata": {
      "application/vnd.bokehjs_exec.v0+json": {
       "id": "p1004"
      }
     },
     "output_type": "display_data"
    },
    {
     "data": {
      "text/html": [
       "<div style=\"display: table;\"><div style=\"display: table-row;\"><div style=\"display: table-cell;\"><b title=\"bokeh.plotting._figure.figure\">figure</b>(</div><div style=\"display: table-cell;\">id&nbsp;=&nbsp;'p1004', <span id=\"p1051\" style=\"cursor: pointer;\">&hellip;)</span></div></div><div class=\"p1050\" style=\"display: none;\"><div style=\"display: table-cell;\"></div><div style=\"display: table-cell;\">above&nbsp;=&nbsp;[],</div></div><div class=\"p1050\" style=\"display: none;\"><div style=\"display: table-cell;\"></div><div style=\"display: table-cell;\">align&nbsp;=&nbsp;'auto',</div></div><div class=\"p1050\" style=\"display: none;\"><div style=\"display: table-cell;\"></div><div style=\"display: table-cell;\">aspect_ratio&nbsp;=&nbsp;None,</div></div><div class=\"p1050\" style=\"display: none;\"><div style=\"display: table-cell;\"></div><div style=\"display: table-cell;\">aspect_scale&nbsp;=&nbsp;1,</div></div><div class=\"p1050\" style=\"display: none;\"><div style=\"display: table-cell;\"></div><div style=\"display: table-cell;\">attribution&nbsp;=&nbsp;[],</div></div><div class=\"p1050\" style=\"display: none;\"><div style=\"display: table-cell;\"></div><div style=\"display: table-cell;\">background_fill_alpha&nbsp;=&nbsp;1.0,</div></div><div class=\"p1050\" style=\"display: none;\"><div style=\"display: table-cell;\"></div><div style=\"display: table-cell;\">background_fill_color&nbsp;=&nbsp;'#ffffff',</div></div><div class=\"p1050\" style=\"display: none;\"><div style=\"display: table-cell;\"></div><div style=\"display: table-cell;\">background_hatch_alpha&nbsp;=&nbsp;1.0,</div></div><div class=\"p1050\" style=\"display: none;\"><div style=\"display: table-cell;\"></div><div style=\"display: table-cell;\">background_hatch_color&nbsp;=&nbsp;'black',</div></div><div class=\"p1050\" style=\"display: none;\"><div style=\"display: table-cell;\"></div><div style=\"display: table-cell;\">background_hatch_extra&nbsp;=&nbsp;{},</div></div><div class=\"p1050\" style=\"display: none;\"><div style=\"display: table-cell;\"></div><div style=\"display: table-cell;\">background_hatch_pattern&nbsp;=&nbsp;None,</div></div><div class=\"p1050\" style=\"display: none;\"><div style=\"display: table-cell;\"></div><div style=\"display: table-cell;\">background_hatch_scale&nbsp;=&nbsp;12.0,</div></div><div class=\"p1050\" style=\"display: none;\"><div style=\"display: table-cell;\"></div><div style=\"display: table-cell;\">background_hatch_weight&nbsp;=&nbsp;1.0,</div></div><div class=\"p1050\" style=\"display: none;\"><div style=\"display: table-cell;\"></div><div style=\"display: table-cell;\">below&nbsp;=&nbsp;[LinearAxis(id='p1015', ...)],</div></div><div class=\"p1050\" style=\"display: none;\"><div style=\"display: table-cell;\"></div><div style=\"display: table-cell;\">border_fill_alpha&nbsp;=&nbsp;1.0,</div></div><div class=\"p1050\" style=\"display: none;\"><div style=\"display: table-cell;\"></div><div style=\"display: table-cell;\">border_fill_color&nbsp;=&nbsp;'#ffffff',</div></div><div class=\"p1050\" style=\"display: none;\"><div style=\"display: table-cell;\"></div><div style=\"display: table-cell;\">border_hatch_alpha&nbsp;=&nbsp;1.0,</div></div><div class=\"p1050\" style=\"display: none;\"><div style=\"display: table-cell;\"></div><div style=\"display: table-cell;\">border_hatch_color&nbsp;=&nbsp;'black',</div></div><div class=\"p1050\" style=\"display: none;\"><div style=\"display: table-cell;\"></div><div style=\"display: table-cell;\">border_hatch_extra&nbsp;=&nbsp;{},</div></div><div class=\"p1050\" style=\"display: none;\"><div style=\"display: table-cell;\"></div><div style=\"display: table-cell;\">border_hatch_pattern&nbsp;=&nbsp;None,</div></div><div class=\"p1050\" style=\"display: none;\"><div style=\"display: table-cell;\"></div><div style=\"display: table-cell;\">border_hatch_scale&nbsp;=&nbsp;12.0,</div></div><div class=\"p1050\" style=\"display: none;\"><div style=\"display: table-cell;\"></div><div style=\"display: table-cell;\">border_hatch_weight&nbsp;=&nbsp;1.0,</div></div><div class=\"p1050\" style=\"display: none;\"><div style=\"display: table-cell;\"></div><div style=\"display: table-cell;\">center&nbsp;=&nbsp;[Grid(id='p1019', ...), Grid(id='p1024', ...)],</div></div><div class=\"p1050\" style=\"display: none;\"><div style=\"display: table-cell;\"></div><div style=\"display: table-cell;\">context_menu&nbsp;=&nbsp;'auto',</div></div><div class=\"p1050\" style=\"display: none;\"><div style=\"display: table-cell;\"></div><div style=\"display: table-cell;\">css_classes&nbsp;=&nbsp;[],</div></div><div class=\"p1050\" style=\"display: none;\"><div style=\"display: table-cell;\"></div><div style=\"display: table-cell;\">css_variables&nbsp;=&nbsp;{},</div></div><div class=\"p1050\" style=\"display: none;\"><div style=\"display: table-cell;\"></div><div style=\"display: table-cell;\">disabled&nbsp;=&nbsp;False,</div></div><div class=\"p1050\" style=\"display: none;\"><div style=\"display: table-cell;\"></div><div style=\"display: table-cell;\">elements&nbsp;=&nbsp;[],</div></div><div class=\"p1050\" style=\"display: none;\"><div style=\"display: table-cell;\"></div><div style=\"display: table-cell;\">extra_x_ranges&nbsp;=&nbsp;{},</div></div><div class=\"p1050\" style=\"display: none;\"><div style=\"display: table-cell;\"></div><div style=\"display: table-cell;\">extra_x_scales&nbsp;=&nbsp;{},</div></div><div class=\"p1050\" style=\"display: none;\"><div style=\"display: table-cell;\"></div><div style=\"display: table-cell;\">extra_y_ranges&nbsp;=&nbsp;{},</div></div><div class=\"p1050\" style=\"display: none;\"><div style=\"display: table-cell;\"></div><div style=\"display: table-cell;\">extra_y_scales&nbsp;=&nbsp;{},</div></div><div class=\"p1050\" style=\"display: none;\"><div style=\"display: table-cell;\"></div><div style=\"display: table-cell;\">flow_mode&nbsp;=&nbsp;'block',</div></div><div class=\"p1050\" style=\"display: none;\"><div style=\"display: table-cell;\"></div><div style=\"display: table-cell;\">frame_align&nbsp;=&nbsp;True,</div></div><div class=\"p1050\" style=\"display: none;\"><div style=\"display: table-cell;\"></div><div style=\"display: table-cell;\">frame_height&nbsp;=&nbsp;None,</div></div><div class=\"p1050\" style=\"display: none;\"><div style=\"display: table-cell;\"></div><div style=\"display: table-cell;\">frame_width&nbsp;=&nbsp;None,</div></div><div class=\"p1050\" style=\"display: none;\"><div style=\"display: table-cell;\"></div><div style=\"display: table-cell;\">height&nbsp;=&nbsp;400,</div></div><div class=\"p1050\" style=\"display: none;\"><div style=\"display: table-cell;\"></div><div style=\"display: table-cell;\">height_policy&nbsp;=&nbsp;'auto',</div></div><div class=\"p1050\" style=\"display: none;\"><div style=\"display: table-cell;\"></div><div style=\"display: table-cell;\">hidpi&nbsp;=&nbsp;True,</div></div><div class=\"p1050\" style=\"display: none;\"><div style=\"display: table-cell;\"></div><div style=\"display: table-cell;\">hold_render&nbsp;=&nbsp;False,</div></div><div class=\"p1050\" style=\"display: none;\"><div style=\"display: table-cell;\"></div><div style=\"display: table-cell;\">html_attributes&nbsp;=&nbsp;{},</div></div><div class=\"p1050\" style=\"display: none;\"><div style=\"display: table-cell;\"></div><div style=\"display: table-cell;\">html_id&nbsp;=&nbsp;None,</div></div><div class=\"p1050\" style=\"display: none;\"><div style=\"display: table-cell;\"></div><div style=\"display: table-cell;\">js_event_callbacks&nbsp;=&nbsp;{},</div></div><div class=\"p1050\" style=\"display: none;\"><div style=\"display: table-cell;\"></div><div style=\"display: table-cell;\">js_property_callbacks&nbsp;=&nbsp;{},</div></div><div class=\"p1050\" style=\"display: none;\"><div style=\"display: table-cell;\"></div><div style=\"display: table-cell;\">left&nbsp;=&nbsp;[LinearAxis(id='p1020', ...)],</div></div><div class=\"p1050\" style=\"display: none;\"><div style=\"display: table-cell;\"></div><div style=\"display: table-cell;\">lod_factor&nbsp;=&nbsp;10,</div></div><div class=\"p1050\" style=\"display: none;\"><div style=\"display: table-cell;\"></div><div style=\"display: table-cell;\">lod_interval&nbsp;=&nbsp;300,</div></div><div class=\"p1050\" style=\"display: none;\"><div style=\"display: table-cell;\"></div><div style=\"display: table-cell;\">lod_threshold&nbsp;=&nbsp;2000,</div></div><div class=\"p1050\" style=\"display: none;\"><div style=\"display: table-cell;\"></div><div style=\"display: table-cell;\">lod_timeout&nbsp;=&nbsp;500,</div></div><div class=\"p1050\" style=\"display: none;\"><div style=\"display: table-cell;\"></div><div style=\"display: table-cell;\">margin&nbsp;=&nbsp;None,</div></div><div class=\"p1050\" style=\"display: none;\"><div style=\"display: table-cell;\"></div><div style=\"display: table-cell;\">match_aspect&nbsp;=&nbsp;False,</div></div><div class=\"p1050\" style=\"display: none;\"><div style=\"display: table-cell;\"></div><div style=\"display: table-cell;\">max_height&nbsp;=&nbsp;None,</div></div><div class=\"p1050\" style=\"display: none;\"><div style=\"display: table-cell;\"></div><div style=\"display: table-cell;\">max_width&nbsp;=&nbsp;None,</div></div><div class=\"p1050\" style=\"display: none;\"><div style=\"display: table-cell;\"></div><div style=\"display: table-cell;\">min_border&nbsp;=&nbsp;5,</div></div><div class=\"p1050\" style=\"display: none;\"><div style=\"display: table-cell;\"></div><div style=\"display: table-cell;\">min_border_bottom&nbsp;=&nbsp;None,</div></div><div class=\"p1050\" style=\"display: none;\"><div style=\"display: table-cell;\"></div><div style=\"display: table-cell;\">min_border_left&nbsp;=&nbsp;None,</div></div><div class=\"p1050\" style=\"display: none;\"><div style=\"display: table-cell;\"></div><div style=\"display: table-cell;\">min_border_right&nbsp;=&nbsp;None,</div></div><div class=\"p1050\" style=\"display: none;\"><div style=\"display: table-cell;\"></div><div style=\"display: table-cell;\">min_border_top&nbsp;=&nbsp;None,</div></div><div class=\"p1050\" style=\"display: none;\"><div style=\"display: table-cell;\"></div><div style=\"display: table-cell;\">min_height&nbsp;=&nbsp;None,</div></div><div class=\"p1050\" style=\"display: none;\"><div style=\"display: table-cell;\"></div><div style=\"display: table-cell;\">min_width&nbsp;=&nbsp;None,</div></div><div class=\"p1050\" style=\"display: none;\"><div style=\"display: table-cell;\"></div><div style=\"display: table-cell;\">name&nbsp;=&nbsp;None,</div></div><div class=\"p1050\" style=\"display: none;\"><div style=\"display: table-cell;\"></div><div style=\"display: table-cell;\">outline_line_alpha&nbsp;=&nbsp;1.0,</div></div><div class=\"p1050\" style=\"display: none;\"><div style=\"display: table-cell;\"></div><div style=\"display: table-cell;\">outline_line_cap&nbsp;=&nbsp;'butt',</div></div><div class=\"p1050\" style=\"display: none;\"><div style=\"display: table-cell;\"></div><div style=\"display: table-cell;\">outline_line_color&nbsp;=&nbsp;'#e5e5e5',</div></div><div class=\"p1050\" style=\"display: none;\"><div style=\"display: table-cell;\"></div><div style=\"display: table-cell;\">outline_line_dash&nbsp;=&nbsp;[],</div></div><div class=\"p1050\" style=\"display: none;\"><div style=\"display: table-cell;\"></div><div style=\"display: table-cell;\">outline_line_dash_offset&nbsp;=&nbsp;0,</div></div><div class=\"p1050\" style=\"display: none;\"><div style=\"display: table-cell;\"></div><div style=\"display: table-cell;\">outline_line_join&nbsp;=&nbsp;'bevel',</div></div><div class=\"p1050\" style=\"display: none;\"><div style=\"display: table-cell;\"></div><div style=\"display: table-cell;\">outline_line_width&nbsp;=&nbsp;1,</div></div><div class=\"p1050\" style=\"display: none;\"><div style=\"display: table-cell;\"></div><div style=\"display: table-cell;\">output_backend&nbsp;=&nbsp;'canvas',</div></div><div class=\"p1050\" style=\"display: none;\"><div style=\"display: table-cell;\"></div><div style=\"display: table-cell;\">renderers&nbsp;=&nbsp;[GlyphRenderer(id='p1044', ...)],</div></div><div class=\"p1050\" style=\"display: none;\"><div style=\"display: table-cell;\"></div><div style=\"display: table-cell;\">reset_policy&nbsp;=&nbsp;'standard',</div></div><div class=\"p1050\" style=\"display: none;\"><div style=\"display: table-cell;\"></div><div style=\"display: table-cell;\">resizable&nbsp;=&nbsp;False,</div></div><div class=\"p1050\" style=\"display: none;\"><div style=\"display: table-cell;\"></div><div style=\"display: table-cell;\">right&nbsp;=&nbsp;[],</div></div><div class=\"p1050\" style=\"display: none;\"><div style=\"display: table-cell;\"></div><div style=\"display: table-cell;\">sizing_mode&nbsp;=&nbsp;None,</div></div><div class=\"p1050\" style=\"display: none;\"><div style=\"display: table-cell;\"></div><div style=\"display: table-cell;\">styles&nbsp;=&nbsp;{},</div></div><div class=\"p1050\" style=\"display: none;\"><div style=\"display: table-cell;\"></div><div style=\"display: table-cell;\">stylesheets&nbsp;=&nbsp;[],</div></div><div class=\"p1050\" style=\"display: none;\"><div style=\"display: table-cell;\"></div><div style=\"display: table-cell;\">subscribed_events&nbsp;=&nbsp;PropertyValueSet(),</div></div><div class=\"p1050\" style=\"display: none;\"><div style=\"display: table-cell;\"></div><div style=\"display: table-cell;\">syncable&nbsp;=&nbsp;True,</div></div><div class=\"p1050\" style=\"display: none;\"><div style=\"display: table-cell;\"></div><div style=\"display: table-cell;\">tags&nbsp;=&nbsp;[],</div></div><div class=\"p1050\" style=\"display: none;\"><div style=\"display: table-cell;\"></div><div style=\"display: table-cell;\">title&nbsp;=&nbsp;Title(id='p1011', ...),</div></div><div class=\"p1050\" style=\"display: none;\"><div style=\"display: table-cell;\"></div><div style=\"display: table-cell;\">title_location&nbsp;=&nbsp;'above',</div></div><div class=\"p1050\" style=\"display: none;\"><div style=\"display: table-cell;\"></div><div style=\"display: table-cell;\">toolbar&nbsp;=&nbsp;Toolbar(id='p1012', ...),</div></div><div class=\"p1050\" style=\"display: none;\"><div style=\"display: table-cell;\"></div><div style=\"display: table-cell;\">toolbar_inner&nbsp;=&nbsp;False,</div></div><div class=\"p1050\" style=\"display: none;\"><div style=\"display: table-cell;\"></div><div style=\"display: table-cell;\">toolbar_location&nbsp;=&nbsp;'right',</div></div><div class=\"p1050\" style=\"display: none;\"><div style=\"display: table-cell;\"></div><div style=\"display: table-cell;\">toolbar_sticky&nbsp;=&nbsp;True,</div></div><div class=\"p1050\" style=\"display: none;\"><div style=\"display: table-cell;\"></div><div style=\"display: table-cell;\">visible&nbsp;=&nbsp;True,</div></div><div class=\"p1050\" style=\"display: none;\"><div style=\"display: table-cell;\"></div><div style=\"display: table-cell;\">width&nbsp;=&nbsp;600,</div></div><div class=\"p1050\" style=\"display: none;\"><div style=\"display: table-cell;\"></div><div style=\"display: table-cell;\">width_policy&nbsp;=&nbsp;'auto',</div></div><div class=\"p1050\" style=\"display: none;\"><div style=\"display: table-cell;\"></div><div style=\"display: table-cell;\">window_axis&nbsp;=&nbsp;'none',</div></div><div class=\"p1050\" style=\"display: none;\"><div style=\"display: table-cell;\"></div><div style=\"display: table-cell;\">x_range&nbsp;=&nbsp;DataRange1d(id='p1005', ...),</div></div><div class=\"p1050\" style=\"display: none;\"><div style=\"display: table-cell;\"></div><div style=\"display: table-cell;\">x_scale&nbsp;=&nbsp;LinearScale(id='p1013', ...),</div></div><div class=\"p1050\" style=\"display: none;\"><div style=\"display: table-cell;\"></div><div style=\"display: table-cell;\">y_range&nbsp;=&nbsp;DataRange1d(id='p1006', ...),</div></div><div class=\"p1050\" style=\"display: none;\"><div style=\"display: table-cell;\"></div><div style=\"display: table-cell;\">y_scale&nbsp;=&nbsp;LinearScale(id='p1014', ...))</div></div></div>\n",
       "<script>\n",
       "(function() {\n",
       "  let expanded = false;\n",
       "  const ellipsis = document.getElementById(\"p1051\");\n",
       "  ellipsis.addEventListener(\"click\", function() {\n",
       "    const rows = document.getElementsByClassName(\"p1050\");\n",
       "    for (let i = 0; i < rows.length; i++) {\n",
       "      const el = rows[i];\n",
       "      el.style.display = expanded ? \"none\" : \"table-row\";\n",
       "    }\n",
       "    ellipsis.innerHTML = expanded ? \"&hellip;)\" : \"&lsaquo;&lsaquo;&lsaquo;\";\n",
       "    expanded = !expanded;\n",
       "  });\n",
       "})();\n",
       "</script>\n"
      ],
      "text/plain": [
       "figure(id='p1004', ...)"
      ]
     },
     "execution_count": 102,
     "metadata": {},
     "output_type": "execute_result"
    }
   ],
   "source": [
    "draw_vectors(embedding[:, 0], embedding[:, 1], token=top_words)"
   ]
  },
  {
   "cell_type": "markdown",
   "metadata": {},
   "source": [
    "Для сдачи задания необходимо загрузить функции `subsample_frequent_words` и `get_negative_sampling_prob`, а также сгенерировать файл для посылки ниже и приложить в соответствующую задачу. Успехов!"
   ]
  },
  {
   "cell_type": "code",
   "execution_count": 103,
   "metadata": {},
   "outputs": [
    {
     "name": "stdout",
     "output_type": "stream",
     "text": [
      "File saved to `submission_dict.json`\n"
     ]
    }
   ],
   "source": [
    "# do not change the code in the block below\n",
    "# __________start of block__________\n",
    "import os\n",
    "import json\n",
    "\n",
    "assert os.path.exists(\n",
    "    \"words_subset.txt\"\n",
    "), \"Please, download `words_subset.txt` and place it in the working directory\"\n",
    "\n",
    "with open(\"words_subset.txt\") as iofile:\n",
    "    selected_words = iofile.read().split(\"\\n\")\n",
    "\n",
    "\n",
    "def get_matrix_for_selected_words(selected_words, embedding_matrix, word_to_index):\n",
    "    word_vectors = []\n",
    "    for word in selected_words:\n",
    "        index = word_to_index.get(word, None)\n",
    "        vector = [0.0] * embedding_matrix.shape[1]\n",
    "        if index is not None:\n",
    "            vector = embedding_matrix[index].numpy().tolist()\n",
    "        word_vectors.append(vector)\n",
    "    return word_vectors\n",
    "\n",
    "\n",
    "word_vectors = get_matrix_for_selected_words(\n",
    "    selected_words, embedding_matrix_context, word_to_index\n",
    ")\n",
    "\n",
    "with open(\"submission_dict.json\", \"w\") as iofile:\n",
    "    json.dump(word_vectors, iofile)\n",
    "print(\"File saved to `submission_dict.json`\")\n",
    "# __________end of block__________"
   ]
  }
 ],
 "metadata": {
  "colab": {
   "provenance": []
  },
  "kernelspec": {
   "display_name": "venv",
   "language": "python",
   "name": "python3"
  },
  "language_info": {
   "codemirror_mode": {
    "name": "ipython",
    "version": 3
   },
   "file_extension": ".py",
   "mimetype": "text/x-python",
   "name": "python",
   "nbconvert_exporter": "python",
   "pygments_lexer": "ipython3",
   "version": "3.13.2"
  }
 },
 "nbformat": 4,
 "nbformat_minor": 0
}
